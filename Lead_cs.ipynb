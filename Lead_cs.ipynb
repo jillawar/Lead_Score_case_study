{
 "cells": [
  {
   "cell_type": "code",
   "execution_count": 1,
   "id": "191868bc-65d9-43b4-8995-43eb0421f116",
   "metadata": {},
   "outputs": [],
   "source": [
    "# Suppressing Warnings\n",
    "import warnings\n",
    "warnings.filterwarnings('ignore')\n",
    "# Importing Pandas and NumPy\n",
    "import pandas as pd, numpy as np\n",
    "from sklearn.model_selection import train_test_split\n",
    "from sklearn.preprocessing import StandardScaler,MinMaxScaler\n",
    "import matplotlib.pyplot as plt\n",
    "import seaborn as sns\n",
    "%matplotlib inline\n",
    "import statsmodels.api as sm\n",
    "from sklearn.linear_model import LogisticRegression\n",
    "from sklearn.feature_selection import RFE\n",
    "from sklearn import metrics\n",
    "from statsmodels.stats.outliers_influence import variance_inflation_factor\n",
    "from sklearn.metrics import precision_score, recall_score\n",
    "from sklearn.metrics import precision_recall_curve\n",
    "from sklearn import preprocessing\n",
    "from sklearn.preprocessing import LabelEncoder\n",
    "from sklearn.metrics import accuracy_score, confusion_matrix, classification_report\n"
   ]
  },
  {
   "cell_type": "code",
   "execution_count": null,
   "id": "f0c3c1d5-8832-4ce6-b23e-68e273afc0ba",
   "metadata": {},
   "outputs": [],
   "source": []
  },
  {
   "cell_type": "code",
   "execution_count": 2,
   "id": "746f5101-56f7-4029-af2d-f3a2b03d387e",
   "metadata": {},
   "outputs": [
    {
     "data": {
      "text/html": [
       "<div>\n",
       "<style scoped>\n",
       "    .dataframe tbody tr th:only-of-type {\n",
       "        vertical-align: middle;\n",
       "    }\n",
       "\n",
       "    .dataframe tbody tr th {\n",
       "        vertical-align: top;\n",
       "    }\n",
       "\n",
       "    .dataframe thead th {\n",
       "        text-align: right;\n",
       "    }\n",
       "</style>\n",
       "<table border=\"1\" class=\"dataframe\">\n",
       "  <thead>\n",
       "    <tr style=\"text-align: right;\">\n",
       "      <th></th>\n",
       "      <th>Prospect ID</th>\n",
       "      <th>Lead Number</th>\n",
       "      <th>Lead Origin</th>\n",
       "      <th>Lead Source</th>\n",
       "      <th>Do Not Email</th>\n",
       "      <th>Do Not Call</th>\n",
       "      <th>Converted</th>\n",
       "      <th>TotalVisits</th>\n",
       "      <th>Total Time Spent on Website</th>\n",
       "      <th>Page Views Per Visit</th>\n",
       "      <th>...</th>\n",
       "      <th>Get updates on DM Content</th>\n",
       "      <th>Lead Profile</th>\n",
       "      <th>City</th>\n",
       "      <th>Asymmetrique Activity Index</th>\n",
       "      <th>Asymmetrique Profile Index</th>\n",
       "      <th>Asymmetrique Activity Score</th>\n",
       "      <th>Asymmetrique Profile Score</th>\n",
       "      <th>I agree to pay the amount through cheque</th>\n",
       "      <th>A free copy of Mastering The Interview</th>\n",
       "      <th>Last Notable Activity</th>\n",
       "    </tr>\n",
       "  </thead>\n",
       "  <tbody>\n",
       "    <tr>\n",
       "      <th>0</th>\n",
       "      <td>7927b2df-8bba-4d29-b9a2-b6e0beafe620</td>\n",
       "      <td>660737</td>\n",
       "      <td>API</td>\n",
       "      <td>Olark Chat</td>\n",
       "      <td>No</td>\n",
       "      <td>No</td>\n",
       "      <td>0</td>\n",
       "      <td>0.0</td>\n",
       "      <td>0</td>\n",
       "      <td>0.0</td>\n",
       "      <td>...</td>\n",
       "      <td>No</td>\n",
       "      <td>Select</td>\n",
       "      <td>Select</td>\n",
       "      <td>02.Medium</td>\n",
       "      <td>02.Medium</td>\n",
       "      <td>15.0</td>\n",
       "      <td>15.0</td>\n",
       "      <td>No</td>\n",
       "      <td>No</td>\n",
       "      <td>Modified</td>\n",
       "    </tr>\n",
       "    <tr>\n",
       "      <th>1</th>\n",
       "      <td>2a272436-5132-4136-86fa-dcc88c88f482</td>\n",
       "      <td>660728</td>\n",
       "      <td>API</td>\n",
       "      <td>Organic Search</td>\n",
       "      <td>No</td>\n",
       "      <td>No</td>\n",
       "      <td>0</td>\n",
       "      <td>5.0</td>\n",
       "      <td>674</td>\n",
       "      <td>2.5</td>\n",
       "      <td>...</td>\n",
       "      <td>No</td>\n",
       "      <td>Select</td>\n",
       "      <td>Select</td>\n",
       "      <td>02.Medium</td>\n",
       "      <td>02.Medium</td>\n",
       "      <td>15.0</td>\n",
       "      <td>15.0</td>\n",
       "      <td>No</td>\n",
       "      <td>No</td>\n",
       "      <td>Email Opened</td>\n",
       "    </tr>\n",
       "    <tr>\n",
       "      <th>2</th>\n",
       "      <td>8cc8c611-a219-4f35-ad23-fdfd2656bd8a</td>\n",
       "      <td>660727</td>\n",
       "      <td>Landing Page Submission</td>\n",
       "      <td>Direct Traffic</td>\n",
       "      <td>No</td>\n",
       "      <td>No</td>\n",
       "      <td>1</td>\n",
       "      <td>2.0</td>\n",
       "      <td>1532</td>\n",
       "      <td>2.0</td>\n",
       "      <td>...</td>\n",
       "      <td>No</td>\n",
       "      <td>Potential Lead</td>\n",
       "      <td>Mumbai</td>\n",
       "      <td>02.Medium</td>\n",
       "      <td>01.High</td>\n",
       "      <td>14.0</td>\n",
       "      <td>20.0</td>\n",
       "      <td>No</td>\n",
       "      <td>Yes</td>\n",
       "      <td>Email Opened</td>\n",
       "    </tr>\n",
       "    <tr>\n",
       "      <th>3</th>\n",
       "      <td>0cc2df48-7cf4-4e39-9de9-19797f9b38cc</td>\n",
       "      <td>660719</td>\n",
       "      <td>Landing Page Submission</td>\n",
       "      <td>Direct Traffic</td>\n",
       "      <td>No</td>\n",
       "      <td>No</td>\n",
       "      <td>0</td>\n",
       "      <td>1.0</td>\n",
       "      <td>305</td>\n",
       "      <td>1.0</td>\n",
       "      <td>...</td>\n",
       "      <td>No</td>\n",
       "      <td>Select</td>\n",
       "      <td>Mumbai</td>\n",
       "      <td>02.Medium</td>\n",
       "      <td>01.High</td>\n",
       "      <td>13.0</td>\n",
       "      <td>17.0</td>\n",
       "      <td>No</td>\n",
       "      <td>No</td>\n",
       "      <td>Modified</td>\n",
       "    </tr>\n",
       "    <tr>\n",
       "      <th>4</th>\n",
       "      <td>3256f628-e534-4826-9d63-4a8b88782852</td>\n",
       "      <td>660681</td>\n",
       "      <td>Landing Page Submission</td>\n",
       "      <td>Google</td>\n",
       "      <td>No</td>\n",
       "      <td>No</td>\n",
       "      <td>1</td>\n",
       "      <td>2.0</td>\n",
       "      <td>1428</td>\n",
       "      <td>1.0</td>\n",
       "      <td>...</td>\n",
       "      <td>No</td>\n",
       "      <td>Select</td>\n",
       "      <td>Mumbai</td>\n",
       "      <td>02.Medium</td>\n",
       "      <td>01.High</td>\n",
       "      <td>15.0</td>\n",
       "      <td>18.0</td>\n",
       "      <td>No</td>\n",
       "      <td>No</td>\n",
       "      <td>Modified</td>\n",
       "    </tr>\n",
       "  </tbody>\n",
       "</table>\n",
       "<p>5 rows × 37 columns</p>\n",
       "</div>"
      ],
      "text/plain": [
       "                            Prospect ID  Lead Number              Lead Origin  \\\n",
       "0  7927b2df-8bba-4d29-b9a2-b6e0beafe620       660737                      API   \n",
       "1  2a272436-5132-4136-86fa-dcc88c88f482       660728                      API   \n",
       "2  8cc8c611-a219-4f35-ad23-fdfd2656bd8a       660727  Landing Page Submission   \n",
       "3  0cc2df48-7cf4-4e39-9de9-19797f9b38cc       660719  Landing Page Submission   \n",
       "4  3256f628-e534-4826-9d63-4a8b88782852       660681  Landing Page Submission   \n",
       "\n",
       "      Lead Source Do Not Email Do Not Call  Converted  TotalVisits  \\\n",
       "0      Olark Chat           No          No          0          0.0   \n",
       "1  Organic Search           No          No          0          5.0   \n",
       "2  Direct Traffic           No          No          1          2.0   \n",
       "3  Direct Traffic           No          No          0          1.0   \n",
       "4          Google           No          No          1          2.0   \n",
       "\n",
       "   Total Time Spent on Website  Page Views Per Visit  ...  \\\n",
       "0                            0                   0.0  ...   \n",
       "1                          674                   2.5  ...   \n",
       "2                         1532                   2.0  ...   \n",
       "3                          305                   1.0  ...   \n",
       "4                         1428                   1.0  ...   \n",
       "\n",
       "  Get updates on DM Content    Lead Profile    City  \\\n",
       "0                        No          Select  Select   \n",
       "1                        No          Select  Select   \n",
       "2                        No  Potential Lead  Mumbai   \n",
       "3                        No          Select  Mumbai   \n",
       "4                        No          Select  Mumbai   \n",
       "\n",
       "  Asymmetrique Activity Index Asymmetrique Profile Index  \\\n",
       "0                   02.Medium                  02.Medium   \n",
       "1                   02.Medium                  02.Medium   \n",
       "2                   02.Medium                    01.High   \n",
       "3                   02.Medium                    01.High   \n",
       "4                   02.Medium                    01.High   \n",
       "\n",
       "  Asymmetrique Activity Score Asymmetrique Profile Score  \\\n",
       "0                        15.0                       15.0   \n",
       "1                        15.0                       15.0   \n",
       "2                        14.0                       20.0   \n",
       "3                        13.0                       17.0   \n",
       "4                        15.0                       18.0   \n",
       "\n",
       "  I agree to pay the amount through cheque  \\\n",
       "0                                       No   \n",
       "1                                       No   \n",
       "2                                       No   \n",
       "3                                       No   \n",
       "4                                       No   \n",
       "\n",
       "  A free copy of Mastering The Interview Last Notable Activity  \n",
       "0                                     No              Modified  \n",
       "1                                     No          Email Opened  \n",
       "2                                    Yes          Email Opened  \n",
       "3                                     No              Modified  \n",
       "4                                     No              Modified  \n",
       "\n",
       "[5 rows x 37 columns]"
      ]
     },
     "execution_count": 2,
     "metadata": {},
     "output_type": "execute_result"
    }
   ],
   "source": [
    "lead_data=pd.read_csv('Leads.csv')\n",
    "lead_data.head()"
   ]
  },
  {
   "cell_type": "code",
   "execution_count": null,
   "id": "3dc12130-ef6c-464d-870f-3c0ecc014d0a",
   "metadata": {},
   "outputs": [],
   "source": []
  },
  {
   "cell_type": "code",
   "execution_count": 3,
   "id": "a071f7d0-2b8f-46f0-af3b-3113e76e8124",
   "metadata": {},
   "outputs": [
    {
     "data": {
      "text/html": [
       "<div>\n",
       "<style scoped>\n",
       "    .dataframe tbody tr th:only-of-type {\n",
       "        vertical-align: middle;\n",
       "    }\n",
       "\n",
       "    .dataframe tbody tr th {\n",
       "        vertical-align: top;\n",
       "    }\n",
       "\n",
       "    .dataframe thead th {\n",
       "        text-align: right;\n",
       "    }\n",
       "</style>\n",
       "<table border=\"1\" class=\"dataframe\">\n",
       "  <thead>\n",
       "    <tr style=\"text-align: right;\">\n",
       "      <th></th>\n",
       "      <th>Prospect ID</th>\n",
       "      <th>Lead Number</th>\n",
       "      <th>Lead Origin</th>\n",
       "      <th>Lead Source</th>\n",
       "      <th>Do Not Email</th>\n",
       "      <th>Do Not Call</th>\n",
       "      <th>Converted</th>\n",
       "      <th>TotalVisits</th>\n",
       "      <th>Total Time Spent on Website</th>\n",
       "      <th>Page Views Per Visit</th>\n",
       "      <th>...</th>\n",
       "      <th>Get updates on DM Content</th>\n",
       "      <th>Lead Profile</th>\n",
       "      <th>City</th>\n",
       "      <th>Asymmetrique Activity Index</th>\n",
       "      <th>Asymmetrique Profile Index</th>\n",
       "      <th>Asymmetrique Activity Score</th>\n",
       "      <th>Asymmetrique Profile Score</th>\n",
       "      <th>I agree to pay the amount through cheque</th>\n",
       "      <th>A free copy of Mastering The Interview</th>\n",
       "      <th>Last Notable Activity</th>\n",
       "    </tr>\n",
       "  </thead>\n",
       "  <tbody>\n",
       "    <tr>\n",
       "      <th>9235</th>\n",
       "      <td>19d6451e-fcd6-407c-b83b-48e1af805ea9</td>\n",
       "      <td>579564</td>\n",
       "      <td>Landing Page Submission</td>\n",
       "      <td>Direct Traffic</td>\n",
       "      <td>Yes</td>\n",
       "      <td>No</td>\n",
       "      <td>1</td>\n",
       "      <td>8.0</td>\n",
       "      <td>1845</td>\n",
       "      <td>2.67</td>\n",
       "      <td>...</td>\n",
       "      <td>No</td>\n",
       "      <td>Potential Lead</td>\n",
       "      <td>Mumbai</td>\n",
       "      <td>02.Medium</td>\n",
       "      <td>01.High</td>\n",
       "      <td>15.0</td>\n",
       "      <td>17.0</td>\n",
       "      <td>No</td>\n",
       "      <td>No</td>\n",
       "      <td>Email Marked Spam</td>\n",
       "    </tr>\n",
       "    <tr>\n",
       "      <th>9236</th>\n",
       "      <td>82a7005b-7196-4d56-95ce-a79f937a158d</td>\n",
       "      <td>579546</td>\n",
       "      <td>Landing Page Submission</td>\n",
       "      <td>Direct Traffic</td>\n",
       "      <td>No</td>\n",
       "      <td>No</td>\n",
       "      <td>0</td>\n",
       "      <td>2.0</td>\n",
       "      <td>238</td>\n",
       "      <td>2.00</td>\n",
       "      <td>...</td>\n",
       "      <td>No</td>\n",
       "      <td>Potential Lead</td>\n",
       "      <td>Mumbai</td>\n",
       "      <td>02.Medium</td>\n",
       "      <td>01.High</td>\n",
       "      <td>14.0</td>\n",
       "      <td>19.0</td>\n",
       "      <td>No</td>\n",
       "      <td>Yes</td>\n",
       "      <td>SMS Sent</td>\n",
       "    </tr>\n",
       "    <tr>\n",
       "      <th>9237</th>\n",
       "      <td>aac550fe-a586-452d-8d3c-f1b62c94e02c</td>\n",
       "      <td>579545</td>\n",
       "      <td>Landing Page Submission</td>\n",
       "      <td>Direct Traffic</td>\n",
       "      <td>Yes</td>\n",
       "      <td>No</td>\n",
       "      <td>0</td>\n",
       "      <td>2.0</td>\n",
       "      <td>199</td>\n",
       "      <td>2.00</td>\n",
       "      <td>...</td>\n",
       "      <td>No</td>\n",
       "      <td>Potential Lead</td>\n",
       "      <td>Mumbai</td>\n",
       "      <td>02.Medium</td>\n",
       "      <td>01.High</td>\n",
       "      <td>13.0</td>\n",
       "      <td>20.0</td>\n",
       "      <td>No</td>\n",
       "      <td>Yes</td>\n",
       "      <td>SMS Sent</td>\n",
       "    </tr>\n",
       "    <tr>\n",
       "      <th>9238</th>\n",
       "      <td>5330a7d1-2f2b-4df4-85d6-64ca2f6b95b9</td>\n",
       "      <td>579538</td>\n",
       "      <td>Landing Page Submission</td>\n",
       "      <td>Google</td>\n",
       "      <td>No</td>\n",
       "      <td>No</td>\n",
       "      <td>1</td>\n",
       "      <td>3.0</td>\n",
       "      <td>499</td>\n",
       "      <td>3.00</td>\n",
       "      <td>...</td>\n",
       "      <td>No</td>\n",
       "      <td>NaN</td>\n",
       "      <td>Other Metro Cities</td>\n",
       "      <td>02.Medium</td>\n",
       "      <td>02.Medium</td>\n",
       "      <td>15.0</td>\n",
       "      <td>16.0</td>\n",
       "      <td>No</td>\n",
       "      <td>No</td>\n",
       "      <td>SMS Sent</td>\n",
       "    </tr>\n",
       "    <tr>\n",
       "      <th>9239</th>\n",
       "      <td>571b5c8e-a5b2-4d57-8574-f2ffb06fdeff</td>\n",
       "      <td>579533</td>\n",
       "      <td>Landing Page Submission</td>\n",
       "      <td>Direct Traffic</td>\n",
       "      <td>No</td>\n",
       "      <td>No</td>\n",
       "      <td>1</td>\n",
       "      <td>6.0</td>\n",
       "      <td>1279</td>\n",
       "      <td>3.00</td>\n",
       "      <td>...</td>\n",
       "      <td>No</td>\n",
       "      <td>Potential Lead</td>\n",
       "      <td>Other Cities</td>\n",
       "      <td>02.Medium</td>\n",
       "      <td>01.High</td>\n",
       "      <td>15.0</td>\n",
       "      <td>18.0</td>\n",
       "      <td>No</td>\n",
       "      <td>Yes</td>\n",
       "      <td>Modified</td>\n",
       "    </tr>\n",
       "  </tbody>\n",
       "</table>\n",
       "<p>5 rows × 37 columns</p>\n",
       "</div>"
      ],
      "text/plain": [
       "                               Prospect ID  Lead Number  \\\n",
       "9235  19d6451e-fcd6-407c-b83b-48e1af805ea9       579564   \n",
       "9236  82a7005b-7196-4d56-95ce-a79f937a158d       579546   \n",
       "9237  aac550fe-a586-452d-8d3c-f1b62c94e02c       579545   \n",
       "9238  5330a7d1-2f2b-4df4-85d6-64ca2f6b95b9       579538   \n",
       "9239  571b5c8e-a5b2-4d57-8574-f2ffb06fdeff       579533   \n",
       "\n",
       "                  Lead Origin     Lead Source Do Not Email Do Not Call  \\\n",
       "9235  Landing Page Submission  Direct Traffic          Yes          No   \n",
       "9236  Landing Page Submission  Direct Traffic           No          No   \n",
       "9237  Landing Page Submission  Direct Traffic          Yes          No   \n",
       "9238  Landing Page Submission          Google           No          No   \n",
       "9239  Landing Page Submission  Direct Traffic           No          No   \n",
       "\n",
       "      Converted  TotalVisits  Total Time Spent on Website  \\\n",
       "9235          1          8.0                         1845   \n",
       "9236          0          2.0                          238   \n",
       "9237          0          2.0                          199   \n",
       "9238          1          3.0                          499   \n",
       "9239          1          6.0                         1279   \n",
       "\n",
       "      Page Views Per Visit  ... Get updates on DM Content    Lead Profile  \\\n",
       "9235                  2.67  ...                        No  Potential Lead   \n",
       "9236                  2.00  ...                        No  Potential Lead   \n",
       "9237                  2.00  ...                        No  Potential Lead   \n",
       "9238                  3.00  ...                        No             NaN   \n",
       "9239                  3.00  ...                        No  Potential Lead   \n",
       "\n",
       "                    City Asymmetrique Activity Index  \\\n",
       "9235              Mumbai                   02.Medium   \n",
       "9236              Mumbai                   02.Medium   \n",
       "9237              Mumbai                   02.Medium   \n",
       "9238  Other Metro Cities                   02.Medium   \n",
       "9239        Other Cities                   02.Medium   \n",
       "\n",
       "     Asymmetrique Profile Index Asymmetrique Activity Score  \\\n",
       "9235                    01.High                        15.0   \n",
       "9236                    01.High                        14.0   \n",
       "9237                    01.High                        13.0   \n",
       "9238                  02.Medium                        15.0   \n",
       "9239                    01.High                        15.0   \n",
       "\n",
       "     Asymmetrique Profile Score I agree to pay the amount through cheque  \\\n",
       "9235                       17.0                                       No   \n",
       "9236                       19.0                                       No   \n",
       "9237                       20.0                                       No   \n",
       "9238                       16.0                                       No   \n",
       "9239                       18.0                                       No   \n",
       "\n",
       "     A free copy of Mastering The Interview Last Notable Activity  \n",
       "9235                                     No     Email Marked Spam  \n",
       "9236                                    Yes              SMS Sent  \n",
       "9237                                    Yes              SMS Sent  \n",
       "9238                                     No              SMS Sent  \n",
       "9239                                    Yes              Modified  \n",
       "\n",
       "[5 rows x 37 columns]"
      ]
     },
     "execution_count": 3,
     "metadata": {},
     "output_type": "execute_result"
    }
   ],
   "source": [
    "lead_data.tail()"
   ]
  },
  {
   "cell_type": "code",
   "execution_count": null,
   "id": "e9ae2a36-3af7-413a-b79d-849225f1cf67",
   "metadata": {},
   "outputs": [],
   "source": []
  },
  {
   "cell_type": "code",
   "execution_count": 4,
   "id": "24fb5e0c-0c49-47bc-a826-10e4eb1c8279",
   "metadata": {},
   "outputs": [
    {
     "data": {
      "text/plain": [
       "(9240, 37)"
      ]
     },
     "execution_count": 4,
     "metadata": {},
     "output_type": "execute_result"
    }
   ],
   "source": [
    "lead_data.shape"
   ]
  },
  {
   "cell_type": "code",
   "execution_count": 5,
   "id": "0cfbdddb-e8e6-4c90-8c46-ffc215ad2a36",
   "metadata": {},
   "outputs": [
    {
     "data": {
      "text/html": [
       "<div>\n",
       "<style scoped>\n",
       "    .dataframe tbody tr th:only-of-type {\n",
       "        vertical-align: middle;\n",
       "    }\n",
       "\n",
       "    .dataframe tbody tr th {\n",
       "        vertical-align: top;\n",
       "    }\n",
       "\n",
       "    .dataframe thead th {\n",
       "        text-align: right;\n",
       "    }\n",
       "</style>\n",
       "<table border=\"1\" class=\"dataframe\">\n",
       "  <thead>\n",
       "    <tr style=\"text-align: right;\">\n",
       "      <th></th>\n",
       "      <th>Lead Number</th>\n",
       "      <th>Converted</th>\n",
       "      <th>TotalVisits</th>\n",
       "      <th>Total Time Spent on Website</th>\n",
       "      <th>Page Views Per Visit</th>\n",
       "      <th>Asymmetrique Activity Score</th>\n",
       "      <th>Asymmetrique Profile Score</th>\n",
       "    </tr>\n",
       "  </thead>\n",
       "  <tbody>\n",
       "    <tr>\n",
       "      <th>count</th>\n",
       "      <td>9240.000000</td>\n",
       "      <td>9240.000000</td>\n",
       "      <td>9103.000000</td>\n",
       "      <td>9240.000000</td>\n",
       "      <td>9103.000000</td>\n",
       "      <td>5022.000000</td>\n",
       "      <td>5022.000000</td>\n",
       "    </tr>\n",
       "    <tr>\n",
       "      <th>mean</th>\n",
       "      <td>617188.435606</td>\n",
       "      <td>0.385390</td>\n",
       "      <td>3.445238</td>\n",
       "      <td>487.698268</td>\n",
       "      <td>2.362820</td>\n",
       "      <td>14.306252</td>\n",
       "      <td>16.344883</td>\n",
       "    </tr>\n",
       "    <tr>\n",
       "      <th>std</th>\n",
       "      <td>23405.995698</td>\n",
       "      <td>0.486714</td>\n",
       "      <td>4.854853</td>\n",
       "      <td>548.021466</td>\n",
       "      <td>2.161418</td>\n",
       "      <td>1.386694</td>\n",
       "      <td>1.811395</td>\n",
       "    </tr>\n",
       "    <tr>\n",
       "      <th>min</th>\n",
       "      <td>579533.000000</td>\n",
       "      <td>0.000000</td>\n",
       "      <td>0.000000</td>\n",
       "      <td>0.000000</td>\n",
       "      <td>0.000000</td>\n",
       "      <td>7.000000</td>\n",
       "      <td>11.000000</td>\n",
       "    </tr>\n",
       "    <tr>\n",
       "      <th>25%</th>\n",
       "      <td>596484.500000</td>\n",
       "      <td>0.000000</td>\n",
       "      <td>1.000000</td>\n",
       "      <td>12.000000</td>\n",
       "      <td>1.000000</td>\n",
       "      <td>14.000000</td>\n",
       "      <td>15.000000</td>\n",
       "    </tr>\n",
       "    <tr>\n",
       "      <th>50%</th>\n",
       "      <td>615479.000000</td>\n",
       "      <td>0.000000</td>\n",
       "      <td>3.000000</td>\n",
       "      <td>248.000000</td>\n",
       "      <td>2.000000</td>\n",
       "      <td>14.000000</td>\n",
       "      <td>16.000000</td>\n",
       "    </tr>\n",
       "    <tr>\n",
       "      <th>75%</th>\n",
       "      <td>637387.250000</td>\n",
       "      <td>1.000000</td>\n",
       "      <td>5.000000</td>\n",
       "      <td>936.000000</td>\n",
       "      <td>3.000000</td>\n",
       "      <td>15.000000</td>\n",
       "      <td>18.000000</td>\n",
       "    </tr>\n",
       "    <tr>\n",
       "      <th>max</th>\n",
       "      <td>660737.000000</td>\n",
       "      <td>1.000000</td>\n",
       "      <td>251.000000</td>\n",
       "      <td>2272.000000</td>\n",
       "      <td>55.000000</td>\n",
       "      <td>18.000000</td>\n",
       "      <td>20.000000</td>\n",
       "    </tr>\n",
       "  </tbody>\n",
       "</table>\n",
       "</div>"
      ],
      "text/plain": [
       "         Lead Number    Converted  TotalVisits  Total Time Spent on Website  \\\n",
       "count    9240.000000  9240.000000  9103.000000                  9240.000000   \n",
       "mean   617188.435606     0.385390     3.445238                   487.698268   \n",
       "std     23405.995698     0.486714     4.854853                   548.021466   \n",
       "min    579533.000000     0.000000     0.000000                     0.000000   \n",
       "25%    596484.500000     0.000000     1.000000                    12.000000   \n",
       "50%    615479.000000     0.000000     3.000000                   248.000000   \n",
       "75%    637387.250000     1.000000     5.000000                   936.000000   \n",
       "max    660737.000000     1.000000   251.000000                  2272.000000   \n",
       "\n",
       "       Page Views Per Visit  Asymmetrique Activity Score  \\\n",
       "count           9103.000000                  5022.000000   \n",
       "mean               2.362820                    14.306252   \n",
       "std                2.161418                     1.386694   \n",
       "min                0.000000                     7.000000   \n",
       "25%                1.000000                    14.000000   \n",
       "50%                2.000000                    14.000000   \n",
       "75%                3.000000                    15.000000   \n",
       "max               55.000000                    18.000000   \n",
       "\n",
       "       Asymmetrique Profile Score  \n",
       "count                 5022.000000  \n",
       "mean                    16.344883  \n",
       "std                      1.811395  \n",
       "min                     11.000000  \n",
       "25%                     15.000000  \n",
       "50%                     16.000000  \n",
       "75%                     18.000000  \n",
       "max                     20.000000  "
      ]
     },
     "execution_count": 5,
     "metadata": {},
     "output_type": "execute_result"
    }
   ],
   "source": [
    "lead_data.describe()"
   ]
  },
  {
   "cell_type": "code",
   "execution_count": 6,
   "id": "76dc10f0-bc63-48e2-b755-3ddcd33b5478",
   "metadata": {},
   "outputs": [
    {
     "name": "stdout",
     "output_type": "stream",
     "text": [
      "<class 'pandas.core.frame.DataFrame'>\n",
      "RangeIndex: 9240 entries, 0 to 9239\n",
      "Data columns (total 37 columns):\n",
      " #   Column                                         Non-Null Count  Dtype  \n",
      "---  ------                                         --------------  -----  \n",
      " 0   Prospect ID                                    9240 non-null   object \n",
      " 1   Lead Number                                    9240 non-null   int64  \n",
      " 2   Lead Origin                                    9240 non-null   object \n",
      " 3   Lead Source                                    9204 non-null   object \n",
      " 4   Do Not Email                                   9240 non-null   object \n",
      " 5   Do Not Call                                    9240 non-null   object \n",
      " 6   Converted                                      9240 non-null   int64  \n",
      " 7   TotalVisits                                    9103 non-null   float64\n",
      " 8   Total Time Spent on Website                    9240 non-null   int64  \n",
      " 9   Page Views Per Visit                           9103 non-null   float64\n",
      " 10  Last Activity                                  9137 non-null   object \n",
      " 11  Country                                        6779 non-null   object \n",
      " 12  Specialization                                 7802 non-null   object \n",
      " 13  How did you hear about X Education             7033 non-null   object \n",
      " 14  What is your current occupation                6550 non-null   object \n",
      " 15  What matters most to you in choosing a course  6531 non-null   object \n",
      " 16  Search                                         9240 non-null   object \n",
      " 17  Magazine                                       9240 non-null   object \n",
      " 18  Newspaper Article                              9240 non-null   object \n",
      " 19  X Education Forums                             9240 non-null   object \n",
      " 20  Newspaper                                      9240 non-null   object \n",
      " 21  Digital Advertisement                          9240 non-null   object \n",
      " 22  Through Recommendations                        9240 non-null   object \n",
      " 23  Receive More Updates About Our Courses         9240 non-null   object \n",
      " 24  Tags                                           5887 non-null   object \n",
      " 25  Lead Quality                                   4473 non-null   object \n",
      " 26  Update me on Supply Chain Content              9240 non-null   object \n",
      " 27  Get updates on DM Content                      9240 non-null   object \n",
      " 28  Lead Profile                                   6531 non-null   object \n",
      " 29  City                                           7820 non-null   object \n",
      " 30  Asymmetrique Activity Index                    5022 non-null   object \n",
      " 31  Asymmetrique Profile Index                     5022 non-null   object \n",
      " 32  Asymmetrique Activity Score                    5022 non-null   float64\n",
      " 33  Asymmetrique Profile Score                     5022 non-null   float64\n",
      " 34  I agree to pay the amount through cheque       9240 non-null   object \n",
      " 35  A free copy of Mastering The Interview         9240 non-null   object \n",
      " 36  Last Notable Activity                          9240 non-null   object \n",
      "dtypes: float64(4), int64(3), object(30)\n",
      "memory usage: 2.6+ MB\n"
     ]
    }
   ],
   "source": [
    "lead_data.info()"
   ]
  },
  {
   "cell_type": "code",
   "execution_count": null,
   "id": "1618d153-6468-45ae-84f8-a74392146c01",
   "metadata": {},
   "outputs": [],
   "source": []
  },
  {
   "cell_type": "code",
   "execution_count": 7,
   "id": "a7891db3-6f48-4115-82e1-caebf6b30ed4",
   "metadata": {},
   "outputs": [
    {
     "data": {
      "text/plain": [
       "Index(['Prospect ID', 'Lead Number', 'Lead Origin', 'Lead Source',\n",
       "       'Do Not Email', 'Do Not Call', 'Converted', 'TotalVisits',\n",
       "       'Total Time Spent on Website', 'Page Views Per Visit', 'Last Activity',\n",
       "       'Country', 'Specialization', 'How did you hear about X Education',\n",
       "       'What is your current occupation',\n",
       "       'What matters most to you in choosing a course', 'Search', 'Magazine',\n",
       "       'Newspaper Article', 'X Education Forums', 'Newspaper',\n",
       "       'Digital Advertisement', 'Through Recommendations',\n",
       "       'Receive More Updates About Our Courses', 'Tags', 'Lead Quality',\n",
       "       'Update me on Supply Chain Content', 'Get updates on DM Content',\n",
       "       'Lead Profile', 'City', 'Asymmetrique Activity Index',\n",
       "       'Asymmetrique Profile Index', 'Asymmetrique Activity Score',\n",
       "       'Asymmetrique Profile Score',\n",
       "       'I agree to pay the amount through cheque',\n",
       "       'A free copy of Mastering The Interview', 'Last Notable Activity'],\n",
       "      dtype='object')"
      ]
     },
     "execution_count": 7,
     "metadata": {},
     "output_type": "execute_result"
    }
   ],
   "source": [
    "lead_data.columns"
   ]
  },
  {
   "cell_type": "code",
   "execution_count": null,
   "id": "eb324371-3388-406c-a8a6-a36d4b3eee28",
   "metadata": {},
   "outputs": [],
   "source": []
  },
  {
   "cell_type": "markdown",
   "id": "02bf7819-5cdc-4ef7-ba8e-96f5931b5894",
   "metadata": {},
   "source": [
    "Also dropping the first two columns like prospect id and lead number as of least use."
   ]
  },
  {
   "cell_type": "code",
   "execution_count": 8,
   "id": "1d5757ea-a1ee-4621-bf05-486cbf181aa2",
   "metadata": {},
   "outputs": [],
   "source": [
    "lead_data=lead_data.drop(['Prospect ID', 'Lead Number'],axis=1)"
   ]
  },
  {
   "cell_type": "code",
   "execution_count": 9,
   "id": "72bdc140-bab5-4899-8dd8-fe1804cb244e",
   "metadata": {},
   "outputs": [
    {
     "data": {
      "text/plain": [
       "Lead Origin                                       0.000000\n",
       "Lead Source                                       0.389610\n",
       "Do Not Email                                      0.000000\n",
       "Do Not Call                                       0.000000\n",
       "Converted                                         0.000000\n",
       "TotalVisits                                       1.482684\n",
       "Total Time Spent on Website                       0.000000\n",
       "Page Views Per Visit                              1.482684\n",
       "Last Activity                                     1.114719\n",
       "Country                                          26.634199\n",
       "Specialization                                   15.562771\n",
       "How did you hear about X Education               23.885281\n",
       "What is your current occupation                  29.112554\n",
       "What matters most to you in choosing a course    29.318182\n",
       "Search                                            0.000000\n",
       "Magazine                                          0.000000\n",
       "Newspaper Article                                 0.000000\n",
       "X Education Forums                                0.000000\n",
       "Newspaper                                         0.000000\n",
       "Digital Advertisement                             0.000000\n",
       "Through Recommendations                           0.000000\n",
       "Receive More Updates About Our Courses            0.000000\n",
       "Tags                                             36.287879\n",
       "Lead Quality                                     51.590909\n",
       "Update me on Supply Chain Content                 0.000000\n",
       "Get updates on DM Content                         0.000000\n",
       "Lead Profile                                     29.318182\n",
       "City                                             15.367965\n",
       "Asymmetrique Activity Index                      45.649351\n",
       "Asymmetrique Profile Index                       45.649351\n",
       "Asymmetrique Activity Score                      45.649351\n",
       "Asymmetrique Profile Score                       45.649351\n",
       "I agree to pay the amount through cheque          0.000000\n",
       "A free copy of Mastering The Interview            0.000000\n",
       "Last Notable Activity                             0.000000\n",
       "dtype: float64"
      ]
     },
     "execution_count": 9,
     "metadata": {},
     "output_type": "execute_result"
    }
   ],
   "source": [
    "lead_data.isnull().mean()*100"
   ]
  },
  {
   "cell_type": "markdown",
   "id": "0ca1d5c9-dd76-4807-9944-422440b403ff",
   "metadata": {},
   "source": [
    "there are columns with values 'Select' so finding them and replace it with nan values making them missing.. if missing values are within limits like 35-40 percent then drop or else replace them with the unknown"
   ]
  },
  {
   "cell_type": "code",
   "execution_count": null,
   "id": "cb54c529-5d51-4a98-9e6b-9cfecc7aaac7",
   "metadata": {},
   "outputs": [],
   "source": []
  },
  {
   "cell_type": "code",
   "execution_count": 10,
   "id": "2e51b922-ef43-4f09-9ff4-4a6b495513f9",
   "metadata": {},
   "outputs": [
    {
     "data": {
      "text/plain": [
       "['Specialization',\n",
       " 'How did you hear about X Education',\n",
       " 'Lead Profile',\n",
       " 'City']"
      ]
     },
     "execution_count": 10,
     "metadata": {},
     "output_type": "execute_result"
    }
   ],
   "source": [
    "cols_with_select = [col for col in lead_data.columns if 'Select' in lead_data[col].values]\n",
    "cols_with_select"
   ]
  },
  {
   "cell_type": "markdown",
   "id": "95514f8b-ad04-42f3-b149-5ccce74f66b1",
   "metadata": {},
   "source": [
    "we can see these columns are having missing values less than 30% so it is better to replace with unknown rather than missing as it may lead to dropping the columns"
   ]
  },
  {
   "cell_type": "code",
   "execution_count": 11,
   "id": "4cbff78c-459e-41a9-aa7a-d152c4f47554",
   "metadata": {},
   "outputs": [],
   "source": [
    "lead_data[cols_with_select]=lead_data[cols_with_select].replace('Select','unknown')"
   ]
  },
  {
   "cell_type": "code",
   "execution_count": 12,
   "id": "6ba9f570-34c5-42b9-92a7-46d63bd66654",
   "metadata": {},
   "outputs": [
    {
     "data": {
      "text/plain": [
       "City\n",
       "Mumbai                         3222\n",
       "unknown                        2249\n",
       "Thane & Outskirts               752\n",
       "Other Cities                    686\n",
       "Other Cities of Maharashtra     457\n",
       "Other Metro Cities              380\n",
       "Tier II Cities                   74\n",
       "Name: count, dtype: int64"
      ]
     },
     "execution_count": 12,
     "metadata": {},
     "output_type": "execute_result"
    }
   ],
   "source": [
    "lead_data['City'].value_counts()"
   ]
  },
  {
   "cell_type": "markdown",
   "id": "fde21b7d-a972-4438-9a40-be38fdeeb9fa",
   "metadata": {},
   "source": [
    "it appears the 'Select' values replaced with unknown"
   ]
  },
  {
   "cell_type": "code",
   "execution_count": null,
   "id": "dbec0efb-6bb1-4609-905f-e3822a78a56e",
   "metadata": {},
   "outputs": [],
   "source": []
  },
  {
   "cell_type": "code",
   "execution_count": 13,
   "id": "4c7bf934-3f09-426d-8992-803a5400a81b",
   "metadata": {},
   "outputs": [
    {
     "data": {
      "text/plain": [
       "Lead Origin                                       0.000000\n",
       "Lead Source                                       0.389610\n",
       "Do Not Email                                      0.000000\n",
       "Do Not Call                                       0.000000\n",
       "Converted                                         0.000000\n",
       "TotalVisits                                       1.482684\n",
       "Total Time Spent on Website                       0.000000\n",
       "Page Views Per Visit                              1.482684\n",
       "Last Activity                                     1.114719\n",
       "Country                                          26.634199\n",
       "Specialization                                   15.562771\n",
       "How did you hear about X Education               23.885281\n",
       "What is your current occupation                  29.112554\n",
       "What matters most to you in choosing a course    29.318182\n",
       "Search                                            0.000000\n",
       "Magazine                                          0.000000\n",
       "Newspaper Article                                 0.000000\n",
       "X Education Forums                                0.000000\n",
       "Newspaper                                         0.000000\n",
       "Digital Advertisement                             0.000000\n",
       "Through Recommendations                           0.000000\n",
       "Receive More Updates About Our Courses            0.000000\n",
       "Tags                                             36.287879\n",
       "Lead Quality                                     51.590909\n",
       "Update me on Supply Chain Content                 0.000000\n",
       "Get updates on DM Content                         0.000000\n",
       "Lead Profile                                     29.318182\n",
       "City                                             15.367965\n",
       "Asymmetrique Activity Index                      45.649351\n",
       "Asymmetrique Profile Index                       45.649351\n",
       "Asymmetrique Activity Score                      45.649351\n",
       "Asymmetrique Profile Score                       45.649351\n",
       "I agree to pay the amount through cheque          0.000000\n",
       "A free copy of Mastering The Interview            0.000000\n",
       "Last Notable Activity                             0.000000\n",
       "dtype: float64"
      ]
     },
     "execution_count": 13,
     "metadata": {},
     "output_type": "execute_result"
    }
   ],
   "source": [
    "lead_data.isnull().mean()*100"
   ]
  },
  {
   "cell_type": "markdown",
   "id": "1d8e3b5e-7c8e-4fe3-828b-62c086e07e48",
   "metadata": {},
   "source": [
    "dropping the above 4 columns due to having 40% of missing values"
   ]
  },
  {
   "cell_type": "code",
   "execution_count": 14,
   "id": "559db73c-bad8-404f-8925-d2f1c2c0d516",
   "metadata": {},
   "outputs": [
    {
     "name": "stdout",
     "output_type": "stream",
     "text": [
      "columns having more than 40% null values\n"
     ]
    },
    {
     "data": {
      "text/plain": [
       "['Lead Quality',\n",
       " 'Asymmetrique Activity Index',\n",
       " 'Asymmetrique Profile Index',\n",
       " 'Asymmetrique Activity Score',\n",
       " 'Asymmetrique Profile Score']"
      ]
     },
     "execution_count": 14,
     "metadata": {},
     "output_type": "execute_result"
    }
   ],
   "source": [
    "miss_col=[]\n",
    "for i in lead_data.columns:\n",
    "    if (lead_data[i].isnull().mean()*100)>40:\n",
    "        miss_col.append(i)\n",
    "\n",
    "print('columns having more than 40% null values')\n",
    "miss_col"
   ]
  },
  {
   "cell_type": "code",
   "execution_count": 15,
   "id": "cac7a255-5194-4c88-b980-ef5da422bd49",
   "metadata": {},
   "outputs": [],
   "source": [
    "lead_data=lead_data.drop(['Lead Quality', 'Asymmetrique Activity Index', 'Asymmetrique Profile Index', 'Asymmetrique Activity Score',\n",
    " 'Asymmetrique Profile Score'],axis=1)"
   ]
  },
  {
   "cell_type": "code",
   "execution_count": 16,
   "id": "ae3a2ae2-2434-4d8c-b57b-87eaaa5e7585",
   "metadata": {},
   "outputs": [
    {
     "data": {
      "text/html": [
       "<div>\n",
       "<style scoped>\n",
       "    .dataframe tbody tr th:only-of-type {\n",
       "        vertical-align: middle;\n",
       "    }\n",
       "\n",
       "    .dataframe tbody tr th {\n",
       "        vertical-align: top;\n",
       "    }\n",
       "\n",
       "    .dataframe thead th {\n",
       "        text-align: right;\n",
       "    }\n",
       "</style>\n",
       "<table border=\"1\" class=\"dataframe\">\n",
       "  <thead>\n",
       "    <tr style=\"text-align: right;\">\n",
       "      <th></th>\n",
       "      <th>Lead Origin</th>\n",
       "      <th>Lead Source</th>\n",
       "      <th>Do Not Email</th>\n",
       "      <th>Do Not Call</th>\n",
       "      <th>Converted</th>\n",
       "      <th>TotalVisits</th>\n",
       "      <th>Total Time Spent on Website</th>\n",
       "      <th>Page Views Per Visit</th>\n",
       "      <th>Last Activity</th>\n",
       "      <th>Country</th>\n",
       "      <th>...</th>\n",
       "      <th>Through Recommendations</th>\n",
       "      <th>Receive More Updates About Our Courses</th>\n",
       "      <th>Tags</th>\n",
       "      <th>Update me on Supply Chain Content</th>\n",
       "      <th>Get updates on DM Content</th>\n",
       "      <th>Lead Profile</th>\n",
       "      <th>City</th>\n",
       "      <th>I agree to pay the amount through cheque</th>\n",
       "      <th>A free copy of Mastering The Interview</th>\n",
       "      <th>Last Notable Activity</th>\n",
       "    </tr>\n",
       "  </thead>\n",
       "  <tbody>\n",
       "    <tr>\n",
       "      <th>0</th>\n",
       "      <td>API</td>\n",
       "      <td>Olark Chat</td>\n",
       "      <td>No</td>\n",
       "      <td>No</td>\n",
       "      <td>0</td>\n",
       "      <td>0.0</td>\n",
       "      <td>0</td>\n",
       "      <td>0.0</td>\n",
       "      <td>Page Visited on Website</td>\n",
       "      <td>NaN</td>\n",
       "      <td>...</td>\n",
       "      <td>No</td>\n",
       "      <td>No</td>\n",
       "      <td>Interested in other courses</td>\n",
       "      <td>No</td>\n",
       "      <td>No</td>\n",
       "      <td>unknown</td>\n",
       "      <td>unknown</td>\n",
       "      <td>No</td>\n",
       "      <td>No</td>\n",
       "      <td>Modified</td>\n",
       "    </tr>\n",
       "    <tr>\n",
       "      <th>1</th>\n",
       "      <td>API</td>\n",
       "      <td>Organic Search</td>\n",
       "      <td>No</td>\n",
       "      <td>No</td>\n",
       "      <td>0</td>\n",
       "      <td>5.0</td>\n",
       "      <td>674</td>\n",
       "      <td>2.5</td>\n",
       "      <td>Email Opened</td>\n",
       "      <td>India</td>\n",
       "      <td>...</td>\n",
       "      <td>No</td>\n",
       "      <td>No</td>\n",
       "      <td>Ringing</td>\n",
       "      <td>No</td>\n",
       "      <td>No</td>\n",
       "      <td>unknown</td>\n",
       "      <td>unknown</td>\n",
       "      <td>No</td>\n",
       "      <td>No</td>\n",
       "      <td>Email Opened</td>\n",
       "    </tr>\n",
       "    <tr>\n",
       "      <th>2</th>\n",
       "      <td>Landing Page Submission</td>\n",
       "      <td>Direct Traffic</td>\n",
       "      <td>No</td>\n",
       "      <td>No</td>\n",
       "      <td>1</td>\n",
       "      <td>2.0</td>\n",
       "      <td>1532</td>\n",
       "      <td>2.0</td>\n",
       "      <td>Email Opened</td>\n",
       "      <td>India</td>\n",
       "      <td>...</td>\n",
       "      <td>No</td>\n",
       "      <td>No</td>\n",
       "      <td>Will revert after reading the email</td>\n",
       "      <td>No</td>\n",
       "      <td>No</td>\n",
       "      <td>Potential Lead</td>\n",
       "      <td>Mumbai</td>\n",
       "      <td>No</td>\n",
       "      <td>Yes</td>\n",
       "      <td>Email Opened</td>\n",
       "    </tr>\n",
       "    <tr>\n",
       "      <th>3</th>\n",
       "      <td>Landing Page Submission</td>\n",
       "      <td>Direct Traffic</td>\n",
       "      <td>No</td>\n",
       "      <td>No</td>\n",
       "      <td>0</td>\n",
       "      <td>1.0</td>\n",
       "      <td>305</td>\n",
       "      <td>1.0</td>\n",
       "      <td>Unreachable</td>\n",
       "      <td>India</td>\n",
       "      <td>...</td>\n",
       "      <td>No</td>\n",
       "      <td>No</td>\n",
       "      <td>Ringing</td>\n",
       "      <td>No</td>\n",
       "      <td>No</td>\n",
       "      <td>unknown</td>\n",
       "      <td>Mumbai</td>\n",
       "      <td>No</td>\n",
       "      <td>No</td>\n",
       "      <td>Modified</td>\n",
       "    </tr>\n",
       "    <tr>\n",
       "      <th>4</th>\n",
       "      <td>Landing Page Submission</td>\n",
       "      <td>Google</td>\n",
       "      <td>No</td>\n",
       "      <td>No</td>\n",
       "      <td>1</td>\n",
       "      <td>2.0</td>\n",
       "      <td>1428</td>\n",
       "      <td>1.0</td>\n",
       "      <td>Converted to Lead</td>\n",
       "      <td>India</td>\n",
       "      <td>...</td>\n",
       "      <td>No</td>\n",
       "      <td>No</td>\n",
       "      <td>Will revert after reading the email</td>\n",
       "      <td>No</td>\n",
       "      <td>No</td>\n",
       "      <td>unknown</td>\n",
       "      <td>Mumbai</td>\n",
       "      <td>No</td>\n",
       "      <td>No</td>\n",
       "      <td>Modified</td>\n",
       "    </tr>\n",
       "  </tbody>\n",
       "</table>\n",
       "<p>5 rows × 30 columns</p>\n",
       "</div>"
      ],
      "text/plain": [
       "               Lead Origin     Lead Source Do Not Email Do Not Call  \\\n",
       "0                      API      Olark Chat           No          No   \n",
       "1                      API  Organic Search           No          No   \n",
       "2  Landing Page Submission  Direct Traffic           No          No   \n",
       "3  Landing Page Submission  Direct Traffic           No          No   \n",
       "4  Landing Page Submission          Google           No          No   \n",
       "\n",
       "   Converted  TotalVisits  Total Time Spent on Website  Page Views Per Visit  \\\n",
       "0          0          0.0                            0                   0.0   \n",
       "1          0          5.0                          674                   2.5   \n",
       "2          1          2.0                         1532                   2.0   \n",
       "3          0          1.0                          305                   1.0   \n",
       "4          1          2.0                         1428                   1.0   \n",
       "\n",
       "             Last Activity Country  ... Through Recommendations  \\\n",
       "0  Page Visited on Website     NaN  ...                      No   \n",
       "1             Email Opened   India  ...                      No   \n",
       "2             Email Opened   India  ...                      No   \n",
       "3              Unreachable   India  ...                      No   \n",
       "4        Converted to Lead   India  ...                      No   \n",
       "\n",
       "  Receive More Updates About Our Courses                                 Tags  \\\n",
       "0                                     No          Interested in other courses   \n",
       "1                                     No                              Ringing   \n",
       "2                                     No  Will revert after reading the email   \n",
       "3                                     No                              Ringing   \n",
       "4                                     No  Will revert after reading the email   \n",
       "\n",
       "  Update me on Supply Chain Content Get updates on DM Content    Lead Profile  \\\n",
       "0                                No                        No         unknown   \n",
       "1                                No                        No         unknown   \n",
       "2                                No                        No  Potential Lead   \n",
       "3                                No                        No         unknown   \n",
       "4                                No                        No         unknown   \n",
       "\n",
       "      City I agree to pay the amount through cheque  \\\n",
       "0  unknown                                       No   \n",
       "1  unknown                                       No   \n",
       "2   Mumbai                                       No   \n",
       "3   Mumbai                                       No   \n",
       "4   Mumbai                                       No   \n",
       "\n",
       "  A free copy of Mastering The Interview Last Notable Activity  \n",
       "0                                     No              Modified  \n",
       "1                                     No          Email Opened  \n",
       "2                                    Yes          Email Opened  \n",
       "3                                     No              Modified  \n",
       "4                                     No              Modified  \n",
       "\n",
       "[5 rows x 30 columns]"
      ]
     },
     "execution_count": 16,
     "metadata": {},
     "output_type": "execute_result"
    }
   ],
   "source": [
    "lead_data.head()"
   ]
  },
  {
   "cell_type": "code",
   "execution_count": 17,
   "id": "7e86f75b-2faf-4318-9a4a-3350bb2f7eb3",
   "metadata": {},
   "outputs": [
    {
     "data": {
      "text/plain": [
       "(9240, 30)"
      ]
     },
     "execution_count": 17,
     "metadata": {},
     "output_type": "execute_result"
    }
   ],
   "source": [
    "lead_data.shape"
   ]
  },
  {
   "cell_type": "code",
   "execution_count": null,
   "id": "130de9a5-33e6-460d-9309-b7930765fdbb",
   "metadata": {},
   "outputs": [],
   "source": []
  },
  {
   "cell_type": "code",
   "execution_count": 18,
   "id": "f5b36598-9157-4705-957d-b6310aeeaa4a",
   "metadata": {},
   "outputs": [
    {
     "data": {
      "text/plain": [
       "Lead Origin                                       0.000000\n",
       "Lead Source                                       0.389610\n",
       "Do Not Email                                      0.000000\n",
       "Do Not Call                                       0.000000\n",
       "Converted                                         0.000000\n",
       "TotalVisits                                       1.482684\n",
       "Total Time Spent on Website                       0.000000\n",
       "Page Views Per Visit                              1.482684\n",
       "Last Activity                                     1.114719\n",
       "Country                                          26.634199\n",
       "Specialization                                   15.562771\n",
       "How did you hear about X Education               23.885281\n",
       "What is your current occupation                  29.112554\n",
       "What matters most to you in choosing a course    29.318182\n",
       "Search                                            0.000000\n",
       "Magazine                                          0.000000\n",
       "Newspaper Article                                 0.000000\n",
       "X Education Forums                                0.000000\n",
       "Newspaper                                         0.000000\n",
       "Digital Advertisement                             0.000000\n",
       "Through Recommendations                           0.000000\n",
       "Receive More Updates About Our Courses            0.000000\n",
       "Tags                                             36.287879\n",
       "Update me on Supply Chain Content                 0.000000\n",
       "Get updates on DM Content                         0.000000\n",
       "Lead Profile                                     29.318182\n",
       "City                                             15.367965\n",
       "I agree to pay the amount through cheque          0.000000\n",
       "A free copy of Mastering The Interview            0.000000\n",
       "Last Notable Activity                             0.000000\n",
       "dtype: float64"
      ]
     },
     "execution_count": 18,
     "metadata": {},
     "output_type": "execute_result"
    }
   ],
   "source": [
    "lead_data.isnull().mean()*100"
   ]
  },
  {
   "cell_type": "code",
   "execution_count": null,
   "id": "061d79ef-10e6-46ab-9e6f-56f081afa63f",
   "metadata": {},
   "outputs": [],
   "source": []
  },
  {
   "cell_type": "markdown",
   "id": "a6f0baf9-9956-4e89-ab80-cf2fef798558",
   "metadata": {},
   "source": [
    "There are number of columns with more than 5% missing values like country, education, specialization, occupation, so will replace them with the \n",
    "'unknown' values rather than removing or replacing with mode as we cannot assume a particular value for them also other  columns. so creating a\n",
    "function and replace them at once"
   ]
  },
  {
   "cell_type": "code",
   "execution_count": 19,
   "id": "8af63854-214e-4a0d-b406-b0574f3b4ef2",
   "metadata": {},
   "outputs": [
    {
     "name": "stdout",
     "output_type": "stream",
     "text": [
      "columns having more than 5% null values\n"
     ]
    },
    {
     "data": {
      "text/plain": [
       "['Country',\n",
       " 'Specialization',\n",
       " 'How did you hear about X Education',\n",
       " 'What is your current occupation',\n",
       " 'What matters most to you in choosing a course',\n",
       " 'Tags',\n",
       " 'Lead Profile',\n",
       " 'City']"
      ]
     },
     "execution_count": 19,
     "metadata": {},
     "output_type": "execute_result"
    }
   ],
   "source": [
    "miss_col5=[]\n",
    "for i in lead_data.columns:\n",
    "    if (lead_data[i].isnull().mean()*100)>5:\n",
    "        miss_col5.append(i)\n",
    "\n",
    "print('columns having more than 5% null values')\n",
    "miss_col5"
   ]
  },
  {
   "cell_type": "code",
   "execution_count": 20,
   "id": "037b6b2a-51a9-4d26-b964-dd6961228be2",
   "metadata": {},
   "outputs": [],
   "source": [
    "for i in miss_col5:\n",
    "    lead_data[i]=lead_data[i].fillna('unknown')"
   ]
  },
  {
   "cell_type": "code",
   "execution_count": 21,
   "id": "ad994262-ddcd-491c-9a24-2b09f113ea10",
   "metadata": {},
   "outputs": [
    {
     "data": {
      "text/plain": [
       "Lead Origin                                      0.000000\n",
       "Lead Source                                      0.389610\n",
       "Do Not Email                                     0.000000\n",
       "Do Not Call                                      0.000000\n",
       "Converted                                        0.000000\n",
       "TotalVisits                                      1.482684\n",
       "Total Time Spent on Website                      0.000000\n",
       "Page Views Per Visit                             1.482684\n",
       "Last Activity                                    1.114719\n",
       "Country                                          0.000000\n",
       "Specialization                                   0.000000\n",
       "How did you hear about X Education               0.000000\n",
       "What is your current occupation                  0.000000\n",
       "What matters most to you in choosing a course    0.000000\n",
       "Search                                           0.000000\n",
       "Magazine                                         0.000000\n",
       "Newspaper Article                                0.000000\n",
       "X Education Forums                               0.000000\n",
       "Newspaper                                        0.000000\n",
       "Digital Advertisement                            0.000000\n",
       "Through Recommendations                          0.000000\n",
       "Receive More Updates About Our Courses           0.000000\n",
       "Tags                                             0.000000\n",
       "Update me on Supply Chain Content                0.000000\n",
       "Get updates on DM Content                        0.000000\n",
       "Lead Profile                                     0.000000\n",
       "City                                             0.000000\n",
       "I agree to pay the amount through cheque         0.000000\n",
       "A free copy of Mastering The Interview           0.000000\n",
       "Last Notable Activity                            0.000000\n",
       "dtype: float64"
      ]
     },
     "execution_count": 21,
     "metadata": {},
     "output_type": "execute_result"
    }
   ],
   "source": [
    "lead_data.isnull().mean()*100"
   ]
  },
  {
   "cell_type": "code",
   "execution_count": null,
   "id": "93414ad0-67ce-40bb-ba17-af956218db4c",
   "metadata": {},
   "outputs": [],
   "source": []
  },
  {
   "cell_type": "code",
   "execution_count": 22,
   "id": "e73cd5f5-a9fe-4119-abf5-999d2cc75708",
   "metadata": {},
   "outputs": [
    {
     "data": {
      "text/plain": [
       "Lead Origin                                        0\n",
       "Lead Source                                       36\n",
       "Do Not Email                                       0\n",
       "Do Not Call                                        0\n",
       "Converted                                          0\n",
       "TotalVisits                                      137\n",
       "Total Time Spent on Website                        0\n",
       "Page Views Per Visit                             137\n",
       "Last Activity                                    103\n",
       "Country                                            0\n",
       "Specialization                                     0\n",
       "How did you hear about X Education                 0\n",
       "What is your current occupation                    0\n",
       "What matters most to you in choosing a course      0\n",
       "Search                                             0\n",
       "Magazine                                           0\n",
       "Newspaper Article                                  0\n",
       "X Education Forums                                 0\n",
       "Newspaper                                          0\n",
       "Digital Advertisement                              0\n",
       "Through Recommendations                            0\n",
       "Receive More Updates About Our Courses             0\n",
       "Tags                                               0\n",
       "Update me on Supply Chain Content                  0\n",
       "Get updates on DM Content                          0\n",
       "Lead Profile                                       0\n",
       "City                                               0\n",
       "I agree to pay the amount through cheque           0\n",
       "A free copy of Mastering The Interview             0\n",
       "Last Notable Activity                              0\n",
       "dtype: int64"
      ]
     },
     "execution_count": 22,
     "metadata": {},
     "output_type": "execute_result"
    }
   ],
   "source": [
    "lead_data.isnull().sum()"
   ]
  },
  {
   "cell_type": "code",
   "execution_count": null,
   "id": "dfbcafd1-e2b9-4d85-922f-62e3c281a213",
   "metadata": {},
   "outputs": [],
   "source": []
  },
  {
   "cell_type": "markdown",
   "id": "96f53b70-3537-4910-b142-878b3c088c23",
   "metadata": {},
   "source": [
    "we can see there  are less number of missing values so deleting the rows dropping them"
   ]
  },
  {
   "cell_type": "code",
   "execution_count": 23,
   "id": "51e2a8dd-5177-4c7c-8049-8072b8142ae0",
   "metadata": {},
   "outputs": [],
   "source": [
    "lead_data=lead_data.dropna()"
   ]
  },
  {
   "cell_type": "code",
   "execution_count": 24,
   "id": "31e9f78c-a3c3-43f4-a752-8b14493c5c33",
   "metadata": {},
   "outputs": [
    {
     "data": {
      "text/plain": [
       "Lead Origin                                      0.0\n",
       "Lead Source                                      0.0\n",
       "Do Not Email                                     0.0\n",
       "Do Not Call                                      0.0\n",
       "Converted                                        0.0\n",
       "TotalVisits                                      0.0\n",
       "Total Time Spent on Website                      0.0\n",
       "Page Views Per Visit                             0.0\n",
       "Last Activity                                    0.0\n",
       "Country                                          0.0\n",
       "Specialization                                   0.0\n",
       "How did you hear about X Education               0.0\n",
       "What is your current occupation                  0.0\n",
       "What matters most to you in choosing a course    0.0\n",
       "Search                                           0.0\n",
       "Magazine                                         0.0\n",
       "Newspaper Article                                0.0\n",
       "X Education Forums                               0.0\n",
       "Newspaper                                        0.0\n",
       "Digital Advertisement                            0.0\n",
       "Through Recommendations                          0.0\n",
       "Receive More Updates About Our Courses           0.0\n",
       "Tags                                             0.0\n",
       "Update me on Supply Chain Content                0.0\n",
       "Get updates on DM Content                        0.0\n",
       "Lead Profile                                     0.0\n",
       "City                                             0.0\n",
       "I agree to pay the amount through cheque         0.0\n",
       "A free copy of Mastering The Interview           0.0\n",
       "Last Notable Activity                            0.0\n",
       "dtype: float64"
      ]
     },
     "execution_count": 24,
     "metadata": {},
     "output_type": "execute_result"
    }
   ],
   "source": [
    "lead_data.isnull().mean()*100"
   ]
  },
  {
   "cell_type": "code",
   "execution_count": null,
   "id": "c804e6d6-df12-4ca9-a4d5-d091b5fb5a0f",
   "metadata": {},
   "outputs": [],
   "source": []
  },
  {
   "cell_type": "code",
   "execution_count": 25,
   "id": "1126e073-7166-4b30-8b6a-28ac74f18782",
   "metadata": {},
   "outputs": [
    {
     "data": {
      "text/plain": [
       "I agree to pay the amount through cheque\n",
       "No    9074\n",
       "Name: count, dtype: int64"
      ]
     },
     "execution_count": 25,
     "metadata": {},
     "output_type": "execute_result"
    }
   ],
   "source": [
    "lead_data['I agree to pay the amount through cheque'].value_counts()"
   ]
  },
  {
   "cell_type": "markdown",
   "id": "0a4f1ec3-3cff-4ccd-a692-5c6ee81efc21",
   "metadata": {},
   "source": [
    "All most all data of columns is NO by default we can consider that people are not paying through cheque. wo we can remove this columns it"
   ]
  },
  {
   "cell_type": "code",
   "execution_count": null,
   "id": "8debf116-c6b1-4c5b-b237-7912e12364d1",
   "metadata": {},
   "outputs": [],
   "source": []
  },
  {
   "cell_type": "code",
   "execution_count": 26,
   "id": "10971ef4-4d5d-4375-99ec-da38a071f019",
   "metadata": {},
   "outputs": [],
   "source": [
    "lead_data=lead_data.drop(['I agree to pay the amount through cheque'],axis=1)"
   ]
  },
  {
   "cell_type": "code",
   "execution_count": 27,
   "id": "881a14bd-129b-4a3f-bee4-4a9461c00cb8",
   "metadata": {},
   "outputs": [
    {
     "data": {
      "text/plain": [
       "(9074, 29)"
      ]
     },
     "execution_count": 27,
     "metadata": {},
     "output_type": "execute_result"
    }
   ],
   "source": [
    "lead_data.shape"
   ]
  },
  {
   "cell_type": "markdown",
   "id": "6e5ccdef-001f-4c7e-b099-67efdaaac534",
   "metadata": {},
   "source": [
    "166 rows and 8 columns removed till now"
   ]
  },
  {
   "cell_type": "code",
   "execution_count": null,
   "id": "b1fce334-c9d5-4d25-b541-f2010f237aa2",
   "metadata": {},
   "outputs": [],
   "source": []
  },
  {
   "cell_type": "code",
   "execution_count": 28,
   "id": "bacfbc82-fa40-4850-9c84-a90cc2c6a3da",
   "metadata": {},
   "outputs": [
    {
     "data": {
      "text/plain": [
       "Converted\n",
       "0    5639\n",
       "1    3435\n",
       "Name: count, dtype: int64"
      ]
     },
     "execution_count": 28,
     "metadata": {},
     "output_type": "execute_result"
    }
   ],
   "source": [
    "lead_data['Converted'].astype('category').value_counts()"
   ]
  },
  {
   "cell_type": "markdown",
   "id": "e5ae0148-3cfe-43a1-aaeb-a03809c3f7fd",
   "metadata": {},
   "source": [
    "we can see here 3435 are converted while 3639 are not converted"
   ]
  },
  {
   "cell_type": "code",
   "execution_count": 29,
   "id": "45da2495-c2c3-4cfe-b564-4735a6ebf780",
   "metadata": {},
   "outputs": [
    {
     "data": {
      "text/plain": [
       "Search\n",
       "No     9060\n",
       "Yes      14\n",
       "Name: count, dtype: int64"
      ]
     },
     "execution_count": 29,
     "metadata": {},
     "output_type": "execute_result"
    }
   ],
   "source": [
    "lead_data['Search'].astype('category').value_counts()"
   ]
  },
  {
   "cell_type": "code",
   "execution_count": 30,
   "id": "4099f800-e4f3-4646-9db4-475753fa8a52",
   "metadata": {},
   "outputs": [
    {
     "data": {
      "text/plain": [
       "How did you hear about X Education\n",
       "unknown                  7086\n",
       "Online Search             808\n",
       "Word Of Mouth             347\n",
       "Student of SomeSchool     310\n",
       "Other                     186\n",
       "Multiple Sources          152\n",
       "Advertisements             70\n",
       "Social Media               66\n",
       "Email                      26\n",
       "SMS                        23\n",
       "Name: count, dtype: int64"
      ]
     },
     "execution_count": 30,
     "metadata": {},
     "output_type": "execute_result"
    }
   ],
   "source": [
    "lead_data['How did you hear about X Education'].astype('category').value_counts()"
   ]
  },
  {
   "cell_type": "code",
   "execution_count": null,
   "id": "336ebce0-7477-494b-9353-b4fd3f69fb83",
   "metadata": {},
   "outputs": [],
   "source": []
  },
  {
   "cell_type": "code",
   "execution_count": 31,
   "id": "9f33977d-f6f5-4a93-b480-734ea20b7844",
   "metadata": {},
   "outputs": [
    {
     "data": {
      "text/plain": [
       "Specialization\n",
       "unknown                              3282\n",
       "Finance Management                    959\n",
       "Human Resource Management             837\n",
       "Marketing Management                  823\n",
       "Operations Management                 499\n",
       "Business Administration               399\n",
       "IT Projects Management                366\n",
       "Supply Chain Management               346\n",
       "Banking, Investment And Insurance     335\n",
       "Media and Advertising                 202\n",
       "Travel and Tourism                    202\n",
       "International Business                176\n",
       "Healthcare Management                 156\n",
       "Hospitality Management                111\n",
       "E-COMMERCE                            111\n",
       "Retail Management                     100\n",
       "Rural and Agribusiness                 73\n",
       "E-Business                             57\n",
       "Services Excellence                    40\n",
       "Name: count, dtype: int64"
      ]
     },
     "execution_count": 31,
     "metadata": {},
     "output_type": "execute_result"
    }
   ],
   "source": [
    "lead_data['Specialization'].astype('category').value_counts()"
   ]
  },
  {
   "cell_type": "code",
   "execution_count": 32,
   "id": "d8a566d4-303e-4e05-8f3d-5b15661d69a5",
   "metadata": {},
   "outputs": [
    {
     "data": {
      "text/plain": [
       "What matters most to you in choosing a course\n",
       "Better Career Prospects      6370\n",
       "unknown                      2702\n",
       "Flexibility & Convenience       1\n",
       "Other                           1\n",
       "Name: count, dtype: int64"
      ]
     },
     "execution_count": 32,
     "metadata": {},
     "output_type": "execute_result"
    }
   ],
   "source": [
    "lead_data['What matters most to you in choosing a course'].astype('category').value_counts()"
   ]
  },
  {
   "cell_type": "code",
   "execution_count": 33,
   "id": "bf74ef20-9115-464b-88b5-965a5cfdb2bc",
   "metadata": {},
   "outputs": [
    {
     "data": {
      "text/plain": [
       "Tags\n",
       "unknown                                              3327\n",
       "Will revert after reading the email                  2016\n",
       "Ringing                                              1187\n",
       "Interested in other courses                           509\n",
       "Already a student                                     465\n",
       "Closed by Horizzon                                    301\n",
       "switched off                                          240\n",
       "Busy                                                  185\n",
       "Lost to EINS                                          172\n",
       "Not doing further education                           145\n",
       "Interested  in full time MBA                          116\n",
       "Graduation in progress                                111\n",
       "invalid number                                         83\n",
       "Diploma holder (Not Eligible)                          63\n",
       "wrong number given                                     47\n",
       "opp hangup                                             33\n",
       "number not provided                                    25\n",
       "in touch with EINS                                     12\n",
       "Lost to Others                                          7\n",
       "Still Thinking                                          6\n",
       "Want to take admission but has financial problems       6\n",
       "Interested in Next batch                                5\n",
       "In confusion whether part time or DLP                   5\n",
       "Lateral student                                         3\n",
       "Shall take in the next coming month                     2\n",
       "University not recognized                               2\n",
       "Recognition issue (DEC approval)                        1\n",
       "Name: count, dtype: int64"
      ]
     },
     "execution_count": 33,
     "metadata": {},
     "output_type": "execute_result"
    }
   ],
   "source": [
    "lead_data['Tags'].astype('category').value_counts()"
   ]
  },
  {
   "cell_type": "code",
   "execution_count": 34,
   "id": "8f756854-2a8d-4efc-bfdc-921cdea955fe",
   "metadata": {},
   "outputs": [
    {
     "data": {
      "text/plain": [
       "Lead Origin\n",
       "Landing Page Submission    4885\n",
       "API                        3578\n",
       "Lead Add Form               581\n",
       "Lead Import                  30\n",
       "Name: count, dtype: int64"
      ]
     },
     "execution_count": 34,
     "metadata": {},
     "output_type": "execute_result"
    }
   ],
   "source": [
    "lead_data['Lead Origin'].astype('category').value_counts()"
   ]
  },
  {
   "cell_type": "code",
   "execution_count": 35,
   "id": "25560a62-2ffa-4aff-b272-81067d0ba6b4",
   "metadata": {},
   "outputs": [
    {
     "data": {
      "text/plain": [
       "Lead Profile\n",
       "unknown                        6757\n",
       "Potential Lead                 1554\n",
       "Other Leads                     482\n",
       "Student of SomeSchool           240\n",
       "Lateral Student                  21\n",
       "Dual Specialization Student      20\n",
       "Name: count, dtype: int64"
      ]
     },
     "execution_count": 35,
     "metadata": {},
     "output_type": "execute_result"
    }
   ],
   "source": [
    "lead_data['Lead Profile'].astype('category').value_counts()"
   ]
  },
  {
   "cell_type": "code",
   "execution_count": null,
   "id": "27a91524-f753-4332-8b2a-531e20b40b5a",
   "metadata": {},
   "outputs": [],
   "source": []
  },
  {
   "cell_type": "markdown",
   "id": "fa7cedf3-91d1-4462-8439-b4145bcfeb91",
   "metadata": {},
   "source": [
    "EDA doing some charts  using matplotlib or seaborn sns"
   ]
  },
  {
   "cell_type": "markdown",
   "id": "c48690dd-6b2a-433e-9620-a11236e57539",
   "metadata": {},
   "source": [
    "**Univariate**"
   ]
  },
  {
   "cell_type": "markdown",
   "id": "101e6aba-951d-4f68-a3e3-2c67760f8d67",
   "metadata": {},
   "source": [
    "converted column's bar chart"
   ]
  },
  {
   "cell_type": "code",
   "execution_count": 36,
   "id": "b44bcd86-8791-4738-89b2-7217d7d3e9ae",
   "metadata": {},
   "outputs": [
    {
     "data": {
      "image/png": "[encoded data removed]",
      "text/plain": [
       "<Figure size 350x350 with 1 Axes>"
      ]
     },
     "metadata": {},
     "output_type": "display_data"
    }
   ],
   "source": [
    "sns.displot(lead_data,x='Converted',height=3.5)\n",
    "plt.show()"
   ]
  },
  {
   "cell_type": "markdown",
   "id": "fea35b7d-06de-406b-8e86-539c73baef77",
   "metadata": {},
   "source": [
    "can see  1 is less means converted are less and 0 are more means not converted are more in given data set"
   ]
  },
  {
   "cell_type": "code",
   "execution_count": 37,
   "id": "f8557919-f5da-4db7-86a8-839f2017ab46",
   "metadata": {},
   "outputs": [
    {
     "data": {
      "image/png": "[encoded data removed]",
      "text/plain": [
       "<Figure size 350x350 with 1 Axes>"
      ]
     },
     "metadata": {},
     "output_type": "display_data"
    }
   ],
   "source": [
    "sns.displot(lead_data,x='City',height=3.5)\n",
    "plt.xticks(rotation=90)\n",
    "plt.show()"
   ]
  },
  {
   "cell_type": "markdown",
   "id": "6df82a02-c4ea-451d-b573-6f773b7b4d52",
   "metadata": {},
   "source": [
    "we can see most of them are unknown in general but most from Mumbai"
   ]
  },
  {
   "cell_type": "code",
   "execution_count": 38,
   "id": "1b11cebb-f935-4d2b-a422-d5867841b80d",
   "metadata": {},
   "outputs": [
    {
     "data": {
      "image/png": "[encoded data removed]",
      "text/plain": [
       "<Figure size 500x500 with 1 Axes>"
      ]
     },
     "metadata": {},
     "output_type": "display_data"
    }
   ],
   "source": [
    "sns.displot(lead_data,x='Specialization')\n",
    "plt.xticks(rotation=90)\n",
    "plt.show()"
   ]
  },
  {
   "cell_type": "markdown",
   "id": "c1965126-e218-4ce1-ad9b-94244f387a8c",
   "metadata": {},
   "source": [
    "Leaving unknow most of the people are from Finance, HR and Marketing managements ahdnoeast from services excellence"
   ]
  },
  {
   "cell_type": "code",
   "execution_count": null,
   "id": "aafd8e55-e726-45be-a2f3-2b243b4d257f",
   "metadata": {},
   "outputs": [],
   "source": []
  },
  {
   "cell_type": "markdown",
   "id": "4e492733-5e8f-4d8c-9a91-532cccd3d5a6",
   "metadata": {},
   "source": [
    "**Bivariate**"
   ]
  },
  {
   "cell_type": "code",
   "execution_count": 39,
   "id": "4814f969-fb21-4c02-a1fe-027e8ab82d7e",
   "metadata": {},
   "outputs": [
    {
     "data": {
      "image/png": "[encoded data removed]",
      "text/plain": [
       "<Figure size 640x480 with 1 Axes>"
      ]
     },
     "metadata": {},
     "output_type": "display_data"
    }
   ],
   "source": [
    "sns.countplot(data=lead_data, x='Country', hue='Converted', palette='muted')\n",
    "plt.xticks(rotation=90)\n",
    "plt.show()"
   ]
  },
  {
   "cell_type": "markdown",
   "id": "3d5238af-ce83-4124-bab2-5b042d86d56a",
   "metadata": {},
   "source": [
    "we can see most are from the India either converted or not converted and followed by USA, UAE, Saudi Arabia, Qatar, Singapore"
   ]
  },
  {
   "cell_type": "code",
   "execution_count": null,
   "id": "39addb54-c0ab-4e70-aed8-78916f427ab2",
   "metadata": {},
   "outputs": [],
   "source": []
  },
  {
   "cell_type": "code",
   "execution_count": 40,
   "id": "b31535f5-81a9-4c0d-b277-ac05f66f421f",
   "metadata": {},
   "outputs": [
    {
     "data": {
      "image/png": "[encoded data removed]",
      "text/plain": [
       "<Figure size 640x480 with 1 Axes>"
      ]
     },
     "metadata": {},
     "output_type": "display_data"
    }
   ],
   "source": [
    "sns.countplot(data=lead_data,x='What is your current occupation',hue='Converted', palette='muted')\n",
    "plt.xticks(rotation=90)\n",
    "plt.show()"
   ]
  },
  {
   "cell_type": "code",
   "execution_count": null,
   "id": "34953a36-fff2-4452-af18-bd90190af4b2",
   "metadata": {},
   "outputs": [],
   "source": []
  },
  {
   "cell_type": "markdown",
   "id": "fe192d5f-e337-4a2c-bb45-18fbcc9653ac",
   "metadata": {},
   "source": [
    "most of the people who apply are unemployed, but as for working professionals from the applied ones most are converted"
   ]
  },
  {
   "cell_type": "code",
   "execution_count": null,
   "id": "38ad2e03-cc78-4347-b32a-726197b8e85e",
   "metadata": {},
   "outputs": [],
   "source": []
  },
  {
   "cell_type": "code",
   "execution_count": 41,
   "id": "424b5852-5f4b-4135-905c-2b815381ee34",
   "metadata": {},
   "outputs": [
    {
     "data": {
      "image/png": "[encoded data removed]",
      "text/plain": [
       "<Figure size 640x480 with 1 Axes>"
      ]
     },
     "metadata": {},
     "output_type": "display_data"
    }
   ],
   "source": [
    "sns.countplot(data=lead_data,x='Specialization',hue='Converted', palette='muted')\n",
    "plt.xticks(rotation=90)\n",
    "plt.show()"
   ]
  },
  {
   "cell_type": "markdown",
   "id": "a3515cbc-85d6-46dc-b2d2-612f11e64313",
   "metadata": {},
   "source": [
    "Again converted are almost equal in finance, hr, marketing management specializations followed by Operations, IT projects, Business admin and supply chain"
   ]
  },
  {
   "cell_type": "markdown",
   "id": "7970ed7c-5d6f-4340-89c2-597fd29ca2af",
   "metadata": {},
   "source": [
    "=================="
   ]
  },
  {
   "cell_type": "markdown",
   "id": "5cf4acb9-93de-465f-984c-2a0044ffd0c2",
   "metadata": {},
   "source": [
    "doing the label encoding here for categorical variables, first will get categorical columns and then do dummy one hot"
   ]
  },
  {
   "cell_type": "code",
   "execution_count": 42,
   "id": "2d9bee4d-e501-4ee3-93ee-8c453124a6a2",
   "metadata": {},
   "outputs": [],
   "source": [
    "encoder=LabelEncoder()"
   ]
  },
  {
   "cell_type": "code",
   "execution_count": 43,
   "id": "1f855737-54d0-4089-8baf-924d9ad3b0ed",
   "metadata": {},
   "outputs": [
    {
     "data": {
      "text/plain": [
       "Index(['Lead Origin', 'Lead Source', 'Do Not Email', 'Do Not Call',\n",
       "       'Last Activity', 'Country', 'Specialization',\n",
       "       'How did you hear about X Education', 'What is your current occupation',\n",
       "       'What matters most to you in choosing a course', 'Search', 'Magazine',\n",
       "       'Newspaper Article', 'X Education Forums', 'Newspaper',\n",
       "       'Digital Advertisement', 'Through Recommendations',\n",
       "       'Receive More Updates About Our Courses', 'Tags',\n",
       "       'Update me on Supply Chain Content', 'Get updates on DM Content',\n",
       "       'Lead Profile', 'City', 'A free copy of Mastering The Interview',\n",
       "       'Last Notable Activity'],\n",
       "      dtype='object')"
      ]
     },
     "execution_count": 43,
     "metadata": {},
     "output_type": "execute_result"
    }
   ],
   "source": [
    "cat_cols=lead_data.loc[:,lead_data.dtypes=='object']\n",
    "cat_cols.columns"
   ]
  },
  {
   "cell_type": "code",
   "execution_count": null,
   "id": "8cdaf50b-7800-466d-82f3-135baf7c3f34",
   "metadata": {},
   "outputs": [],
   "source": []
  },
  {
   "cell_type": "code",
   "execution_count": 44,
   "id": "f8c1356e-a126-4453-a9f5-25c605df6494",
   "metadata": {},
   "outputs": [],
   "source": [
    "for i in cat_cols:\n",
    "    encoder=LabelEncoder()\n",
    "    lead_data[i]=encoder.fit_transform(lead_data[i])\n"
   ]
  },
  {
   "cell_type": "code",
   "execution_count": 45,
   "id": "ed97aaeb-abca-4490-96e0-e9f2da5cb5ca",
   "metadata": {},
   "outputs": [
    {
     "data": {
      "text/plain": [
       "(9074, 29)"
      ]
     },
     "execution_count": 45,
     "metadata": {},
     "output_type": "execute_result"
    }
   ],
   "source": [
    "lead_data.shape"
   ]
  },
  {
   "cell_type": "code",
   "execution_count": 46,
   "id": "ff7e3bfa-7ca7-4fa0-a1a6-b17534f4da7c",
   "metadata": {},
   "outputs": [
    {
     "data": {
      "text/html": [
       "<div>\n",
       "<style scoped>\n",
       "    .dataframe tbody tr th:only-of-type {\n",
       "        vertical-align: middle;\n",
       "    }\n",
       "\n",
       "    .dataframe tbody tr th {\n",
       "        vertical-align: top;\n",
       "    }\n",
       "\n",
       "    .dataframe thead th {\n",
       "        text-align: right;\n",
       "    }\n",
       "</style>\n",
       "<table border=\"1\" class=\"dataframe\">\n",
       "  <thead>\n",
       "    <tr style=\"text-align: right;\">\n",
       "      <th></th>\n",
       "      <th>Lead Origin</th>\n",
       "      <th>Lead Source</th>\n",
       "      <th>Do Not Email</th>\n",
       "      <th>Do Not Call</th>\n",
       "      <th>Converted</th>\n",
       "      <th>TotalVisits</th>\n",
       "      <th>Total Time Spent on Website</th>\n",
       "      <th>Page Views Per Visit</th>\n",
       "      <th>Last Activity</th>\n",
       "      <th>Country</th>\n",
       "      <th>...</th>\n",
       "      <th>Digital Advertisement</th>\n",
       "      <th>Through Recommendations</th>\n",
       "      <th>Receive More Updates About Our Courses</th>\n",
       "      <th>Tags</th>\n",
       "      <th>Update me on Supply Chain Content</th>\n",
       "      <th>Get updates on DM Content</th>\n",
       "      <th>Lead Profile</th>\n",
       "      <th>City</th>\n",
       "      <th>A free copy of Mastering The Interview</th>\n",
       "      <th>Last Notable Activity</th>\n",
       "    </tr>\n",
       "  </thead>\n",
       "  <tbody>\n",
       "    <tr>\n",
       "      <th>0</th>\n",
       "      <td>0</td>\n",
       "      <td>6</td>\n",
       "      <td>0</td>\n",
       "      <td>0</td>\n",
       "      <td>0</td>\n",
       "      <td>0.0</td>\n",
       "      <td>0</td>\n",
       "      <td>0.0</td>\n",
       "      <td>10</td>\n",
       "      <td>37</td>\n",
       "      <td>...</td>\n",
       "      <td>0</td>\n",
       "      <td>0</td>\n",
       "      <td>0</td>\n",
       "      <td>8</td>\n",
       "      <td>0</td>\n",
       "      <td>0</td>\n",
       "      <td>5</td>\n",
       "      <td>6</td>\n",
       "      <td>0</td>\n",
       "      <td>8</td>\n",
       "    </tr>\n",
       "    <tr>\n",
       "      <th>1</th>\n",
       "      <td>0</td>\n",
       "      <td>7</td>\n",
       "      <td>0</td>\n",
       "      <td>0</td>\n",
       "      <td>0</td>\n",
       "      <td>5.0</td>\n",
       "      <td>674</td>\n",
       "      <td>2.5</td>\n",
       "      <td>5</td>\n",
       "      <td>12</td>\n",
       "      <td>...</td>\n",
       "      <td>0</td>\n",
       "      <td>0</td>\n",
       "      <td>0</td>\n",
       "      <td>14</td>\n",
       "      <td>0</td>\n",
       "      <td>0</td>\n",
       "      <td>5</td>\n",
       "      <td>6</td>\n",
       "      <td>0</td>\n",
       "      <td>4</td>\n",
       "    </tr>\n",
       "    <tr>\n",
       "      <th>2</th>\n",
       "      <td>1</td>\n",
       "      <td>1</td>\n",
       "      <td>0</td>\n",
       "      <td>0</td>\n",
       "      <td>1</td>\n",
       "      <td>2.0</td>\n",
       "      <td>1532</td>\n",
       "      <td>2.0</td>\n",
       "      <td>5</td>\n",
       "      <td>12</td>\n",
       "      <td>...</td>\n",
       "      <td>0</td>\n",
       "      <td>0</td>\n",
       "      <td>0</td>\n",
       "      <td>19</td>\n",
       "      <td>0</td>\n",
       "      <td>0</td>\n",
       "      <td>3</td>\n",
       "      <td>0</td>\n",
       "      <td>1</td>\n",
       "      <td>4</td>\n",
       "    </tr>\n",
       "    <tr>\n",
       "      <th>3</th>\n",
       "      <td>1</td>\n",
       "      <td>1</td>\n",
       "      <td>0</td>\n",
       "      <td>0</td>\n",
       "      <td>0</td>\n",
       "      <td>1.0</td>\n",
       "      <td>305</td>\n",
       "      <td>1.0</td>\n",
       "      <td>13</td>\n",
       "      <td>12</td>\n",
       "      <td>...</td>\n",
       "      <td>0</td>\n",
       "      <td>0</td>\n",
       "      <td>0</td>\n",
       "      <td>14</td>\n",
       "      <td>0</td>\n",
       "      <td>0</td>\n",
       "      <td>5</td>\n",
       "      <td>0</td>\n",
       "      <td>0</td>\n",
       "      <td>8</td>\n",
       "    </tr>\n",
       "    <tr>\n",
       "      <th>4</th>\n",
       "      <td>1</td>\n",
       "      <td>3</td>\n",
       "      <td>0</td>\n",
       "      <td>0</td>\n",
       "      <td>1</td>\n",
       "      <td>2.0</td>\n",
       "      <td>1428</td>\n",
       "      <td>1.0</td>\n",
       "      <td>1</td>\n",
       "      <td>12</td>\n",
       "      <td>...</td>\n",
       "      <td>0</td>\n",
       "      <td>0</td>\n",
       "      <td>0</td>\n",
       "      <td>19</td>\n",
       "      <td>0</td>\n",
       "      <td>0</td>\n",
       "      <td>5</td>\n",
       "      <td>0</td>\n",
       "      <td>0</td>\n",
       "      <td>8</td>\n",
       "    </tr>\n",
       "  </tbody>\n",
       "</table>\n",
       "<p>5 rows × 29 columns</p>\n",
       "</div>"
      ],
      "text/plain": [
       "   Lead Origin  Lead Source  Do Not Email  Do Not Call  Converted  \\\n",
       "0            0            6             0            0          0   \n",
       "1            0            7             0            0          0   \n",
       "2            1            1             0            0          1   \n",
       "3            1            1             0            0          0   \n",
       "4            1            3             0            0          1   \n",
       "\n",
       "   TotalVisits  Total Time Spent on Website  Page Views Per Visit  \\\n",
       "0          0.0                            0                   0.0   \n",
       "1          5.0                          674                   2.5   \n",
       "2          2.0                         1532                   2.0   \n",
       "3          1.0                          305                   1.0   \n",
       "4          2.0                         1428                   1.0   \n",
       "\n",
       "   Last Activity  Country  ...  Digital Advertisement  \\\n",
       "0             10       37  ...                      0   \n",
       "1              5       12  ...                      0   \n",
       "2              5       12  ...                      0   \n",
       "3             13       12  ...                      0   \n",
       "4              1       12  ...                      0   \n",
       "\n",
       "   Through Recommendations  Receive More Updates About Our Courses  Tags  \\\n",
       "0                        0                                       0     8   \n",
       "1                        0                                       0    14   \n",
       "2                        0                                       0    19   \n",
       "3                        0                                       0    14   \n",
       "4                        0                                       0    19   \n",
       "\n",
       "   Update me on Supply Chain Content  Get updates on DM Content  Lead Profile  \\\n",
       "0                                  0                          0             5   \n",
       "1                                  0                          0             5   \n",
       "2                                  0                          0             3   \n",
       "3                                  0                          0             5   \n",
       "4                                  0                          0             5   \n",
       "\n",
       "   City  A free copy of Mastering The Interview  Last Notable Activity  \n",
       "0     6                                       0                      8  \n",
       "1     6                                       0                      4  \n",
       "2     0                                       1                      4  \n",
       "3     0                                       0                      8  \n",
       "4     0                                       0                      8  \n",
       "\n",
       "[5 rows x 29 columns]"
      ]
     },
     "execution_count": 46,
     "metadata": {},
     "output_type": "execute_result"
    }
   ],
   "source": [
    "lead_data.head()"
   ]
  },
  {
   "cell_type": "code",
   "execution_count": null,
   "id": "69e19c42-4514-4e12-9801-0fda70d79a0d",
   "metadata": {},
   "outputs": [],
   "source": []
  },
  {
   "cell_type": "markdown",
   "id": "a7f5a859-1f0b-4109-94ff-12f36d34c145",
   "metadata": {},
   "source": [
    "Splitting the data into the Train and Test data sets "
   ]
  },
  {
   "cell_type": "code",
   "execution_count": 47,
   "id": "04965a75-f54a-4991-8746-4506cc54cbf0",
   "metadata": {},
   "outputs": [],
   "source": [
    "x=lead_data.drop(['Converted'],axis=1)\n",
    "y=lead_data['Converted']"
   ]
  },
  {
   "cell_type": "code",
   "execution_count": 48,
   "id": "5d0e7a67-252b-4509-925f-9437d9de8c17",
   "metadata": {},
   "outputs": [],
   "source": [
    "x_train,x_test,y_train,y_test=train_test_split(x,y,train_size=0.7,random_state=0)"
   ]
  },
  {
   "cell_type": "code",
   "execution_count": 49,
   "id": "543f4aa4-34cc-452f-b616-c332a56c07eb",
   "metadata": {},
   "outputs": [
    {
     "data": {
      "text/plain": [
       "(6351, 28)"
      ]
     },
     "execution_count": 49,
     "metadata": {},
     "output_type": "execute_result"
    }
   ],
   "source": [
    "x_train.shape"
   ]
  },
  {
   "cell_type": "code",
   "execution_count": 50,
   "id": "d23276e1-04fd-4fba-87ef-383d4e9c748a",
   "metadata": {},
   "outputs": [
    {
     "data": {
      "text/plain": [
       "(6351,)"
      ]
     },
     "execution_count": 50,
     "metadata": {},
     "output_type": "execute_result"
    }
   ],
   "source": [
    "y_train.shape"
   ]
  },
  {
   "cell_type": "code",
   "execution_count": 51,
   "id": "3eada8b1-fe94-45b0-9cc3-8a1e6e683085",
   "metadata": {},
   "outputs": [
    {
     "data": {
      "text/plain": [
       "(2723, 28)"
      ]
     },
     "execution_count": 51,
     "metadata": {},
     "output_type": "execute_result"
    }
   ],
   "source": [
    "x_test.shape"
   ]
  },
  {
   "cell_type": "code",
   "execution_count": 52,
   "id": "dfa48871-3c34-4816-b9f4-2555a762aac9",
   "metadata": {},
   "outputs": [
    {
     "data": {
      "text/plain": [
       "(2723,)"
      ]
     },
     "execution_count": 52,
     "metadata": {},
     "output_type": "execute_result"
    }
   ],
   "source": [
    "y_test.shape"
   ]
  },
  {
   "cell_type": "code",
   "execution_count": null,
   "id": "3c672317-97b5-4c03-81a7-c0e54076222b",
   "metadata": {},
   "outputs": [],
   "source": []
  },
  {
   "cell_type": "markdown",
   "id": "6078a6a8-7b5e-47f7-87e3-9db00aebebfd",
   "metadata": {},
   "source": [
    "Now that values are converted to numbers i.e label encoding AND data is split ie train test, we can scale the data"
   ]
  },
  {
   "cell_type": "markdown",
   "id": "20b9c255-c37a-4059-8730-c22cd2df1b58",
   "metadata": {},
   "source": [
    "I am doing Standard  Scaler"
   ]
  },
  {
   "cell_type": "code",
   "execution_count": null,
   "id": "75dbb3c6-0f54-4502-8332-f5b0f9bd3049",
   "metadata": {},
   "outputs": [],
   "source": []
  },
  {
   "cell_type": "code",
   "execution_count": 53,
   "id": "3336473f-ec74-4127-b9df-0d2f3aa5209c",
   "metadata": {},
   "outputs": [],
   "source": [
    "scaler=StandardScaler()\n",
    "x_train_scaled=scaler.fit_transform(x_train)\n",
    "x_test_scaled=scaler.transform(x_test)"
   ]
  },
  {
   "cell_type": "code",
   "execution_count": 54,
   "id": "e5fa66df-c6c5-4f9c-a719-5536d49159fd",
   "metadata": {},
   "outputs": [
    {
     "data": {
      "text/html": [
       "<div>\n",
       "<style scoped>\n",
       "    .dataframe tbody tr th:only-of-type {\n",
       "        vertical-align: middle;\n",
       "    }\n",
       "\n",
       "    .dataframe tbody tr th {\n",
       "        vertical-align: top;\n",
       "    }\n",
       "\n",
       "    .dataframe thead th {\n",
       "        text-align: right;\n",
       "    }\n",
       "</style>\n",
       "<table border=\"1\" class=\"dataframe\">\n",
       "  <thead>\n",
       "    <tr style=\"text-align: right;\">\n",
       "      <th></th>\n",
       "      <th>Lead Origin</th>\n",
       "      <th>Lead Source</th>\n",
       "      <th>Do Not Email</th>\n",
       "      <th>Do Not Call</th>\n",
       "      <th>TotalVisits</th>\n",
       "      <th>Total Time Spent on Website</th>\n",
       "      <th>Page Views Per Visit</th>\n",
       "      <th>Last Activity</th>\n",
       "      <th>Country</th>\n",
       "      <th>Specialization</th>\n",
       "      <th>...</th>\n",
       "      <th>Digital Advertisement</th>\n",
       "      <th>Through Recommendations</th>\n",
       "      <th>Receive More Updates About Our Courses</th>\n",
       "      <th>Tags</th>\n",
       "      <th>Update me on Supply Chain Content</th>\n",
       "      <th>Get updates on DM Content</th>\n",
       "      <th>Lead Profile</th>\n",
       "      <th>City</th>\n",
       "      <th>A free copy of Mastering The Interview</th>\n",
       "      <th>Last Notable Activity</th>\n",
       "    </tr>\n",
       "  </thead>\n",
       "  <tbody>\n",
       "    <tr>\n",
       "      <th>8174</th>\n",
       "      <td>2</td>\n",
       "      <td>10</td>\n",
       "      <td>0</td>\n",
       "      <td>0</td>\n",
       "      <td>0.0</td>\n",
       "      <td>0</td>\n",
       "      <td>0.0</td>\n",
       "      <td>12</td>\n",
       "      <td>37</td>\n",
       "      <td>18</td>\n",
       "      <td>...</td>\n",
       "      <td>0</td>\n",
       "      <td>0</td>\n",
       "      <td>0</td>\n",
       "      <td>14</td>\n",
       "      <td>0</td>\n",
       "      <td>0</td>\n",
       "      <td>5</td>\n",
       "      <td>6</td>\n",
       "      <td>0</td>\n",
       "      <td>12</td>\n",
       "    </tr>\n",
       "    <tr>\n",
       "      <th>6986</th>\n",
       "      <td>0</td>\n",
       "      <td>6</td>\n",
       "      <td>0</td>\n",
       "      <td>0</td>\n",
       "      <td>0.0</td>\n",
       "      <td>0</td>\n",
       "      <td>0.0</td>\n",
       "      <td>12</td>\n",
       "      <td>37</td>\n",
       "      <td>18</td>\n",
       "      <td>...</td>\n",
       "      <td>0</td>\n",
       "      <td>0</td>\n",
       "      <td>0</td>\n",
       "      <td>25</td>\n",
       "      <td>0</td>\n",
       "      <td>0</td>\n",
       "      <td>5</td>\n",
       "      <td>0</td>\n",
       "      <td>0</td>\n",
       "      <td>12</td>\n",
       "    </tr>\n",
       "    <tr>\n",
       "      <th>8112</th>\n",
       "      <td>2</td>\n",
       "      <td>10</td>\n",
       "      <td>0</td>\n",
       "      <td>0</td>\n",
       "      <td>0.0</td>\n",
       "      <td>0</td>\n",
       "      <td>0.0</td>\n",
       "      <td>12</td>\n",
       "      <td>37</td>\n",
       "      <td>7</td>\n",
       "      <td>...</td>\n",
       "      <td>0</td>\n",
       "      <td>0</td>\n",
       "      <td>0</td>\n",
       "      <td>19</td>\n",
       "      <td>0</td>\n",
       "      <td>0</td>\n",
       "      <td>3</td>\n",
       "      <td>6</td>\n",
       "      <td>0</td>\n",
       "      <td>12</td>\n",
       "    </tr>\n",
       "    <tr>\n",
       "      <th>8530</th>\n",
       "      <td>1</td>\n",
       "      <td>1</td>\n",
       "      <td>0</td>\n",
       "      <td>0</td>\n",
       "      <td>2.0</td>\n",
       "      <td>362</td>\n",
       "      <td>2.0</td>\n",
       "      <td>12</td>\n",
       "      <td>12</td>\n",
       "      <td>15</td>\n",
       "      <td>...</td>\n",
       "      <td>0</td>\n",
       "      <td>0</td>\n",
       "      <td>0</td>\n",
       "      <td>25</td>\n",
       "      <td>0</td>\n",
       "      <td>0</td>\n",
       "      <td>5</td>\n",
       "      <td>0</td>\n",
       "      <td>1</td>\n",
       "      <td>8</td>\n",
       "    </tr>\n",
       "    <tr>\n",
       "      <th>6444</th>\n",
       "      <td>0</td>\n",
       "      <td>6</td>\n",
       "      <td>0</td>\n",
       "      <td>0</td>\n",
       "      <td>6.0</td>\n",
       "      <td>168</td>\n",
       "      <td>1.2</td>\n",
       "      <td>10</td>\n",
       "      <td>37</td>\n",
       "      <td>18</td>\n",
       "      <td>...</td>\n",
       "      <td>0</td>\n",
       "      <td>0</td>\n",
       "      <td>0</td>\n",
       "      <td>8</td>\n",
       "      <td>0</td>\n",
       "      <td>0</td>\n",
       "      <td>5</td>\n",
       "      <td>6</td>\n",
       "      <td>0</td>\n",
       "      <td>10</td>\n",
       "    </tr>\n",
       "  </tbody>\n",
       "</table>\n",
       "<p>5 rows × 28 columns</p>\n",
       "</div>"
      ],
      "text/plain": [
       "      Lead Origin  Lead Source  Do Not Email  Do Not Call  TotalVisits  \\\n",
       "8174            2           10             0            0          0.0   \n",
       "6986            0            6             0            0          0.0   \n",
       "8112            2           10             0            0          0.0   \n",
       "8530            1            1             0            0          2.0   \n",
       "6444            0            6             0            0          6.0   \n",
       "\n",
       "      Total Time Spent on Website  Page Views Per Visit  Last Activity  \\\n",
       "8174                            0                   0.0             12   \n",
       "6986                            0                   0.0             12   \n",
       "8112                            0                   0.0             12   \n",
       "8530                          362                   2.0             12   \n",
       "6444                          168                   1.2             10   \n",
       "\n",
       "      Country  Specialization  ...  Digital Advertisement  \\\n",
       "8174       37              18  ...                      0   \n",
       "6986       37              18  ...                      0   \n",
       "8112       37               7  ...                      0   \n",
       "8530       12              15  ...                      0   \n",
       "6444       37              18  ...                      0   \n",
       "\n",
       "      Through Recommendations  Receive More Updates About Our Courses  Tags  \\\n",
       "8174                        0                                       0    14   \n",
       "6986                        0                                       0    25   \n",
       "8112                        0                                       0    19   \n",
       "8530                        0                                       0    25   \n",
       "6444                        0                                       0     8   \n",
       "\n",
       "      Update me on Supply Chain Content  Get updates on DM Content  \\\n",
       "8174                                  0                          0   \n",
       "6986                                  0                          0   \n",
       "8112                                  0                          0   \n",
       "8530                                  0                          0   \n",
       "6444                                  0                          0   \n",
       "\n",
       "      Lead Profile  City  A free copy of Mastering The Interview  \\\n",
       "8174             5     6                                       0   \n",
       "6986             5     0                                       0   \n",
       "8112             3     6                                       0   \n",
       "8530             5     0                                       1   \n",
       "6444             5     6                                       0   \n",
       "\n",
       "      Last Notable Activity  \n",
       "8174                     12  \n",
       "6986                     12  \n",
       "8112                     12  \n",
       "8530                      8  \n",
       "6444                     10  \n",
       "\n",
       "[5 rows x 28 columns]"
      ]
     },
     "execution_count": 54,
     "metadata": {},
     "output_type": "execute_result"
    }
   ],
   "source": [
    "x_train.head()"
   ]
  },
  {
   "cell_type": "code",
   "execution_count": null,
   "id": "301623b1-ae08-4bb5-9eee-ac6c425289e6",
   "metadata": {},
   "outputs": [],
   "source": []
  },
  {
   "cell_type": "markdown",
   "id": "b34a8b35-8577-4b79-93a5-eb67999b5e46",
   "metadata": {},
   "source": [
    "Model Building"
   ]
  },
  {
   "cell_type": "code",
   "execution_count": 55,
   "id": "ee0c75ec-d222-4173-85fa-a54aa11ff4b4",
   "metadata": {},
   "outputs": [
    {
     "data": {
      "text/html": [
       "<table class=\"simpletable\">\n",
       "<caption>Generalized Linear Model Regression Results</caption>\n",
       "<tr>\n",
       "  <th>Dep. Variable:</th>       <td>Converted</td>    <th>  No. Observations:  </th>  <td>  6351</td> \n",
       "</tr>\n",
       "<tr>\n",
       "  <th>Model:</th>                  <td>GLM</td>       <th>  Df Residuals:      </th>  <td>  6328</td> \n",
       "</tr>\n",
       "<tr>\n",
       "  <th>Model Family:</th>        <td>Binomial</td>     <th>  Df Model:          </th>  <td>    22</td> \n",
       "</tr>\n",
       "<tr>\n",
       "  <th>Link Function:</th>         <td>Logit</td>      <th>  Scale:             </th> <td>  1.0000</td>\n",
       "</tr>\n",
       "<tr>\n",
       "  <th>Method:</th>                <td>IRLS</td>       <th>  Log-Likelihood:    </th> <td> -2625.1</td>\n",
       "</tr>\n",
       "<tr>\n",
       "  <th>Date:</th>            <td>Sun, 19 Jan 2025</td> <th>  Deviance:          </th> <td>  5250.2</td>\n",
       "</tr>\n",
       "<tr>\n",
       "  <th>Time:</th>                <td>21:18:42</td>     <th>  Pearson chi2:      </th> <td>6.91e+03</td>\n",
       "</tr>\n",
       "<tr>\n",
       "  <th>No. Iterations:</th>         <td>20</td>        <th>  Pseudo R-squ. (CS):</th>  <td>0.3964</td> \n",
       "</tr>\n",
       "<tr>\n",
       "  <th>Covariance Type:</th>     <td>nonrobust</td>    <th>                     </th>     <td> </td>   \n",
       "</tr>\n",
       "</table>\n",
       "<table class=\"simpletable\">\n",
       "<tr>\n",
       "                        <td></td>                           <th>coef</th>     <th>std err</th>      <th>z</th>      <th>P>|z|</th>  <th>[0.025</th>    <th>0.975]</th>  \n",
       "</tr>\n",
       "<tr>\n",
       "  <th>const</th>                                         <td>   -6.4601</td> <td>    0.510</td> <td>  -12.656</td> <td> 0.000</td> <td>   -7.461</td> <td>   -5.460</td>\n",
       "</tr>\n",
       "<tr>\n",
       "  <th>Lead Origin</th>                                   <td>    0.5973</td> <td>    0.076</td> <td>    7.905</td> <td> 0.000</td> <td>    0.449</td> <td>    0.745</td>\n",
       "</tr>\n",
       "<tr>\n",
       "  <th>Lead Source</th>                                   <td>    0.1234</td> <td>    0.015</td> <td>    8.301</td> <td> 0.000</td> <td>    0.094</td> <td>    0.153</td>\n",
       "</tr>\n",
       "<tr>\n",
       "  <th>Do Not Email</th>                                  <td>   -1.6777</td> <td>    0.170</td> <td>   -9.887</td> <td> 0.000</td> <td>   -2.010</td> <td>   -1.345</td>\n",
       "</tr>\n",
       "<tr>\n",
       "  <th>Do Not Call</th>                                   <td>   20.5167</td> <td> 2.06e+04</td> <td>    0.001</td> <td> 0.999</td> <td>-4.04e+04</td> <td> 4.04e+04</td>\n",
       "</tr>\n",
       "<tr>\n",
       "  <th>TotalVisits</th>                                   <td>    0.0223</td> <td>    0.009</td> <td>    2.586</td> <td> 0.010</td> <td>    0.005</td> <td>    0.039</td>\n",
       "</tr>\n",
       "<tr>\n",
       "  <th>Total Time Spent on Website</th>                   <td>    0.0021</td> <td> 7.65e-05</td> <td>   27.585</td> <td> 0.000</td> <td>    0.002</td> <td>    0.002</td>\n",
       "</tr>\n",
       "<tr>\n",
       "  <th>Page Views Per Visit</th>                          <td>   -0.0970</td> <td>    0.024</td> <td>   -4.099</td> <td> 0.000</td> <td>   -0.143</td> <td>   -0.051</td>\n",
       "</tr>\n",
       "<tr>\n",
       "  <th>Last Activity</th>                                 <td>    0.0935</td> <td>    0.016</td> <td>    5.812</td> <td> 0.000</td> <td>    0.062</td> <td>    0.125</td>\n",
       "</tr>\n",
       "<tr>\n",
       "  <th>Country</th>                                       <td>    0.0397</td> <td>    0.005</td> <td>    8.084</td> <td> 0.000</td> <td>    0.030</td> <td>    0.049</td>\n",
       "</tr>\n",
       "<tr>\n",
       "  <th>Specialization</th>                                <td>   -0.0242</td> <td>    0.008</td> <td>   -3.089</td> <td> 0.002</td> <td>   -0.040</td> <td>   -0.009</td>\n",
       "</tr>\n",
       "<tr>\n",
       "  <th>How did you hear about X Education</th>            <td>    0.0487</td> <td>    0.021</td> <td>    2.371</td> <td> 0.018</td> <td>    0.008</td> <td>    0.089</td>\n",
       "</tr>\n",
       "<tr>\n",
       "  <th>What is your current occupation</th>               <td>    0.8950</td> <td>    0.108</td> <td>    8.252</td> <td> 0.000</td> <td>    0.682</td> <td>    1.108</td>\n",
       "</tr>\n",
       "<tr>\n",
       "  <th>What matters most to you in choosing a course</th> <td>   -1.2809</td> <td>    0.078</td> <td>  -16.381</td> <td> 0.000</td> <td>   -1.434</td> <td>   -1.128</td>\n",
       "</tr>\n",
       "<tr>\n",
       "  <th>Search</th>                                        <td>   -0.7790</td> <td>    0.955</td> <td>   -0.816</td> <td> 0.414</td> <td>   -2.650</td> <td>    1.092</td>\n",
       "</tr>\n",
       "<tr>\n",
       "  <th>Magazine</th>                                      <td>  -4.5e-10</td> <td> 4.55e-07</td> <td>   -0.001</td> <td> 0.999</td> <td>-8.91e-07</td> <td> 8.91e-07</td>\n",
       "</tr>\n",
       "<tr>\n",
       "  <th>Newspaper Article</th>                             <td>   -0.2096</td> <td> 2.07e+04</td> <td>-1.01e-05</td> <td> 1.000</td> <td>-4.05e+04</td> <td> 4.05e+04</td>\n",
       "</tr>\n",
       "<tr>\n",
       "  <th>X Education Forums</th>                            <td>   -0.2096</td> <td> 2.07e+04</td> <td>-1.01e-05</td> <td> 1.000</td> <td>-4.05e+04</td> <td> 4.05e+04</td>\n",
       "</tr>\n",
       "<tr>\n",
       "  <th>Newspaper</th>                                     <td> 8.015e-12</td> <td> 1.07e-08</td> <td>    0.001</td> <td> 0.999</td> <td> -2.1e-08</td> <td>  2.1e-08</td>\n",
       "</tr>\n",
       "<tr>\n",
       "  <th>Digital Advertisement</th>                         <td>  -20.3173</td> <td> 2.92e+04</td> <td>   -0.001</td> <td> 0.999</td> <td>-5.73e+04</td> <td> 5.73e+04</td>\n",
       "</tr>\n",
       "<tr>\n",
       "  <th>Through Recommendations</th>                       <td>    1.2307</td> <td>    2.154</td> <td>    0.571</td> <td> 0.568</td> <td>   -2.990</td> <td>    5.452</td>\n",
       "</tr>\n",
       "<tr>\n",
       "  <th>Receive More Updates About Our Courses</th>        <td>-2.574e-15</td> <td>  8.5e-12</td> <td>   -0.000</td> <td> 1.000</td> <td>-1.67e-11</td> <td> 1.67e-11</td>\n",
       "</tr>\n",
       "<tr>\n",
       "  <th>Tags</th>                                          <td>    0.0903</td> <td>    0.005</td> <td>   16.874</td> <td> 0.000</td> <td>    0.080</td> <td>    0.101</td>\n",
       "</tr>\n",
       "<tr>\n",
       "  <th>Update me on Supply Chain Content</th>             <td>         0</td> <td>        0</td> <td>      nan</td> <td>   nan</td> <td>        0</td> <td>        0</td>\n",
       "</tr>\n",
       "<tr>\n",
       "  <th>Get updates on DM Content</th>                     <td>         0</td> <td>        0</td> <td>      nan</td> <td>   nan</td> <td>        0</td> <td>        0</td>\n",
       "</tr>\n",
       "<tr>\n",
       "  <th>Lead Profile</th>                                  <td>   -0.5164</td> <td>    0.038</td> <td>  -13.573</td> <td> 0.000</td> <td>   -0.591</td> <td>   -0.442</td>\n",
       "</tr>\n",
       "<tr>\n",
       "  <th>City</th>                                          <td>   -0.0137</td> <td>    0.021</td> <td>   -0.660</td> <td> 0.510</td> <td>   -0.055</td> <td>    0.027</td>\n",
       "</tr>\n",
       "<tr>\n",
       "  <th>A free copy of Mastering The Interview</th>        <td>   -0.4875</td> <td>    0.107</td> <td>   -4.577</td> <td> 0.000</td> <td>   -0.696</td> <td>   -0.279</td>\n",
       "</tr>\n",
       "<tr>\n",
       "  <th>Last Notable Activity</th>                         <td>    0.0533</td> <td>    0.018</td> <td>    3.012</td> <td> 0.003</td> <td>    0.019</td> <td>    0.088</td>\n",
       "</tr>\n",
       "</table>"
      ],
      "text/latex": [
       "\\begin{center}\n",
       "\\begin{tabular}{lclc}\n",
       "\\toprule\n",
       "\\textbf{Dep. Variable:}                                &    Converted     & \\textbf{  No. Observations:  } &     6351    \\\\\n",
       "\\textbf{Model:}                                        &       GLM        & \\textbf{  Df Residuals:      } &     6328    \\\\\n",
       "\\textbf{Model Family:}                                 &     Binomial     & \\textbf{  Df Model:          } &       22    \\\\\n",
       "\\textbf{Link Function:}                                &      Logit       & \\textbf{  Scale:             } &    1.0000   \\\\\n",
       "\\textbf{Method:}                                       &       IRLS       & \\textbf{  Log-Likelihood:    } &   -2625.1   \\\\\n",
       "\\textbf{Date:}                                         & Sun, 19 Jan 2025 & \\textbf{  Deviance:          } &    5250.2   \\\\\n",
       "\\textbf{Time:}                                         &     21:18:42     & \\textbf{  Pearson chi2:      } &  6.91e+03   \\\\\n",
       "\\textbf{No. Iterations:}                               &        20        & \\textbf{  Pseudo R-squ. (CS):} &   0.3964    \\\\\n",
       "\\textbf{Covariance Type:}                              &    nonrobust     & \\textbf{                     } &             \\\\\n",
       "\\bottomrule\n",
       "\\end{tabular}\n",
       "\\begin{tabular}{lcccccc}\n",
       "                                                       & \\textbf{coef} & \\textbf{std err} & \\textbf{z} & \\textbf{P$> |$z$|$} & \\textbf{[0.025} & \\textbf{0.975]}  \\\\\n",
       "\\midrule\n",
       "\\textbf{const}                                         &      -6.4601  &        0.510     &   -12.656  &         0.000        &       -7.461    &       -5.460     \\\\\n",
       "\\textbf{Lead Origin}                                   &       0.5973  &        0.076     &     7.905  &         0.000        &        0.449    &        0.745     \\\\\n",
       "\\textbf{Lead Source}                                   &       0.1234  &        0.015     &     8.301  &         0.000        &        0.094    &        0.153     \\\\\n",
       "\\textbf{Do Not Email}                                  &      -1.6777  &        0.170     &    -9.887  &         0.000        &       -2.010    &       -1.345     \\\\\n",
       "\\textbf{Do Not Call}                                   &      20.5167  &     2.06e+04     &     0.001  &         0.999        &    -4.04e+04    &     4.04e+04     \\\\\n",
       "\\textbf{TotalVisits}                                   &       0.0223  &        0.009     &     2.586  &         0.010        &        0.005    &        0.039     \\\\\n",
       "\\textbf{Total Time Spent on Website}                   &       0.0021  &     7.65e-05     &    27.585  &         0.000        &        0.002    &        0.002     \\\\\n",
       "\\textbf{Page Views Per Visit}                          &      -0.0970  &        0.024     &    -4.099  &         0.000        &       -0.143    &       -0.051     \\\\\n",
       "\\textbf{Last Activity}                                 &       0.0935  &        0.016     &     5.812  &         0.000        &        0.062    &        0.125     \\\\\n",
       "\\textbf{Country}                                       &       0.0397  &        0.005     &     8.084  &         0.000        &        0.030    &        0.049     \\\\\n",
       "\\textbf{Specialization}                                &      -0.0242  &        0.008     &    -3.089  &         0.002        &       -0.040    &       -0.009     \\\\\n",
       "\\textbf{How did you hear about X Education}            &       0.0487  &        0.021     &     2.371  &         0.018        &        0.008    &        0.089     \\\\\n",
       "\\textbf{What is your current occupation}               &       0.8950  &        0.108     &     8.252  &         0.000        &        0.682    &        1.108     \\\\\n",
       "\\textbf{What matters most to you in choosing a course} &      -1.2809  &        0.078     &   -16.381  &         0.000        &       -1.434    &       -1.128     \\\\\n",
       "\\textbf{Search}                                        &      -0.7790  &        0.955     &    -0.816  &         0.414        &       -2.650    &        1.092     \\\\\n",
       "\\textbf{Magazine}                                      &     -4.5e-10  &     4.55e-07     &    -0.001  &         0.999        &    -8.91e-07    &     8.91e-07     \\\\\n",
       "\\textbf{Newspaper Article}                             &      -0.2096  &     2.07e+04     & -1.01e-05  &         1.000        &    -4.05e+04    &     4.05e+04     \\\\\n",
       "\\textbf{X Education Forums}                            &      -0.2096  &     2.07e+04     & -1.01e-05  &         1.000        &    -4.05e+04    &     4.05e+04     \\\\\n",
       "\\textbf{Newspaper}                                     &    8.015e-12  &     1.07e-08     &     0.001  &         0.999        &     -2.1e-08    &      2.1e-08     \\\\\n",
       "\\textbf{Digital Advertisement}                         &     -20.3173  &     2.92e+04     &    -0.001  &         0.999        &    -5.73e+04    &     5.73e+04     \\\\\n",
       "\\textbf{Through Recommendations}                       &       1.2307  &        2.154     &     0.571  &         0.568        &       -2.990    &        5.452     \\\\\n",
       "\\textbf{Receive More Updates About Our Courses}        &   -2.574e-15  &      8.5e-12     &    -0.000  &         1.000        &    -1.67e-11    &     1.67e-11     \\\\\n",
       "\\textbf{Tags}                                          &       0.0903  &        0.005     &    16.874  &         0.000        &        0.080    &        0.101     \\\\\n",
       "\\textbf{Update me on Supply Chain Content}             &            0  &            0     &       nan  &           nan        &            0    &            0     \\\\\n",
       "\\textbf{Get updates on DM Content}                     &            0  &            0     &       nan  &           nan        &            0    &            0     \\\\\n",
       "\\textbf{Lead Profile}                                  &      -0.5164  &        0.038     &   -13.573  &         0.000        &       -0.591    &       -0.442     \\\\\n",
       "\\textbf{City}                                          &      -0.0137  &        0.021     &    -0.660  &         0.510        &       -0.055    &        0.027     \\\\\n",
       "\\textbf{A free copy of Mastering The Interview}        &      -0.4875  &        0.107     &    -4.577  &         0.000        &       -0.696    &       -0.279     \\\\\n",
       "\\textbf{Last Notable Activity}                         &       0.0533  &        0.018     &     3.012  &         0.003        &        0.019    &        0.088     \\\\\n",
       "\\bottomrule\n",
       "\\end{tabular}\n",
       "%\\caption{Generalized Linear Model Regression Results}\n",
       "\\end{center}"
      ],
      "text/plain": [
       "<class 'statsmodels.iolib.summary.Summary'>\n",
       "\"\"\"\n",
       "                 Generalized Linear Model Regression Results                  \n",
       "==============================================================================\n",
       "Dep. Variable:              Converted   No. Observations:                 6351\n",
       "Model:                            GLM   Df Residuals:                     6328\n",
       "Model Family:                Binomial   Df Model:                           22\n",
       "Link Function:                  Logit   Scale:                          1.0000\n",
       "Method:                          IRLS   Log-Likelihood:                -2625.1\n",
       "Date:                Sun, 19 Jan 2025   Deviance:                       5250.2\n",
       "Time:                        21:18:42   Pearson chi2:                 6.91e+03\n",
       "No. Iterations:                    20   Pseudo R-squ. (CS):             0.3964\n",
       "Covariance Type:            nonrobust                                         \n",
       "=================================================================================================================\n",
       "                                                    coef    std err          z      P>|z|      [0.025      0.975]\n",
       "-----------------------------------------------------------------------------------------------------------------\n",
       "const                                            -6.4601      0.510    -12.656      0.000      -7.461      -5.460\n",
       "Lead Origin                                       0.5973      0.076      7.905      0.000       0.449       0.745\n",
       "Lead Source                                       0.1234      0.015      8.301      0.000       0.094       0.153\n",
       "Do Not Email                                     -1.6777      0.170     -9.887      0.000      -2.010      -1.345\n",
       "Do Not Call                                      20.5167   2.06e+04      0.001      0.999   -4.04e+04    4.04e+04\n",
       "TotalVisits                                       0.0223      0.009      2.586      0.010       0.005       0.039\n",
       "Total Time Spent on Website                       0.0021   7.65e-05     27.585      0.000       0.002       0.002\n",
       "Page Views Per Visit                             -0.0970      0.024     -4.099      0.000      -0.143      -0.051\n",
       "Last Activity                                     0.0935      0.016      5.812      0.000       0.062       0.125\n",
       "Country                                           0.0397      0.005      8.084      0.000       0.030       0.049\n",
       "Specialization                                   -0.0242      0.008     -3.089      0.002      -0.040      -0.009\n",
       "How did you hear about X Education                0.0487      0.021      2.371      0.018       0.008       0.089\n",
       "What is your current occupation                   0.8950      0.108      8.252      0.000       0.682       1.108\n",
       "What matters most to you in choosing a course    -1.2809      0.078    -16.381      0.000      -1.434      -1.128\n",
       "Search                                           -0.7790      0.955     -0.816      0.414      -2.650       1.092\n",
       "Magazine                                        -4.5e-10   4.55e-07     -0.001      0.999   -8.91e-07    8.91e-07\n",
       "Newspaper Article                                -0.2096   2.07e+04  -1.01e-05      1.000   -4.05e+04    4.05e+04\n",
       "X Education Forums                               -0.2096   2.07e+04  -1.01e-05      1.000   -4.05e+04    4.05e+04\n",
       "Newspaper                                      8.015e-12   1.07e-08      0.001      0.999    -2.1e-08     2.1e-08\n",
       "Digital Advertisement                           -20.3173   2.92e+04     -0.001      0.999   -5.73e+04    5.73e+04\n",
       "Through Recommendations                           1.2307      2.154      0.571      0.568      -2.990       5.452\n",
       "Receive More Updates About Our Courses        -2.574e-15    8.5e-12     -0.000      1.000   -1.67e-11    1.67e-11\n",
       "Tags                                              0.0903      0.005     16.874      0.000       0.080       0.101\n",
       "Update me on Supply Chain Content                      0          0        nan        nan           0           0\n",
       "Get updates on DM Content                              0          0        nan        nan           0           0\n",
       "Lead Profile                                     -0.5164      0.038    -13.573      0.000      -0.591      -0.442\n",
       "City                                             -0.0137      0.021     -0.660      0.510      -0.055       0.027\n",
       "A free copy of Mastering The Interview           -0.4875      0.107     -4.577      0.000      -0.696      -0.279\n",
       "Last Notable Activity                             0.0533      0.018      3.012      0.003       0.019       0.088\n",
       "=================================================================================================================\n",
       "\"\"\""
      ]
     },
     "execution_count": 55,
     "metadata": {},
     "output_type": "execute_result"
    }
   ],
   "source": [
    "logm1=sm.GLM(y_train,(sm.add_constant(x_train)), family=sm.families.Binomial())\n",
    "logm1.fit().summary()"
   ]
  },
  {
   "cell_type": "code",
   "execution_count": null,
   "id": "2d6540b1-c10f-4a13-8562-5eb8818d55ad",
   "metadata": {},
   "outputs": [],
   "source": []
  },
  {
   "cell_type": "markdown",
   "id": "72308810-b1f0-42ef-9461-adf216b46043",
   "metadata": {},
   "source": [
    "**Logistic Regression**"
   ]
  },
  {
   "cell_type": "code",
   "execution_count": 56,
   "id": "d896bb8b-75d9-4622-9bf5-c3e4eee65085",
   "metadata": {},
   "outputs": [],
   "source": [
    "logreg=LogisticRegression()"
   ]
  },
  {
   "cell_type": "code",
   "execution_count": 57,
   "id": "4a6b9a6b-667f-4bc9-86f2-e9b3cc38ed5e",
   "metadata": {},
   "outputs": [
    {
     "data": {
      "text/html": [
       "<style>#sk-container-id-1 {color: black;background-color: white;}#sk-container-id-1 pre{padding: 0;}#sk-container-id-1 div.sk-toggleable {background-color: white;}#sk-container-id-1 label.sk-toggleable__label {cursor: pointer;display: block;width: 100%;margin-bottom: 0;padding: 0.3em;box-sizing: border-box;text-align: center;}#sk-container-id-1 label.sk-toggleable__label-arrow:before {content: \"▸\";float: left;margin-right: 0.25em;color: #696969;}#sk-container-id-1 label.sk-toggleable__label-arrow:hover:before {color: black;}#sk-container-id-1 div.sk-estimator:hover label.sk-toggleable__label-arrow:before {color: black;}#sk-container-id-1 div.sk-toggleable__content {max-height: 0;max-width: 0;overflow: hidden;text-align: left;background-color: #f0f8ff;}#sk-container-id-1 div.sk-toggleable__content pre {margin: 0.2em;color: black;border-radius: 0.25em;background-color: #f0f8ff;}#sk-container-id-1 input.sk-toggleable__control:checked~div.sk-toggleable__content {max-height: 200px;max-width: 100%;overflow: auto;}#sk-container-id-1 input.sk-toggleable__control:checked~label.sk-toggleable__label-arrow:before {content: \"▾\";}#sk-container-id-1 div.sk-estimator input.sk-toggleable__control:checked~label.sk-toggleable__label {background-color: #d4ebff;}#sk-container-id-1 div.sk-label input.sk-toggleable__control:checked~label.sk-toggleable__label {background-color: #d4ebff;}#sk-container-id-1 input.sk-hidden--visually {border: 0;clip: rect(1px 1px 1px 1px);clip: rect(1px, 1px, 1px, 1px);height: 1px;margin: -1px;overflow: hidden;padding: 0;position: absolute;width: 1px;}#sk-container-id-1 div.sk-estimator {font-family: monospace;background-color: #f0f8ff;border: 1px dotted black;border-radius: 0.25em;box-sizing: border-box;margin-bottom: 0.5em;}#sk-container-id-1 div.sk-estimator:hover {background-color: #d4ebff;}#sk-container-id-1 div.sk-parallel-item::after {content: \"\";width: 100%;border-bottom: 1px solid gray;flex-grow: 1;}#sk-container-id-1 div.sk-label:hover label.sk-toggleable__label {background-color: #d4ebff;}#sk-container-id-1 div.sk-serial::before {content: \"\";position: absolute;border-left: 1px solid gray;box-sizing: border-box;top: 0;bottom: 0;left: 50%;z-index: 0;}#sk-container-id-1 div.sk-serial {display: flex;flex-direction: column;align-items: center;background-color: white;padding-right: 0.2em;padding-left: 0.2em;position: relative;}#sk-container-id-1 div.sk-item {position: relative;z-index: 1;}#sk-container-id-1 div.sk-parallel {display: flex;align-items: stretch;justify-content: center;background-color: white;position: relative;}#sk-container-id-1 div.sk-item::before, #sk-container-id-1 div.sk-parallel-item::before {content: \"\";position: absolute;border-left: 1px solid gray;box-sizing: border-box;top: 0;bottom: 0;left: 50%;z-index: -1;}#sk-container-id-1 div.sk-parallel-item {display: flex;flex-direction: column;z-index: 1;position: relative;background-color: white;}#sk-container-id-1 div.sk-parallel-item:first-child::after {align-self: flex-end;width: 50%;}#sk-container-id-1 div.sk-parallel-item:last-child::after {align-self: flex-start;width: 50%;}#sk-container-id-1 div.sk-parallel-item:only-child::after {width: 0;}#sk-container-id-1 div.sk-dashed-wrapped {border: 1px dashed gray;margin: 0 0.4em 0.5em 0.4em;box-sizing: border-box;padding-bottom: 0.4em;background-color: white;}#sk-container-id-1 div.sk-label label {font-family: monospace;font-weight: bold;display: inline-block;line-height: 1.2em;}#sk-container-id-1 div.sk-label-container {text-align: center;}#sk-container-id-1 div.sk-container {/* jupyter's `normalize.less` sets `[hidden] { display: none; }` but bootstrap.min.css set `[hidden] { display: none !important; }` so we also need the `!important` here to be able to override the default hidden behavior on the sphinx rendered scikit-learn.org. See: https://github.com/scikit-learn/scikit-learn/issues/21755 */display: inline-block !important;position: relative;}#sk-container-id-1 div.sk-text-repr-fallback {display: none;}</style><div id=\"sk-container-id-1\" class=\"sk-top-container\"><div class=\"sk-text-repr-fallback\"><pre>LogisticRegression()</pre><b>In a Jupyter environment, please rerun this cell to show the HTML representation or trust the notebook. <br />On GitHub, the HTML representation is unable to render, please try loading this page with nbviewer.org.</b></div><div class=\"sk-container\" hidden><div class=\"sk-item\"><div class=\"sk-estimator sk-toggleable\"><input class=\"sk-toggleable__control sk-hidden--visually\" id=\"sk-estimator-id-1\" type=\"checkbox\" checked><label for=\"sk-estimator-id-1\" class=\"sk-toggleable__label sk-toggleable__label-arrow\">LogisticRegression</label><div class=\"sk-toggleable__content\"><pre>LogisticRegression()</pre></div></div></div></div></div>"
      ],
      "text/plain": [
       "LogisticRegression()"
      ]
     },
     "execution_count": 57,
     "metadata": {},
     "output_type": "execute_result"
    }
   ],
   "source": [
    "logreg.fit(x_train,y_train)"
   ]
  },
  {
   "cell_type": "code",
   "execution_count": 58,
   "id": "87482d4d-2be6-45c0-a5ee-d54098cce83d",
   "metadata": {},
   "outputs": [],
   "source": [
    "y_pred=logreg.predict(x_test)"
   ]
  },
  {
   "cell_type": "code",
   "execution_count": 59,
   "id": "db4a2714-9f96-4631-bcee-25d9c25e9d55",
   "metadata": {},
   "outputs": [
    {
     "name": "stdout",
     "output_type": "stream",
     "text": [
      "Accuracy\n",
      "79.50789570326845\n"
     ]
    }
   ],
   "source": [
    "print('Accuracy')\n",
    "print(accuracy_score(y_test,y_pred)*100)"
   ]
  },
  {
   "cell_type": "code",
   "execution_count": 60,
   "id": "a7798124-01e3-4e58-a6c7-522a82f67316",
   "metadata": {},
   "outputs": [
    {
     "name": "stdout",
     "output_type": "stream",
     "text": [
      "confusion matrix\n",
      "[[1492  232]\n",
      " [ 326  673]]\n"
     ]
    }
   ],
   "source": [
    "print('confusion matrix')\n",
    "print(confusion_matrix(y_test,y_pred))"
   ]
  },
  {
   "cell_type": "code",
   "execution_count": null,
   "id": "83a77b0c-69b4-488d-b80c-584227b20608",
   "metadata": {},
   "outputs": [],
   "source": []
  },
  {
   "cell_type": "code",
   "execution_count": 61,
   "id": "366d1c04-6fe5-4cd6-baeb-faf00dd1cfaf",
   "metadata": {},
   "outputs": [
    {
     "name": "stdout",
     "output_type": "stream",
     "text": [
      "Classification Report:\n",
      "              precision    recall  f1-score   support\n",
      "\n",
      "           0       0.82      0.87      0.84      1724\n",
      "           1       0.74      0.67      0.71       999\n",
      "\n",
      "    accuracy                           0.80      2723\n",
      "   macro avg       0.78      0.77      0.77      2723\n",
      "weighted avg       0.79      0.80      0.79      2723\n",
      "\n"
     ]
    }
   ],
   "source": [
    "print(\"Classification Report:\")\n",
    "print(classification_report(y_test, y_pred))\n"
   ]
  },
  {
   "cell_type": "code",
   "execution_count": null,
   "id": "48ca40ef-8c51-407a-82ee-d2b8f2a1919f",
   "metadata": {},
   "outputs": [],
   "source": []
  },
  {
   "cell_type": "markdown",
   "id": "5205a97f-545f-41a3-aa69-9831c34130e1",
   "metadata": {},
   "source": [
    "RFE - VIF"
   ]
  },
  {
   "cell_type": "code",
   "execution_count": 62,
   "id": "dedf0f2d-d994-44c6-ac6b-3e1563198456",
   "metadata": {},
   "outputs": [],
   "source": [
    "logreg = LogisticRegression(max_iter=250)"
   ]
  },
  {
   "cell_type": "code",
   "execution_count": 63,
   "id": "954f4a82-9de5-467b-87e9-6c36d2a7a000",
   "metadata": {},
   "outputs": [],
   "source": [
    "rfe=RFE(logreg,n_features_to_select=15)"
   ]
  },
  {
   "cell_type": "code",
   "execution_count": 64,
   "id": "076139a4-5a38-473d-b416-5e51b31eabdd",
   "metadata": {},
   "outputs": [],
   "source": [
    "rfe_train=rfe.fit(x_train,y_train)"
   ]
  },
  {
   "cell_type": "code",
   "execution_count": 65,
   "id": "9d13dbd6-51cf-4296-92a6-5b61331e838d",
   "metadata": {},
   "outputs": [
    {
     "data": {
      "text/plain": [
       "array([ True,  True,  True,  True,  True, False,  True,  True, False,\n",
       "       False,  True,  True,  True,  True, False, False, False, False,\n",
       "       False, False, False,  True, False, False,  True, False,  True,\n",
       "        True])"
      ]
     },
     "execution_count": 65,
     "metadata": {},
     "output_type": "execute_result"
    }
   ],
   "source": [
    "rfe.support_"
   ]
  },
  {
   "cell_type": "code",
   "execution_count": 66,
   "id": "50478237-cc9a-47c2-98fe-ea4d317cea0c",
   "metadata": {},
   "outputs": [
    {
     "data": {
      "text/plain": [
       "[('Lead Origin', True, 1),\n",
       " ('Lead Source', True, 1),\n",
       " ('Do Not Email', True, 1),\n",
       " ('Do Not Call', True, 1),\n",
       " ('TotalVisits', True, 1),\n",
       " ('Total Time Spent on Website', False, 5),\n",
       " ('Page Views Per Visit', True, 1),\n",
       " ('Last Activity', True, 1),\n",
       " ('Country', False, 4),\n",
       " ('Specialization', False, 2),\n",
       " ('How did you hear about X Education', True, 1),\n",
       " ('What is your current occupation', True, 1),\n",
       " ('What matters most to you in choosing a course', True, 1),\n",
       " ('Search', True, 1),\n",
       " ('Magazine', False, 10),\n",
       " ('Newspaper Article', False, 7),\n",
       " ('X Education Forums', False, 8),\n",
       " ('Newspaper', False, 11),\n",
       " ('Digital Advertisement', False, 6),\n",
       " ('Through Recommendations', False, 9),\n",
       " ('Receive More Updates About Our Courses', False, 12),\n",
       " ('Tags', True, 1),\n",
       " ('Update me on Supply Chain Content', False, 13),\n",
       " ('Get updates on DM Content', False, 14),\n",
       " ('Lead Profile', True, 1),\n",
       " ('City', False, 3),\n",
       " ('A free copy of Mastering The Interview', True, 1),\n",
       " ('Last Notable Activity', True, 1)]"
      ]
     },
     "execution_count": 66,
     "metadata": {},
     "output_type": "execute_result"
    }
   ],
   "source": [
    "list(zip(x_train.columns,rfe.support_,rfe.ranking_))"
   ]
  },
  {
   "cell_type": "code",
   "execution_count": null,
   "id": "092249cc-932a-41f6-b18f-a31ce98792ca",
   "metadata": {},
   "outputs": [],
   "source": []
  },
  {
   "cell_type": "code",
   "execution_count": 67,
   "id": "4a1828b9-075d-40ed-ab29-85926eaa9437",
   "metadata": {},
   "outputs": [],
   "source": [
    "col=x_train.columns[rfe.support_]"
   ]
  },
  {
   "cell_type": "code",
   "execution_count": 68,
   "id": "1166c70c-b369-4b13-ba36-c091625ac01a",
   "metadata": {},
   "outputs": [
    {
     "data": {
      "text/plain": [
       "Index(['Total Time Spent on Website', 'Country', 'Specialization', 'Magazine',\n",
       "       'Newspaper Article', 'X Education Forums', 'Newspaper',\n",
       "       'Digital Advertisement', 'Through Recommendations',\n",
       "       'Receive More Updates About Our Courses',\n",
       "       'Update me on Supply Chain Content', 'Get updates on DM Content',\n",
       "       'City'],\n",
       "      dtype='object')"
      ]
     },
     "execution_count": 68,
     "metadata": {},
     "output_type": "execute_result"
    }
   ],
   "source": [
    "x_train.columns[~rfe.support_]"
   ]
  },
  {
   "cell_type": "code",
   "execution_count": 69,
   "id": "18314568-762a-4877-8487-c86dcd182b90",
   "metadata": {},
   "outputs": [
    {
     "data": {
      "text/html": [
       "<table class=\"simpletable\">\n",
       "<caption>Generalized Linear Model Regression Results</caption>\n",
       "<tr>\n",
       "  <th>Dep. Variable:</th>       <td>Converted</td>    <th>  No. Observations:  </th>  <td>  6351</td> \n",
       "</tr>\n",
       "<tr>\n",
       "  <th>Model:</th>                  <td>GLM</td>       <th>  Df Residuals:      </th>  <td>  6335</td> \n",
       "</tr>\n",
       "<tr>\n",
       "  <th>Model Family:</th>        <td>Binomial</td>     <th>  Df Model:          </th>  <td>    15</td> \n",
       "</tr>\n",
       "<tr>\n",
       "  <th>Link Function:</th>         <td>Logit</td>      <th>  Scale:             </th> <td>  1.0000</td>\n",
       "</tr>\n",
       "<tr>\n",
       "  <th>Method:</th>                <td>IRLS</td>       <th>  Log-Likelihood:    </th> <td> -3097.0</td>\n",
       "</tr>\n",
       "<tr>\n",
       "  <th>Date:</th>            <td>Sun, 19 Jan 2025</td> <th>  Deviance:          </th> <td>  6194.0</td>\n",
       "</tr>\n",
       "<tr>\n",
       "  <th>Time:</th>                <td>21:18:48</td>     <th>  Pearson chi2:      </th> <td>7.34e+03</td>\n",
       "</tr>\n",
       "<tr>\n",
       "  <th>No. Iterations:</th>         <td>19</td>        <th>  Pseudo R-squ. (CS):</th>  <td>0.2997</td> \n",
       "</tr>\n",
       "<tr>\n",
       "  <th>Covariance Type:</th>     <td>nonrobust</td>    <th>                     </th>     <td> </td>   \n",
       "</tr>\n",
       "</table>\n",
       "<table class=\"simpletable\">\n",
       "<tr>\n",
       "                        <td></td>                           <th>coef</th>     <th>std err</th>      <th>z</th>      <th>P>|z|</th>  <th>[0.025</th>    <th>0.975]</th>  \n",
       "</tr>\n",
       "<tr>\n",
       "  <th>const</th>                                         <td>   -4.9045</td> <td>    0.483</td> <td>  -10.159</td> <td> 0.000</td> <td>   -5.851</td> <td>   -3.958</td>\n",
       "</tr>\n",
       "<tr>\n",
       "  <th>Lead Origin</th>                                   <td>    0.6381</td> <td>    0.065</td> <td>    9.858</td> <td> 0.000</td> <td>    0.511</td> <td>    0.765</td>\n",
       "</tr>\n",
       "<tr>\n",
       "  <th>Lead Source</th>                                   <td>    0.0849</td> <td>    0.012</td> <td>    6.937</td> <td> 0.000</td> <td>    0.061</td> <td>    0.109</td>\n",
       "</tr>\n",
       "<tr>\n",
       "  <th>Do Not Email</th>                                  <td>   -1.7645</td> <td>    0.157</td> <td>  -11.258</td> <td> 0.000</td> <td>   -2.072</td> <td>   -1.457</td>\n",
       "</tr>\n",
       "<tr>\n",
       "  <th>Do Not Call</th>                                   <td>   20.5575</td> <td> 1.17e+04</td> <td>    0.002</td> <td> 0.999</td> <td> -2.3e+04</td> <td>  2.3e+04</td>\n",
       "</tr>\n",
       "<tr>\n",
       "  <th>TotalVisits</th>                                   <td>    0.0300</td> <td>    0.009</td> <td>    3.374</td> <td> 0.001</td> <td>    0.013</td> <td>    0.047</td>\n",
       "</tr>\n",
       "<tr>\n",
       "  <th>Page Views Per Visit</th>                          <td>   -0.0478</td> <td>    0.020</td> <td>   -2.442</td> <td> 0.015</td> <td>   -0.086</td> <td>   -0.009</td>\n",
       "</tr>\n",
       "<tr>\n",
       "  <th>Last Activity</th>                                 <td>    0.0865</td> <td>    0.014</td> <td>    6.017</td> <td> 0.000</td> <td>    0.058</td> <td>    0.115</td>\n",
       "</tr>\n",
       "<tr>\n",
       "  <th>How did you hear about X Education</th>            <td>    0.0100</td> <td>    0.017</td> <td>    0.589</td> <td> 0.556</td> <td>   -0.023</td> <td>    0.043</td>\n",
       "</tr>\n",
       "<tr>\n",
       "  <th>What is your current occupation</th>               <td>    0.9659</td> <td>    0.107</td> <td>    9.051</td> <td> 0.000</td> <td>    0.757</td> <td>    1.175</td>\n",
       "</tr>\n",
       "<tr>\n",
       "  <th>What matters most to you in choosing a course</th> <td>   -1.3391</td> <td>    0.076</td> <td>  -17.712</td> <td> 0.000</td> <td>   -1.487</td> <td>   -1.191</td>\n",
       "</tr>\n",
       "<tr>\n",
       "  <th>Search</th>                                        <td>   -0.6080</td> <td>    0.918</td> <td>   -0.662</td> <td> 0.508</td> <td>   -2.407</td> <td>    1.191</td>\n",
       "</tr>\n",
       "<tr>\n",
       "  <th>Tags</th>                                          <td>    0.0913</td> <td>    0.005</td> <td>   18.500</td> <td> 0.000</td> <td>    0.082</td> <td>    0.101</td>\n",
       "</tr>\n",
       "<tr>\n",
       "  <th>Lead Profile</th>                                  <td>   -0.5295</td> <td>    0.034</td> <td>  -15.678</td> <td> 0.000</td> <td>   -0.596</td> <td>   -0.463</td>\n",
       "</tr>\n",
       "<tr>\n",
       "  <th>A free copy of Mastering The Interview</th>        <td>   -0.2964</td> <td>    0.089</td> <td>   -3.327</td> <td> 0.001</td> <td>   -0.471</td> <td>   -0.122</td>\n",
       "</tr>\n",
       "<tr>\n",
       "  <th>Last Notable Activity</th>                         <td>    0.0591</td> <td>    0.016</td> <td>    3.711</td> <td> 0.000</td> <td>    0.028</td> <td>    0.090</td>\n",
       "</tr>\n",
       "</table>"
      ],
      "text/latex": [
       "\\begin{center}\n",
       "\\begin{tabular}{lclc}\n",
       "\\toprule\n",
       "\\textbf{Dep. Variable:}                                &    Converted     & \\textbf{  No. Observations:  } &     6351    \\\\\n",
       "\\textbf{Model:}                                        &       GLM        & \\textbf{  Df Residuals:      } &     6335    \\\\\n",
       "\\textbf{Model Family:}                                 &     Binomial     & \\textbf{  Df Model:          } &       15    \\\\\n",
       "\\textbf{Link Function:}                                &      Logit       & \\textbf{  Scale:             } &    1.0000   \\\\\n",
       "\\textbf{Method:}                                       &       IRLS       & \\textbf{  Log-Likelihood:    } &   -3097.0   \\\\\n",
       "\\textbf{Date:}                                         & Sun, 19 Jan 2025 & \\textbf{  Deviance:          } &    6194.0   \\\\\n",
       "\\textbf{Time:}                                         &     21:18:48     & \\textbf{  Pearson chi2:      } &  7.34e+03   \\\\\n",
       "\\textbf{No. Iterations:}                               &        19        & \\textbf{  Pseudo R-squ. (CS):} &   0.2997    \\\\\n",
       "\\textbf{Covariance Type:}                              &    nonrobust     & \\textbf{                     } &             \\\\\n",
       "\\bottomrule\n",
       "\\end{tabular}\n",
       "\\begin{tabular}{lcccccc}\n",
       "                                                       & \\textbf{coef} & \\textbf{std err} & \\textbf{z} & \\textbf{P$> |$z$|$} & \\textbf{[0.025} & \\textbf{0.975]}  \\\\\n",
       "\\midrule\n",
       "\\textbf{const}                                         &      -4.9045  &        0.483     &   -10.159  &         0.000        &       -5.851    &       -3.958     \\\\\n",
       "\\textbf{Lead Origin}                                   &       0.6381  &        0.065     &     9.858  &         0.000        &        0.511    &        0.765     \\\\\n",
       "\\textbf{Lead Source}                                   &       0.0849  &        0.012     &     6.937  &         0.000        &        0.061    &        0.109     \\\\\n",
       "\\textbf{Do Not Email}                                  &      -1.7645  &        0.157     &   -11.258  &         0.000        &       -2.072    &       -1.457     \\\\\n",
       "\\textbf{Do Not Call}                                   &      20.5575  &     1.17e+04     &     0.002  &         0.999        &     -2.3e+04    &      2.3e+04     \\\\\n",
       "\\textbf{TotalVisits}                                   &       0.0300  &        0.009     &     3.374  &         0.001        &        0.013    &        0.047     \\\\\n",
       "\\textbf{Page Views Per Visit}                          &      -0.0478  &        0.020     &    -2.442  &         0.015        &       -0.086    &       -0.009     \\\\\n",
       "\\textbf{Last Activity}                                 &       0.0865  &        0.014     &     6.017  &         0.000        &        0.058    &        0.115     \\\\\n",
       "\\textbf{How did you hear about X Education}            &       0.0100  &        0.017     &     0.589  &         0.556        &       -0.023    &        0.043     \\\\\n",
       "\\textbf{What is your current occupation}               &       0.9659  &        0.107     &     9.051  &         0.000        &        0.757    &        1.175     \\\\\n",
       "\\textbf{What matters most to you in choosing a course} &      -1.3391  &        0.076     &   -17.712  &         0.000        &       -1.487    &       -1.191     \\\\\n",
       "\\textbf{Search}                                        &      -0.6080  &        0.918     &    -0.662  &         0.508        &       -2.407    &        1.191     \\\\\n",
       "\\textbf{Tags}                                          &       0.0913  &        0.005     &    18.500  &         0.000        &        0.082    &        0.101     \\\\\n",
       "\\textbf{Lead Profile}                                  &      -0.5295  &        0.034     &   -15.678  &         0.000        &       -0.596    &       -0.463     \\\\\n",
       "\\textbf{A free copy of Mastering The Interview}        &      -0.2964  &        0.089     &    -3.327  &         0.001        &       -0.471    &       -0.122     \\\\\n",
       "\\textbf{Last Notable Activity}                         &       0.0591  &        0.016     &     3.711  &         0.000        &        0.028    &        0.090     \\\\\n",
       "\\bottomrule\n",
       "\\end{tabular}\n",
       "%\\caption{Generalized Linear Model Regression Results}\n",
       "\\end{center}"
      ],
      "text/plain": [
       "<class 'statsmodels.iolib.summary.Summary'>\n",
       "\"\"\"\n",
       "                 Generalized Linear Model Regression Results                  \n",
       "==============================================================================\n",
       "Dep. Variable:              Converted   No. Observations:                 6351\n",
       "Model:                            GLM   Df Residuals:                     6335\n",
       "Model Family:                Binomial   Df Model:                           15\n",
       "Link Function:                  Logit   Scale:                          1.0000\n",
       "Method:                          IRLS   Log-Likelihood:                -3097.0\n",
       "Date:                Sun, 19 Jan 2025   Deviance:                       6194.0\n",
       "Time:                        21:18:48   Pearson chi2:                 7.34e+03\n",
       "No. Iterations:                    19   Pseudo R-squ. (CS):             0.2997\n",
       "Covariance Type:            nonrobust                                         \n",
       "=================================================================================================================\n",
       "                                                    coef    std err          z      P>|z|      [0.025      0.975]\n",
       "-----------------------------------------------------------------------------------------------------------------\n",
       "const                                            -4.9045      0.483    -10.159      0.000      -5.851      -3.958\n",
       "Lead Origin                                       0.6381      0.065      9.858      0.000       0.511       0.765\n",
       "Lead Source                                       0.0849      0.012      6.937      0.000       0.061       0.109\n",
       "Do Not Email                                     -1.7645      0.157    -11.258      0.000      -2.072      -1.457\n",
       "Do Not Call                                      20.5575   1.17e+04      0.002      0.999    -2.3e+04     2.3e+04\n",
       "TotalVisits                                       0.0300      0.009      3.374      0.001       0.013       0.047\n",
       "Page Views Per Visit                             -0.0478      0.020     -2.442      0.015      -0.086      -0.009\n",
       "Last Activity                                     0.0865      0.014      6.017      0.000       0.058       0.115\n",
       "How did you hear about X Education                0.0100      0.017      0.589      0.556      -0.023       0.043\n",
       "What is your current occupation                   0.9659      0.107      9.051      0.000       0.757       1.175\n",
       "What matters most to you in choosing a course    -1.3391      0.076    -17.712      0.000      -1.487      -1.191\n",
       "Search                                           -0.6080      0.918     -0.662      0.508      -2.407       1.191\n",
       "Tags                                              0.0913      0.005     18.500      0.000       0.082       0.101\n",
       "Lead Profile                                     -0.5295      0.034    -15.678      0.000      -0.596      -0.463\n",
       "A free copy of Mastering The Interview           -0.2964      0.089     -3.327      0.001      -0.471      -0.122\n",
       "Last Notable Activity                             0.0591      0.016      3.711      0.000       0.028       0.090\n",
       "=================================================================================================================\n",
       "\"\"\""
      ]
     },
     "execution_count": 69,
     "metadata": {},
     "output_type": "execute_result"
    }
   ],
   "source": [
    "x_train_sm=sm.add_constant(x_train[col])\n",
    "logm2=sm.GLM(y_train,x_train_sm,family=sm.families.Binomial())\n",
    "res=logm2.fit()\n",
    "res.summary()"
   ]
  },
  {
   "cell_type": "markdown",
   "id": "1fefe2e4-547d-46a7-9a6f-66f72c486c42",
   "metadata": {},
   "source": [
    "predicted values from train set"
   ]
  },
  {
   "cell_type": "code",
   "execution_count": 70,
   "id": "bb91f255-c187-4575-bcb4-6ec785c32274",
   "metadata": {},
   "outputs": [
    {
     "data": {
      "text/plain": [
       "8174    0.825319\n",
       "6986    0.719365\n",
       "8112    0.982608\n",
       "8530    0.182617\n",
       "6444    0.314480\n",
       "2489    0.874306\n",
       "1737    0.868490\n",
       "7461    0.334792\n",
       "2370    0.092722\n",
       "5290    0.185804\n",
       "dtype: float64"
      ]
     },
     "execution_count": 70,
     "metadata": {},
     "output_type": "execute_result"
    }
   ],
   "source": [
    "y_train_pred=res.predict(x_train_sm)\n",
    "y_train_pred[:10]"
   ]
  },
  {
   "cell_type": "code",
   "execution_count": 71,
   "id": "d8b80368-e2b4-4470-aa7a-9c28de2b8b41",
   "metadata": {},
   "outputs": [
    {
     "data": {
      "text/plain": [
       "array([0.82531949, 0.71936475, 0.98260822, ..., 0.5663961 , 0.21452975,\n",
       "       0.12065495])"
      ]
     },
     "execution_count": 71,
     "metadata": {},
     "output_type": "execute_result"
    }
   ],
   "source": [
    "y_train_pred=y_train_pred.values.reshape(-1)\n",
    "y_train_pred"
   ]
  },
  {
   "cell_type": "code",
   "execution_count": null,
   "id": "5bc1780c-7d9c-49f1-9c2c-e00d4df016b4",
   "metadata": {},
   "outputs": [],
   "source": []
  },
  {
   "cell_type": "code",
   "execution_count": 72,
   "id": "38bc32e8-f584-4e22-8f06-f017501b8545",
   "metadata": {},
   "outputs": [
    {
     "data": {
      "text/html": [
       "<div>\n",
       "<style scoped>\n",
       "    .dataframe tbody tr th:only-of-type {\n",
       "        vertical-align: middle;\n",
       "    }\n",
       "\n",
       "    .dataframe tbody tr th {\n",
       "        vertical-align: top;\n",
       "    }\n",
       "\n",
       "    .dataframe thead th {\n",
       "        text-align: right;\n",
       "    }\n",
       "</style>\n",
       "<table border=\"1\" class=\"dataframe\">\n",
       "  <thead>\n",
       "    <tr style=\"text-align: right;\">\n",
       "      <th></th>\n",
       "      <th>Converted</th>\n",
       "      <th>Convert_prob</th>\n",
       "      <th>Lead_ID</th>\n",
       "    </tr>\n",
       "  </thead>\n",
       "  <tbody>\n",
       "    <tr>\n",
       "      <th>0</th>\n",
       "      <td>0</td>\n",
       "      <td>0.825319</td>\n",
       "      <td>8174</td>\n",
       "    </tr>\n",
       "    <tr>\n",
       "      <th>1</th>\n",
       "      <td>1</td>\n",
       "      <td>0.719365</td>\n",
       "      <td>6986</td>\n",
       "    </tr>\n",
       "    <tr>\n",
       "      <th>2</th>\n",
       "      <td>1</td>\n",
       "      <td>0.982608</td>\n",
       "      <td>8112</td>\n",
       "    </tr>\n",
       "    <tr>\n",
       "      <th>3</th>\n",
       "      <td>0</td>\n",
       "      <td>0.182617</td>\n",
       "      <td>8530</td>\n",
       "    </tr>\n",
       "    <tr>\n",
       "      <th>4</th>\n",
       "      <td>0</td>\n",
       "      <td>0.314480</td>\n",
       "      <td>6444</td>\n",
       "    </tr>\n",
       "  </tbody>\n",
       "</table>\n",
       "</div>"
      ],
      "text/plain": [
       "   Converted  Convert_prob  Lead_ID\n",
       "0          0      0.825319     8174\n",
       "1          1      0.719365     6986\n",
       "2          1      0.982608     8112\n",
       "3          0      0.182617     8530\n",
       "4          0      0.314480     6444"
      ]
     },
     "execution_count": 72,
     "metadata": {},
     "output_type": "execute_result"
    }
   ],
   "source": [
    "y_train_pred_final=pd.DataFrame({'Converted':y_train.values,'Convert_prob':y_train_pred})\n",
    "y_train_pred_final['Lead_ID']=y_train.index\n",
    "y_train_pred_final.head()"
   ]
  },
  {
   "cell_type": "markdown",
   "id": "63d6c75d-c8ad-4a7c-a015-85852f3e0aff",
   "metadata": {},
   "source": [
    "new col predicted with 1 if convert_prob > 0.5 else 0"
   ]
  },
  {
   "cell_type": "code",
   "execution_count": 73,
   "id": "0621d694-701a-42ff-a801-ee5662cd2689",
   "metadata": {},
   "outputs": [
    {
     "data": {
      "text/html": [
       "<div>\n",
       "<style scoped>\n",
       "    .dataframe tbody tr th:only-of-type {\n",
       "        vertical-align: middle;\n",
       "    }\n",
       "\n",
       "    .dataframe tbody tr th {\n",
       "        vertical-align: top;\n",
       "    }\n",
       "\n",
       "    .dataframe thead th {\n",
       "        text-align: right;\n",
       "    }\n",
       "</style>\n",
       "<table border=\"1\" class=\"dataframe\">\n",
       "  <thead>\n",
       "    <tr style=\"text-align: right;\">\n",
       "      <th></th>\n",
       "      <th>Converted</th>\n",
       "      <th>Convert_prob</th>\n",
       "      <th>Lead_ID</th>\n",
       "      <th>predicted</th>\n",
       "    </tr>\n",
       "  </thead>\n",
       "  <tbody>\n",
       "    <tr>\n",
       "      <th>0</th>\n",
       "      <td>0</td>\n",
       "      <td>0.825319</td>\n",
       "      <td>8174</td>\n",
       "      <td>1</td>\n",
       "    </tr>\n",
       "    <tr>\n",
       "      <th>1</th>\n",
       "      <td>1</td>\n",
       "      <td>0.719365</td>\n",
       "      <td>6986</td>\n",
       "      <td>1</td>\n",
       "    </tr>\n",
       "    <tr>\n",
       "      <th>2</th>\n",
       "      <td>1</td>\n",
       "      <td>0.982608</td>\n",
       "      <td>8112</td>\n",
       "      <td>1</td>\n",
       "    </tr>\n",
       "    <tr>\n",
       "      <th>3</th>\n",
       "      <td>0</td>\n",
       "      <td>0.182617</td>\n",
       "      <td>8530</td>\n",
       "      <td>0</td>\n",
       "    </tr>\n",
       "    <tr>\n",
       "      <th>4</th>\n",
       "      <td>0</td>\n",
       "      <td>0.314480</td>\n",
       "      <td>6444</td>\n",
       "      <td>0</td>\n",
       "    </tr>\n",
       "  </tbody>\n",
       "</table>\n",
       "</div>"
      ],
      "text/plain": [
       "   Converted  Convert_prob  Lead_ID  predicted\n",
       "0          0      0.825319     8174          1\n",
       "1          1      0.719365     6986          1\n",
       "2          1      0.982608     8112          1\n",
       "3          0      0.182617     8530          0\n",
       "4          0      0.314480     6444          0"
      ]
     },
     "execution_count": 73,
     "metadata": {},
     "output_type": "execute_result"
    }
   ],
   "source": [
    "y_train_pred_final['predicted']=y_train_pred_final.Convert_prob.map(lambda x:1 if x>0.5 else 0)\n",
    "y_train_pred_final.head()"
   ]
  },
  {
   "cell_type": "code",
   "execution_count": null,
   "id": "91463c6f-9157-48d3-82ff-c06e1602da21",
   "metadata": {},
   "outputs": [],
   "source": []
  },
  {
   "cell_type": "markdown",
   "id": "4a356f09-1d72-4746-a4df-e73e6cf00413",
   "metadata": {},
   "source": [
    "**Confusion Matrix**"
   ]
  },
  {
   "cell_type": "code",
   "execution_count": null,
   "id": "13043e06-bd6d-4e4a-a2ab-37a35c8050c2",
   "metadata": {},
   "outputs": [],
   "source": []
  },
  {
   "cell_type": "code",
   "execution_count": 74,
   "id": "fff35656-7665-462d-99d8-476cc1c66eaf",
   "metadata": {},
   "outputs": [
    {
     "name": "stdout",
     "output_type": "stream",
     "text": [
      "[[3347  568]\n",
      " [ 833 1603]]\n"
     ]
    }
   ],
   "source": [
    "confusion=metrics.confusion_matrix(y_train_pred_final.Converted,y_train_pred_final.predicted)\n",
    "print(confusion)"
   ]
  },
  {
   "cell_type": "code",
   "execution_count": null,
   "id": "50afa7ed-55e3-4200-b987-151733707489",
   "metadata": {},
   "outputs": [],
   "source": []
  },
  {
   "cell_type": "code",
   "execution_count": 75,
   "id": "973ba752-7c8f-4429-ac82-de342b1751ae",
   "metadata": {},
   "outputs": [
    {
     "name": "stdout",
     "output_type": "stream",
     "text": [
      "Accuracy\n",
      "0.7794048181388757\n"
     ]
    }
   ],
   "source": [
    "print('Accuracy')\n",
    "print(metrics.accuracy_score(y_train_pred_final.Converted,y_train_pred_final.predicted))"
   ]
  },
  {
   "cell_type": "code",
   "execution_count": null,
   "id": "d05c40c1-e5a0-464d-b2f0-75ca00032404",
   "metadata": {},
   "outputs": [],
   "source": []
  },
  {
   "cell_type": "markdown",
   "id": "7c167915-2405-4993-a300-e8b3caba41d9",
   "metadata": {},
   "source": [
    "removing variable with high p value 'Do Not Call'"
   ]
  },
  {
   "cell_type": "code",
   "execution_count": 76,
   "id": "9aef4bb0-91c9-4aea-aea1-121f4363bfbd",
   "metadata": {},
   "outputs": [
    {
     "data": {
      "text/plain": [
       "Index(['Lead Origin', 'Lead Source', 'Do Not Email', 'TotalVisits',\n",
       "       'Page Views Per Visit', 'Last Activity',\n",
       "       'How did you hear about X Education', 'What is your current occupation',\n",
       "       'What matters most to you in choosing a course', 'Search', 'Tags',\n",
       "       'Lead Profile', 'A free copy of Mastering The Interview',\n",
       "       'Last Notable Activity'],\n",
       "      dtype='object')"
      ]
     },
     "execution_count": 76,
     "metadata": {},
     "output_type": "execute_result"
    }
   ],
   "source": [
    "col=col.drop('Do Not Call',1)\n",
    "col"
   ]
  },
  {
   "cell_type": "markdown",
   "id": "a6a43deb-4bc3-4d41-aae8-315db75d708f",
   "metadata": {},
   "source": [
    "**re run model**"
   ]
  },
  {
   "cell_type": "code",
   "execution_count": null,
   "id": "fb8e24bd-fec7-49c4-95e7-c308c91d049f",
   "metadata": {},
   "outputs": [],
   "source": []
  },
  {
   "cell_type": "code",
   "execution_count": 77,
   "id": "f8e83185-fca2-4bbb-a338-8b8ad0e09c5e",
   "metadata": {},
   "outputs": [
    {
     "data": {
      "text/html": [
       "<table class=\"simpletable\">\n",
       "<caption>Generalized Linear Model Regression Results</caption>\n",
       "<tr>\n",
       "  <th>Dep. Variable:</th>       <td>Converted</td>    <th>  No. Observations:  </th>  <td>  6351</td> \n",
       "</tr>\n",
       "<tr>\n",
       "  <th>Model:</th>                  <td>GLM</td>       <th>  Df Residuals:      </th>  <td>  6336</td> \n",
       "</tr>\n",
       "<tr>\n",
       "  <th>Model Family:</th>        <td>Binomial</td>     <th>  Df Model:          </th>  <td>    14</td> \n",
       "</tr>\n",
       "<tr>\n",
       "  <th>Link Function:</th>         <td>Logit</td>      <th>  Scale:             </th> <td>  1.0000</td>\n",
       "</tr>\n",
       "<tr>\n",
       "  <th>Method:</th>                <td>IRLS</td>       <th>  Log-Likelihood:    </th> <td> -3098.4</td>\n",
       "</tr>\n",
       "<tr>\n",
       "  <th>Date:</th>            <td>Sun, 19 Jan 2025</td> <th>  Deviance:          </th> <td>  6196.7</td>\n",
       "</tr>\n",
       "<tr>\n",
       "  <th>Time:</th>                <td>21:18:53</td>     <th>  Pearson chi2:      </th> <td>7.35e+03</td>\n",
       "</tr>\n",
       "<tr>\n",
       "  <th>No. Iterations:</th>          <td>5</td>        <th>  Pseudo R-squ. (CS):</th>  <td>0.2994</td> \n",
       "</tr>\n",
       "<tr>\n",
       "  <th>Covariance Type:</th>     <td>nonrobust</td>    <th>                     </th>     <td> </td>   \n",
       "</tr>\n",
       "</table>\n",
       "<table class=\"simpletable\">\n",
       "<tr>\n",
       "                        <td></td>                           <th>coef</th>     <th>std err</th>      <th>z</th>      <th>P>|z|</th>  <th>[0.025</th>    <th>0.975]</th>  \n",
       "</tr>\n",
       "<tr>\n",
       "  <th>const</th>                                         <td>   -4.8956</td> <td>    0.483</td> <td>  -10.143</td> <td> 0.000</td> <td>   -5.842</td> <td>   -3.950</td>\n",
       "</tr>\n",
       "<tr>\n",
       "  <th>Lead Origin</th>                                   <td>    0.6370</td> <td>    0.065</td> <td>    9.852</td> <td> 0.000</td> <td>    0.510</td> <td>    0.764</td>\n",
       "</tr>\n",
       "<tr>\n",
       "  <th>Lead Source</th>                                   <td>    0.0851</td> <td>    0.012</td> <td>    6.957</td> <td> 0.000</td> <td>    0.061</td> <td>    0.109</td>\n",
       "</tr>\n",
       "<tr>\n",
       "  <th>Do Not Email</th>                                  <td>   -1.7653</td> <td>    0.157</td> <td>  -11.263</td> <td> 0.000</td> <td>   -2.072</td> <td>   -1.458</td>\n",
       "</tr>\n",
       "<tr>\n",
       "  <th>TotalVisits</th>                                   <td>    0.0303</td> <td>    0.009</td> <td>    3.393</td> <td> 0.001</td> <td>    0.013</td> <td>    0.048</td>\n",
       "</tr>\n",
       "<tr>\n",
       "  <th>Page Views Per Visit</th>                          <td>   -0.0482</td> <td>    0.020</td> <td>   -2.463</td> <td> 0.014</td> <td>   -0.087</td> <td>   -0.010</td>\n",
       "</tr>\n",
       "<tr>\n",
       "  <th>Last Activity</th>                                 <td>    0.0862</td> <td>    0.014</td> <td>    5.994</td> <td> 0.000</td> <td>    0.058</td> <td>    0.114</td>\n",
       "</tr>\n",
       "<tr>\n",
       "  <th>How did you hear about X Education</th>            <td>    0.0091</td> <td>    0.017</td> <td>    0.539</td> <td> 0.590</td> <td>   -0.024</td> <td>    0.042</td>\n",
       "</tr>\n",
       "<tr>\n",
       "  <th>What is your current occupation</th>               <td>    0.9655</td> <td>    0.107</td> <td>    9.048</td> <td> 0.000</td> <td>    0.756</td> <td>    1.175</td>\n",
       "</tr>\n",
       "<tr>\n",
       "  <th>What matters most to you in choosing a course</th> <td>   -1.3393</td> <td>    0.076</td> <td>  -17.717</td> <td> 0.000</td> <td>   -1.487</td> <td>   -1.191</td>\n",
       "</tr>\n",
       "<tr>\n",
       "  <th>Search</th>                                        <td>   -0.6087</td> <td>    0.918</td> <td>   -0.663</td> <td> 0.507</td> <td>   -2.408</td> <td>    1.190</td>\n",
       "</tr>\n",
       "<tr>\n",
       "  <th>Tags</th>                                          <td>    0.0913</td> <td>    0.005</td> <td>   18.505</td> <td> 0.000</td> <td>    0.082</td> <td>    0.101</td>\n",
       "</tr>\n",
       "<tr>\n",
       "  <th>Lead Profile</th>                                  <td>   -0.5292</td> <td>    0.034</td> <td>  -15.675</td> <td> 0.000</td> <td>   -0.595</td> <td>   -0.463</td>\n",
       "</tr>\n",
       "<tr>\n",
       "  <th>A free copy of Mastering The Interview</th>        <td>   -0.2957</td> <td>    0.089</td> <td>   -3.319</td> <td> 0.001</td> <td>   -0.470</td> <td>   -0.121</td>\n",
       "</tr>\n",
       "<tr>\n",
       "  <th>Last Notable Activity</th>                         <td>    0.0595</td> <td>    0.016</td> <td>    3.735</td> <td> 0.000</td> <td>    0.028</td> <td>    0.091</td>\n",
       "</tr>\n",
       "</table>"
      ],
      "text/latex": [
       "\\begin{center}\n",
       "\\begin{tabular}{lclc}\n",
       "\\toprule\n",
       "\\textbf{Dep. Variable:}                                &    Converted     & \\textbf{  No. Observations:  } &     6351    \\\\\n",
       "\\textbf{Model:}                                        &       GLM        & \\textbf{  Df Residuals:      } &     6336    \\\\\n",
       "\\textbf{Model Family:}                                 &     Binomial     & \\textbf{  Df Model:          } &       14    \\\\\n",
       "\\textbf{Link Function:}                                &      Logit       & \\textbf{  Scale:             } &    1.0000   \\\\\n",
       "\\textbf{Method:}                                       &       IRLS       & \\textbf{  Log-Likelihood:    } &   -3098.4   \\\\\n",
       "\\textbf{Date:}                                         & Sun, 19 Jan 2025 & \\textbf{  Deviance:          } &    6196.7   \\\\\n",
       "\\textbf{Time:}                                         &     21:18:53     & \\textbf{  Pearson chi2:      } &  7.35e+03   \\\\\n",
       "\\textbf{No. Iterations:}                               &        5         & \\textbf{  Pseudo R-squ. (CS):} &   0.2994    \\\\\n",
       "\\textbf{Covariance Type:}                              &    nonrobust     & \\textbf{                     } &             \\\\\n",
       "\\bottomrule\n",
       "\\end{tabular}\n",
       "\\begin{tabular}{lcccccc}\n",
       "                                                       & \\textbf{coef} & \\textbf{std err} & \\textbf{z} & \\textbf{P$> |$z$|$} & \\textbf{[0.025} & \\textbf{0.975]}  \\\\\n",
       "\\midrule\n",
       "\\textbf{const}                                         &      -4.8956  &        0.483     &   -10.143  &         0.000        &       -5.842    &       -3.950     \\\\\n",
       "\\textbf{Lead Origin}                                   &       0.6370  &        0.065     &     9.852  &         0.000        &        0.510    &        0.764     \\\\\n",
       "\\textbf{Lead Source}                                   &       0.0851  &        0.012     &     6.957  &         0.000        &        0.061    &        0.109     \\\\\n",
       "\\textbf{Do Not Email}                                  &      -1.7653  &        0.157     &   -11.263  &         0.000        &       -2.072    &       -1.458     \\\\\n",
       "\\textbf{TotalVisits}                                   &       0.0303  &        0.009     &     3.393  &         0.001        &        0.013    &        0.048     \\\\\n",
       "\\textbf{Page Views Per Visit}                          &      -0.0482  &        0.020     &    -2.463  &         0.014        &       -0.087    &       -0.010     \\\\\n",
       "\\textbf{Last Activity}                                 &       0.0862  &        0.014     &     5.994  &         0.000        &        0.058    &        0.114     \\\\\n",
       "\\textbf{How did you hear about X Education}            &       0.0091  &        0.017     &     0.539  &         0.590        &       -0.024    &        0.042     \\\\\n",
       "\\textbf{What is your current occupation}               &       0.9655  &        0.107     &     9.048  &         0.000        &        0.756    &        1.175     \\\\\n",
       "\\textbf{What matters most to you in choosing a course} &      -1.3393  &        0.076     &   -17.717  &         0.000        &       -1.487    &       -1.191     \\\\\n",
       "\\textbf{Search}                                        &      -0.6087  &        0.918     &    -0.663  &         0.507        &       -2.408    &        1.190     \\\\\n",
       "\\textbf{Tags}                                          &       0.0913  &        0.005     &    18.505  &         0.000        &        0.082    &        0.101     \\\\\n",
       "\\textbf{Lead Profile}                                  &      -0.5292  &        0.034     &   -15.675  &         0.000        &       -0.595    &       -0.463     \\\\\n",
       "\\textbf{A free copy of Mastering The Interview}        &      -0.2957  &        0.089     &    -3.319  &         0.001        &       -0.470    &       -0.121     \\\\\n",
       "\\textbf{Last Notable Activity}                         &       0.0595  &        0.016     &     3.735  &         0.000        &        0.028    &        0.091     \\\\\n",
       "\\bottomrule\n",
       "\\end{tabular}\n",
       "%\\caption{Generalized Linear Model Regression Results}\n",
       "\\end{center}"
      ],
      "text/plain": [
       "<class 'statsmodels.iolib.summary.Summary'>\n",
       "\"\"\"\n",
       "                 Generalized Linear Model Regression Results                  \n",
       "==============================================================================\n",
       "Dep. Variable:              Converted   No. Observations:                 6351\n",
       "Model:                            GLM   Df Residuals:                     6336\n",
       "Model Family:                Binomial   Df Model:                           14\n",
       "Link Function:                  Logit   Scale:                          1.0000\n",
       "Method:                          IRLS   Log-Likelihood:                -3098.4\n",
       "Date:                Sun, 19 Jan 2025   Deviance:                       6196.7\n",
       "Time:                        21:18:53   Pearson chi2:                 7.35e+03\n",
       "No. Iterations:                     5   Pseudo R-squ. (CS):             0.2994\n",
       "Covariance Type:            nonrobust                                         \n",
       "=================================================================================================================\n",
       "                                                    coef    std err          z      P>|z|      [0.025      0.975]\n",
       "-----------------------------------------------------------------------------------------------------------------\n",
       "const                                            -4.8956      0.483    -10.143      0.000      -5.842      -3.950\n",
       "Lead Origin                                       0.6370      0.065      9.852      0.000       0.510       0.764\n",
       "Lead Source                                       0.0851      0.012      6.957      0.000       0.061       0.109\n",
       "Do Not Email                                     -1.7653      0.157    -11.263      0.000      -2.072      -1.458\n",
       "TotalVisits                                       0.0303      0.009      3.393      0.001       0.013       0.048\n",
       "Page Views Per Visit                             -0.0482      0.020     -2.463      0.014      -0.087      -0.010\n",
       "Last Activity                                     0.0862      0.014      5.994      0.000       0.058       0.114\n",
       "How did you hear about X Education                0.0091      0.017      0.539      0.590      -0.024       0.042\n",
       "What is your current occupation                   0.9655      0.107      9.048      0.000       0.756       1.175\n",
       "What matters most to you in choosing a course    -1.3393      0.076    -17.717      0.000      -1.487      -1.191\n",
       "Search                                           -0.6087      0.918     -0.663      0.507      -2.408       1.190\n",
       "Tags                                              0.0913      0.005     18.505      0.000       0.082       0.101\n",
       "Lead Profile                                     -0.5292      0.034    -15.675      0.000      -0.595      -0.463\n",
       "A free copy of Mastering The Interview           -0.2957      0.089     -3.319      0.001      -0.470      -0.121\n",
       "Last Notable Activity                             0.0595      0.016      3.735      0.000       0.028       0.091\n",
       "=================================================================================================================\n",
       "\"\"\""
      ]
     },
     "execution_count": 77,
     "metadata": {},
     "output_type": "execute_result"
    }
   ],
   "source": [
    "x_train_sm=sm.add_constant(x_train[col])\n",
    "logm3=sm.GLM(y_train,x_train_sm,family=sm.families.Binomial())\n",
    "res=logm3.fit()\n",
    "res.summary()"
   ]
  },
  {
   "cell_type": "markdown",
   "id": "a47c33ec-2cb1-4a71-927a-fe1c045a4fee",
   "metadata": {},
   "source": [
    "removing variable 'How did you hear about X Education'"
   ]
  },
  {
   "cell_type": "code",
   "execution_count": 78,
   "id": "c7885b03-4da8-428e-b5d7-e0d9020c70df",
   "metadata": {},
   "outputs": [
    {
     "data": {
      "text/plain": [
       "Index(['Lead Origin', 'Lead Source', 'Do Not Email', 'TotalVisits',\n",
       "       'Page Views Per Visit', 'Last Activity',\n",
       "       'What is your current occupation',\n",
       "       'What matters most to you in choosing a course', 'Search', 'Tags',\n",
       "       'Lead Profile', 'A free copy of Mastering The Interview',\n",
       "       'Last Notable Activity'],\n",
       "      dtype='object')"
      ]
     },
     "execution_count": 78,
     "metadata": {},
     "output_type": "execute_result"
    }
   ],
   "source": [
    "col=col.drop('How did you hear about X Education',1)\n",
    "col"
   ]
  },
  {
   "cell_type": "code",
   "execution_count": 79,
   "id": "e5cfd136-59af-4029-b073-258a102f92e0",
   "metadata": {},
   "outputs": [
    {
     "data": {
      "text/html": [
       "<table class=\"simpletable\">\n",
       "<caption>Generalized Linear Model Regression Results</caption>\n",
       "<tr>\n",
       "  <th>Dep. Variable:</th>       <td>Converted</td>    <th>  No. Observations:  </th>  <td>  6351</td> \n",
       "</tr>\n",
       "<tr>\n",
       "  <th>Model:</th>                  <td>GLM</td>       <th>  Df Residuals:      </th>  <td>  6337</td> \n",
       "</tr>\n",
       "<tr>\n",
       "  <th>Model Family:</th>        <td>Binomial</td>     <th>  Df Model:          </th>  <td>    13</td> \n",
       "</tr>\n",
       "<tr>\n",
       "  <th>Link Function:</th>         <td>Logit</td>      <th>  Scale:             </th> <td>  1.0000</td>\n",
       "</tr>\n",
       "<tr>\n",
       "  <th>Method:</th>                <td>IRLS</td>       <th>  Log-Likelihood:    </th> <td> -3098.5</td>\n",
       "</tr>\n",
       "<tr>\n",
       "  <th>Date:</th>            <td>Sun, 19 Jan 2025</td> <th>  Deviance:          </th> <td>  6197.0</td>\n",
       "</tr>\n",
       "<tr>\n",
       "  <th>Time:</th>                <td>21:18:53</td>     <th>  Pearson chi2:      </th> <td>7.35e+03</td>\n",
       "</tr>\n",
       "<tr>\n",
       "  <th>No. Iterations:</th>          <td>5</td>        <th>  Pseudo R-squ. (CS):</th>  <td>0.2994</td> \n",
       "</tr>\n",
       "<tr>\n",
       "  <th>Covariance Type:</th>     <td>nonrobust</td>    <th>                     </th>     <td> </td>   \n",
       "</tr>\n",
       "</table>\n",
       "<table class=\"simpletable\">\n",
       "<tr>\n",
       "                        <td></td>                           <th>coef</th>     <th>std err</th>      <th>z</th>      <th>P>|z|</th>  <th>[0.025</th>    <th>0.975]</th>  \n",
       "</tr>\n",
       "<tr>\n",
       "  <th>const</th>                                         <td>   -4.8297</td> <td>    0.467</td> <td>  -10.348</td> <td> 0.000</td> <td>   -5.745</td> <td>   -3.915</td>\n",
       "</tr>\n",
       "<tr>\n",
       "  <th>Lead Origin</th>                                   <td>    0.6240</td> <td>    0.060</td> <td>   10.416</td> <td> 0.000</td> <td>    0.507</td> <td>    0.741</td>\n",
       "</tr>\n",
       "<tr>\n",
       "  <th>Lead Source</th>                                   <td>    0.0870</td> <td>    0.012</td> <td>    7.438</td> <td> 0.000</td> <td>    0.064</td> <td>    0.110</td>\n",
       "</tr>\n",
       "<tr>\n",
       "  <th>Do Not Email</th>                                  <td>   -1.7595</td> <td>    0.156</td> <td>  -11.258</td> <td> 0.000</td> <td>   -2.066</td> <td>   -1.453</td>\n",
       "</tr>\n",
       "<tr>\n",
       "  <th>TotalVisits</th>                                   <td>    0.0298</td> <td>    0.009</td> <td>    3.366</td> <td> 0.001</td> <td>    0.012</td> <td>    0.047</td>\n",
       "</tr>\n",
       "<tr>\n",
       "  <th>Page Views Per Visit</th>                          <td>   -0.0501</td> <td>    0.019</td> <td>   -2.603</td> <td> 0.009</td> <td>   -0.088</td> <td>   -0.012</td>\n",
       "</tr>\n",
       "<tr>\n",
       "  <th>Last Activity</th>                                 <td>    0.0861</td> <td>    0.014</td> <td>    5.991</td> <td> 0.000</td> <td>    0.058</td> <td>    0.114</td>\n",
       "</tr>\n",
       "<tr>\n",
       "  <th>What is your current occupation</th>               <td>    0.9669</td> <td>    0.107</td> <td>    9.065</td> <td> 0.000</td> <td>    0.758</td> <td>    1.176</td>\n",
       "</tr>\n",
       "<tr>\n",
       "  <th>What matters most to you in choosing a course</th> <td>   -1.3405</td> <td>    0.076</td> <td>  -17.742</td> <td> 0.000</td> <td>   -1.489</td> <td>   -1.192</td>\n",
       "</tr>\n",
       "<tr>\n",
       "  <th>Search</th>                                        <td>   -0.5971</td> <td>    0.918</td> <td>   -0.651</td> <td> 0.515</td> <td>   -2.395</td> <td>    1.201</td>\n",
       "</tr>\n",
       "<tr>\n",
       "  <th>Tags</th>                                          <td>    0.0913</td> <td>    0.005</td> <td>   18.508</td> <td> 0.000</td> <td>    0.082</td> <td>    0.101</td>\n",
       "</tr>\n",
       "<tr>\n",
       "  <th>Lead Profile</th>                                  <td>   -0.5292</td> <td>    0.034</td> <td>  -15.676</td> <td> 0.000</td> <td>   -0.595</td> <td>   -0.463</td>\n",
       "</tr>\n",
       "<tr>\n",
       "  <th>A free copy of Mastering The Interview</th>        <td>   -0.2716</td> <td>    0.077</td> <td>   -3.528</td> <td> 0.000</td> <td>   -0.422</td> <td>   -0.121</td>\n",
       "</tr>\n",
       "<tr>\n",
       "  <th>Last Notable Activity</th>                         <td>    0.0595</td> <td>    0.016</td> <td>    3.738</td> <td> 0.000</td> <td>    0.028</td> <td>    0.091</td>\n",
       "</tr>\n",
       "</table>"
      ],
      "text/latex": [
       "\\begin{center}\n",
       "\\begin{tabular}{lclc}\n",
       "\\toprule\n",
       "\\textbf{Dep. Variable:}                                &    Converted     & \\textbf{  No. Observations:  } &     6351    \\\\\n",
       "\\textbf{Model:}                                        &       GLM        & \\textbf{  Df Residuals:      } &     6337    \\\\\n",
       "\\textbf{Model Family:}                                 &     Binomial     & \\textbf{  Df Model:          } &       13    \\\\\n",
       "\\textbf{Link Function:}                                &      Logit       & \\textbf{  Scale:             } &    1.0000   \\\\\n",
       "\\textbf{Method:}                                       &       IRLS       & \\textbf{  Log-Likelihood:    } &   -3098.5   \\\\\n",
       "\\textbf{Date:}                                         & Sun, 19 Jan 2025 & \\textbf{  Deviance:          } &    6197.0   \\\\\n",
       "\\textbf{Time:}                                         &     21:18:53     & \\textbf{  Pearson chi2:      } &  7.35e+03   \\\\\n",
       "\\textbf{No. Iterations:}                               &        5         & \\textbf{  Pseudo R-squ. (CS):} &   0.2994    \\\\\n",
       "\\textbf{Covariance Type:}                              &    nonrobust     & \\textbf{                     } &             \\\\\n",
       "\\bottomrule\n",
       "\\end{tabular}\n",
       "\\begin{tabular}{lcccccc}\n",
       "                                                       & \\textbf{coef} & \\textbf{std err} & \\textbf{z} & \\textbf{P$> |$z$|$} & \\textbf{[0.025} & \\textbf{0.975]}  \\\\\n",
       "\\midrule\n",
       "\\textbf{const}                                         &      -4.8297  &        0.467     &   -10.348  &         0.000        &       -5.745    &       -3.915     \\\\\n",
       "\\textbf{Lead Origin}                                   &       0.6240  &        0.060     &    10.416  &         0.000        &        0.507    &        0.741     \\\\\n",
       "\\textbf{Lead Source}                                   &       0.0870  &        0.012     &     7.438  &         0.000        &        0.064    &        0.110     \\\\\n",
       "\\textbf{Do Not Email}                                  &      -1.7595  &        0.156     &   -11.258  &         0.000        &       -2.066    &       -1.453     \\\\\n",
       "\\textbf{TotalVisits}                                   &       0.0298  &        0.009     &     3.366  &         0.001        &        0.012    &        0.047     \\\\\n",
       "\\textbf{Page Views Per Visit}                          &      -0.0501  &        0.019     &    -2.603  &         0.009        &       -0.088    &       -0.012     \\\\\n",
       "\\textbf{Last Activity}                                 &       0.0861  &        0.014     &     5.991  &         0.000        &        0.058    &        0.114     \\\\\n",
       "\\textbf{What is your current occupation}               &       0.9669  &        0.107     &     9.065  &         0.000        &        0.758    &        1.176     \\\\\n",
       "\\textbf{What matters most to you in choosing a course} &      -1.3405  &        0.076     &   -17.742  &         0.000        &       -1.489    &       -1.192     \\\\\n",
       "\\textbf{Search}                                        &      -0.5971  &        0.918     &    -0.651  &         0.515        &       -2.395    &        1.201     \\\\\n",
       "\\textbf{Tags}                                          &       0.0913  &        0.005     &    18.508  &         0.000        &        0.082    &        0.101     \\\\\n",
       "\\textbf{Lead Profile}                                  &      -0.5292  &        0.034     &   -15.676  &         0.000        &       -0.595    &       -0.463     \\\\\n",
       "\\textbf{A free copy of Mastering The Interview}        &      -0.2716  &        0.077     &    -3.528  &         0.000        &       -0.422    &       -0.121     \\\\\n",
       "\\textbf{Last Notable Activity}                         &       0.0595  &        0.016     &     3.738  &         0.000        &        0.028    &        0.091     \\\\\n",
       "\\bottomrule\n",
       "\\end{tabular}\n",
       "%\\caption{Generalized Linear Model Regression Results}\n",
       "\\end{center}"
      ],
      "text/plain": [
       "<class 'statsmodels.iolib.summary.Summary'>\n",
       "\"\"\"\n",
       "                 Generalized Linear Model Regression Results                  \n",
       "==============================================================================\n",
       "Dep. Variable:              Converted   No. Observations:                 6351\n",
       "Model:                            GLM   Df Residuals:                     6337\n",
       "Model Family:                Binomial   Df Model:                           13\n",
       "Link Function:                  Logit   Scale:                          1.0000\n",
       "Method:                          IRLS   Log-Likelihood:                -3098.5\n",
       "Date:                Sun, 19 Jan 2025   Deviance:                       6197.0\n",
       "Time:                        21:18:53   Pearson chi2:                 7.35e+03\n",
       "No. Iterations:                     5   Pseudo R-squ. (CS):             0.2994\n",
       "Covariance Type:            nonrobust                                         \n",
       "=================================================================================================================\n",
       "                                                    coef    std err          z      P>|z|      [0.025      0.975]\n",
       "-----------------------------------------------------------------------------------------------------------------\n",
       "const                                            -4.8297      0.467    -10.348      0.000      -5.745      -3.915\n",
       "Lead Origin                                       0.6240      0.060     10.416      0.000       0.507       0.741\n",
       "Lead Source                                       0.0870      0.012      7.438      0.000       0.064       0.110\n",
       "Do Not Email                                     -1.7595      0.156    -11.258      0.000      -2.066      -1.453\n",
       "TotalVisits                                       0.0298      0.009      3.366      0.001       0.012       0.047\n",
       "Page Views Per Visit                             -0.0501      0.019     -2.603      0.009      -0.088      -0.012\n",
       "Last Activity                                     0.0861      0.014      5.991      0.000       0.058       0.114\n",
       "What is your current occupation                   0.9669      0.107      9.065      0.000       0.758       1.176\n",
       "What matters most to you in choosing a course    -1.3405      0.076    -17.742      0.000      -1.489      -1.192\n",
       "Search                                           -0.5971      0.918     -0.651      0.515      -2.395       1.201\n",
       "Tags                                              0.0913      0.005     18.508      0.000       0.082       0.101\n",
       "Lead Profile                                     -0.5292      0.034    -15.676      0.000      -0.595      -0.463\n",
       "A free copy of Mastering The Interview           -0.2716      0.077     -3.528      0.000      -0.422      -0.121\n",
       "Last Notable Activity                             0.0595      0.016      3.738      0.000       0.028       0.091\n",
       "=================================================================================================================\n",
       "\"\"\""
      ]
     },
     "execution_count": 79,
     "metadata": {},
     "output_type": "execute_result"
    }
   ],
   "source": [
    "x_train_sm=sm.add_constant(x_train[col])\n",
    "logm4=sm.GLM(y_train,x_train_sm,family=sm.families.Binomial())\n",
    "res=logm4.fit()\n",
    "res.summary()"
   ]
  },
  {
   "cell_type": "code",
   "execution_count": null,
   "id": "e43bbe68-083c-47b7-9762-363a8669e88c",
   "metadata": {},
   "outputs": [],
   "source": []
  },
  {
   "cell_type": "markdown",
   "id": "ad3c88cf-8024-4b66-8497-0520aec80bf5",
   "metadata": {},
   "source": [
    "removing variable 'Search'"
   ]
  },
  {
   "cell_type": "code",
   "execution_count": 80,
   "id": "703293cb-09e9-4225-b485-a1924b82008a",
   "metadata": {},
   "outputs": [
    {
     "data": {
      "text/plain": [
       "Index(['Lead Origin', 'Lead Source', 'Do Not Email', 'TotalVisits',\n",
       "       'Page Views Per Visit', 'Last Activity',\n",
       "       'What is your current occupation',\n",
       "       'What matters most to you in choosing a course', 'Tags', 'Lead Profile',\n",
       "       'A free copy of Mastering The Interview', 'Last Notable Activity'],\n",
       "      dtype='object')"
      ]
     },
     "execution_count": 80,
     "metadata": {},
     "output_type": "execute_result"
    }
   ],
   "source": [
    "col=col.drop('Search',1)\n",
    "col"
   ]
  },
  {
   "cell_type": "code",
   "execution_count": 81,
   "id": "13b3c0ab-beb9-4bdb-8a24-78fdc17ec9be",
   "metadata": {},
   "outputs": [
    {
     "data": {
      "text/html": [
       "<table class=\"simpletable\">\n",
       "<caption>Generalized Linear Model Regression Results</caption>\n",
       "<tr>\n",
       "  <th>Dep. Variable:</th>       <td>Converted</td>    <th>  No. Observations:  </th>  <td>  6351</td> \n",
       "</tr>\n",
       "<tr>\n",
       "  <th>Model:</th>                  <td>GLM</td>       <th>  Df Residuals:      </th>  <td>  6338</td> \n",
       "</tr>\n",
       "<tr>\n",
       "  <th>Model Family:</th>        <td>Binomial</td>     <th>  Df Model:          </th>  <td>    12</td> \n",
       "</tr>\n",
       "<tr>\n",
       "  <th>Link Function:</th>         <td>Logit</td>      <th>  Scale:             </th> <td>  1.0000</td>\n",
       "</tr>\n",
       "<tr>\n",
       "  <th>Method:</th>                <td>IRLS</td>       <th>  Log-Likelihood:    </th> <td> -3098.7</td>\n",
       "</tr>\n",
       "<tr>\n",
       "  <th>Date:</th>            <td>Sun, 19 Jan 2025</td> <th>  Deviance:          </th> <td>  6197.5</td>\n",
       "</tr>\n",
       "<tr>\n",
       "  <th>Time:</th>                <td>21:18:54</td>     <th>  Pearson chi2:      </th> <td>7.35e+03</td>\n",
       "</tr>\n",
       "<tr>\n",
       "  <th>No. Iterations:</th>          <td>5</td>        <th>  Pseudo R-squ. (CS):</th>  <td>0.2993</td> \n",
       "</tr>\n",
       "<tr>\n",
       "  <th>Covariance Type:</th>     <td>nonrobust</td>    <th>                     </th>     <td> </td>   \n",
       "</tr>\n",
       "</table>\n",
       "<table class=\"simpletable\">\n",
       "<tr>\n",
       "                        <td></td>                           <th>coef</th>     <th>std err</th>      <th>z</th>      <th>P>|z|</th>  <th>[0.025</th>    <th>0.975]</th>  \n",
       "</tr>\n",
       "<tr>\n",
       "  <th>const</th>                                         <td>   -4.8284</td> <td>    0.467</td> <td>  -10.345</td> <td> 0.000</td> <td>   -5.743</td> <td>   -3.914</td>\n",
       "</tr>\n",
       "<tr>\n",
       "  <th>Lead Origin</th>                                   <td>    0.6242</td> <td>    0.060</td> <td>   10.420</td> <td> 0.000</td> <td>    0.507</td> <td>    0.742</td>\n",
       "</tr>\n",
       "<tr>\n",
       "  <th>Lead Source</th>                                   <td>    0.0871</td> <td>    0.012</td> <td>    7.440</td> <td> 0.000</td> <td>    0.064</td> <td>    0.110</td>\n",
       "</tr>\n",
       "<tr>\n",
       "  <th>Do Not Email</th>                                  <td>   -1.7588</td> <td>    0.156</td> <td>  -11.255</td> <td> 0.000</td> <td>   -2.065</td> <td>   -1.452</td>\n",
       "</tr>\n",
       "<tr>\n",
       "  <th>TotalVisits</th>                                   <td>    0.0294</td> <td>    0.009</td> <td>    3.343</td> <td> 0.001</td> <td>    0.012</td> <td>    0.047</td>\n",
       "</tr>\n",
       "<tr>\n",
       "  <th>Page Views Per Visit</th>                          <td>   -0.0501</td> <td>    0.019</td> <td>   -2.604</td> <td> 0.009</td> <td>   -0.088</td> <td>   -0.012</td>\n",
       "</tr>\n",
       "<tr>\n",
       "  <th>Last Activity</th>                                 <td>    0.0860</td> <td>    0.014</td> <td>    5.984</td> <td> 0.000</td> <td>    0.058</td> <td>    0.114</td>\n",
       "</tr>\n",
       "<tr>\n",
       "  <th>What is your current occupation</th>               <td>    0.9659</td> <td>    0.107</td> <td>    9.057</td> <td> 0.000</td> <td>    0.757</td> <td>    1.175</td>\n",
       "</tr>\n",
       "<tr>\n",
       "  <th>What matters most to you in choosing a course</th> <td>   -1.3401</td> <td>    0.076</td> <td>  -17.738</td> <td> 0.000</td> <td>   -1.488</td> <td>   -1.192</td>\n",
       "</tr>\n",
       "<tr>\n",
       "  <th>Tags</th>                                          <td>    0.0913</td> <td>    0.005</td> <td>   18.512</td> <td> 0.000</td> <td>    0.082</td> <td>    0.101</td>\n",
       "</tr>\n",
       "<tr>\n",
       "  <th>Lead Profile</th>                                  <td>   -0.5290</td> <td>    0.034</td> <td>  -15.673</td> <td> 0.000</td> <td>   -0.595</td> <td>   -0.463</td>\n",
       "</tr>\n",
       "<tr>\n",
       "  <th>A free copy of Mastering The Interview</th>        <td>   -0.2711</td> <td>    0.077</td> <td>   -3.523</td> <td> 0.000</td> <td>   -0.422</td> <td>   -0.120</td>\n",
       "</tr>\n",
       "<tr>\n",
       "  <th>Last Notable Activity</th>                         <td>    0.0598</td> <td>    0.016</td> <td>    3.758</td> <td> 0.000</td> <td>    0.029</td> <td>    0.091</td>\n",
       "</tr>\n",
       "</table>"
      ],
      "text/latex": [
       "\\begin{center}\n",
       "\\begin{tabular}{lclc}\n",
       "\\toprule\n",
       "\\textbf{Dep. Variable:}                                &    Converted     & \\textbf{  No. Observations:  } &     6351    \\\\\n",
       "\\textbf{Model:}                                        &       GLM        & \\textbf{  Df Residuals:      } &     6338    \\\\\n",
       "\\textbf{Model Family:}                                 &     Binomial     & \\textbf{  Df Model:          } &       12    \\\\\n",
       "\\textbf{Link Function:}                                &      Logit       & \\textbf{  Scale:             } &    1.0000   \\\\\n",
       "\\textbf{Method:}                                       &       IRLS       & \\textbf{  Log-Likelihood:    } &   -3098.7   \\\\\n",
       "\\textbf{Date:}                                         & Sun, 19 Jan 2025 & \\textbf{  Deviance:          } &    6197.5   \\\\\n",
       "\\textbf{Time:}                                         &     21:18:54     & \\textbf{  Pearson chi2:      } &  7.35e+03   \\\\\n",
       "\\textbf{No. Iterations:}                               &        5         & \\textbf{  Pseudo R-squ. (CS):} &   0.2993    \\\\\n",
       "\\textbf{Covariance Type:}                              &    nonrobust     & \\textbf{                     } &             \\\\\n",
       "\\bottomrule\n",
       "\\end{tabular}\n",
       "\\begin{tabular}{lcccccc}\n",
       "                                                       & \\textbf{coef} & \\textbf{std err} & \\textbf{z} & \\textbf{P$> |$z$|$} & \\textbf{[0.025} & \\textbf{0.975]}  \\\\\n",
       "\\midrule\n",
       "\\textbf{const}                                         &      -4.8284  &        0.467     &   -10.345  &         0.000        &       -5.743    &       -3.914     \\\\\n",
       "\\textbf{Lead Origin}                                   &       0.6242  &        0.060     &    10.420  &         0.000        &        0.507    &        0.742     \\\\\n",
       "\\textbf{Lead Source}                                   &       0.0871  &        0.012     &     7.440  &         0.000        &        0.064    &        0.110     \\\\\n",
       "\\textbf{Do Not Email}                                  &      -1.7588  &        0.156     &   -11.255  &         0.000        &       -2.065    &       -1.452     \\\\\n",
       "\\textbf{TotalVisits}                                   &       0.0294  &        0.009     &     3.343  &         0.001        &        0.012    &        0.047     \\\\\n",
       "\\textbf{Page Views Per Visit}                          &      -0.0501  &        0.019     &    -2.604  &         0.009        &       -0.088    &       -0.012     \\\\\n",
       "\\textbf{Last Activity}                                 &       0.0860  &        0.014     &     5.984  &         0.000        &        0.058    &        0.114     \\\\\n",
       "\\textbf{What is your current occupation}               &       0.9659  &        0.107     &     9.057  &         0.000        &        0.757    &        1.175     \\\\\n",
       "\\textbf{What matters most to you in choosing a course} &      -1.3401  &        0.076     &   -17.738  &         0.000        &       -1.488    &       -1.192     \\\\\n",
       "\\textbf{Tags}                                          &       0.0913  &        0.005     &    18.512  &         0.000        &        0.082    &        0.101     \\\\\n",
       "\\textbf{Lead Profile}                                  &      -0.5290  &        0.034     &   -15.673  &         0.000        &       -0.595    &       -0.463     \\\\\n",
       "\\textbf{A free copy of Mastering The Interview}        &      -0.2711  &        0.077     &    -3.523  &         0.000        &       -0.422    &       -0.120     \\\\\n",
       "\\textbf{Last Notable Activity}                         &       0.0598  &        0.016     &     3.758  &         0.000        &        0.029    &        0.091     \\\\\n",
       "\\bottomrule\n",
       "\\end{tabular}\n",
       "%\\caption{Generalized Linear Model Regression Results}\n",
       "\\end{center}"
      ],
      "text/plain": [
       "<class 'statsmodels.iolib.summary.Summary'>\n",
       "\"\"\"\n",
       "                 Generalized Linear Model Regression Results                  \n",
       "==============================================================================\n",
       "Dep. Variable:              Converted   No. Observations:                 6351\n",
       "Model:                            GLM   Df Residuals:                     6338\n",
       "Model Family:                Binomial   Df Model:                           12\n",
       "Link Function:                  Logit   Scale:                          1.0000\n",
       "Method:                          IRLS   Log-Likelihood:                -3098.7\n",
       "Date:                Sun, 19 Jan 2025   Deviance:                       6197.5\n",
       "Time:                        21:18:54   Pearson chi2:                 7.35e+03\n",
       "No. Iterations:                     5   Pseudo R-squ. (CS):             0.2993\n",
       "Covariance Type:            nonrobust                                         \n",
       "=================================================================================================================\n",
       "                                                    coef    std err          z      P>|z|      [0.025      0.975]\n",
       "-----------------------------------------------------------------------------------------------------------------\n",
       "const                                            -4.8284      0.467    -10.345      0.000      -5.743      -3.914\n",
       "Lead Origin                                       0.6242      0.060     10.420      0.000       0.507       0.742\n",
       "Lead Source                                       0.0871      0.012      7.440      0.000       0.064       0.110\n",
       "Do Not Email                                     -1.7588      0.156    -11.255      0.000      -2.065      -1.452\n",
       "TotalVisits                                       0.0294      0.009      3.343      0.001       0.012       0.047\n",
       "Page Views Per Visit                             -0.0501      0.019     -2.604      0.009      -0.088      -0.012\n",
       "Last Activity                                     0.0860      0.014      5.984      0.000       0.058       0.114\n",
       "What is your current occupation                   0.9659      0.107      9.057      0.000       0.757       1.175\n",
       "What matters most to you in choosing a course    -1.3401      0.076    -17.738      0.000      -1.488      -1.192\n",
       "Tags                                              0.0913      0.005     18.512      0.000       0.082       0.101\n",
       "Lead Profile                                     -0.5290      0.034    -15.673      0.000      -0.595      -0.463\n",
       "A free copy of Mastering The Interview           -0.2711      0.077     -3.523      0.000      -0.422      -0.120\n",
       "Last Notable Activity                             0.0598      0.016      3.758      0.000       0.029       0.091\n",
       "=================================================================================================================\n",
       "\"\"\""
      ]
     },
     "execution_count": 81,
     "metadata": {},
     "output_type": "execute_result"
    }
   ],
   "source": [
    "x_train_sm=sm.add_constant(x_train[col])\n",
    "logm5=sm.GLM(y_train,x_train_sm,family=sm.families.Binomial())\n",
    "res=logm5.fit()\n",
    "res.summary()"
   ]
  },
  {
   "cell_type": "code",
   "execution_count": null,
   "id": "f8a04778-ff2e-41a0-8655-f3eac4fda753",
   "metadata": {},
   "outputs": [],
   "source": []
  },
  {
   "cell_type": "markdown",
   "id": "6c7bc807-6a94-4b8f-9c27-ad602ca40314",
   "metadata": {},
   "source": [
    "Now the p  values are almost less than 0.05, so checking the accuracy and then the VIF values and accuracy again"
   ]
  },
  {
   "cell_type": "code",
   "execution_count": null,
   "id": "b5dbf01d-c007-414c-8985-1b6df5d2c56b",
   "metadata": {},
   "outputs": [],
   "source": []
  },
  {
   "cell_type": "code",
   "execution_count": 82,
   "id": "720dd25a-8280-47dd-ac30-627f3ecc43f2",
   "metadata": {},
   "outputs": [
    {
     "data": {
      "text/plain": [
       "8174    0.823084\n",
       "6986    0.720115\n",
       "8112    0.982326\n",
       "8530    0.181493\n",
       "6444    0.313801\n",
       "2489    0.873187\n",
       "1737    0.867934\n",
       "7461    0.343097\n",
       "2370    0.092072\n",
       "5290    0.183509\n",
       "dtype: float64"
      ]
     },
     "execution_count": 82,
     "metadata": {},
     "output_type": "execute_result"
    }
   ],
   "source": [
    "y_train_pred=res.predict(x_train_sm)\n",
    "y_train_pred[:10]"
   ]
  },
  {
   "cell_type": "code",
   "execution_count": 83,
   "id": "cfd8743a-76ac-4603-8e1f-bc8f9ae5cb27",
   "metadata": {},
   "outputs": [
    {
     "data": {
      "text/plain": [
       "array([0.82308355, 0.72011522, 0.98232618, ..., 0.56011714, 0.21275044,\n",
       "       0.1208189 ])"
      ]
     },
     "execution_count": 83,
     "metadata": {},
     "output_type": "execute_result"
    }
   ],
   "source": [
    "y_train_pred=y_train_pred.values.reshape(-1)\n",
    "y_train_pred"
   ]
  },
  {
   "cell_type": "code",
   "execution_count": null,
   "id": "d1d59647-9758-4972-9a1e-0840bdbf0143",
   "metadata": {},
   "outputs": [],
   "source": []
  },
  {
   "cell_type": "code",
   "execution_count": 84,
   "id": "ca8bfa38-19ff-41a2-89f7-b4fc8351e68d",
   "metadata": {},
   "outputs": [
    {
     "data": {
      "text/html": [
       "<div>\n",
       "<style scoped>\n",
       "    .dataframe tbody tr th:only-of-type {\n",
       "        vertical-align: middle;\n",
       "    }\n",
       "\n",
       "    .dataframe tbody tr th {\n",
       "        vertical-align: top;\n",
       "    }\n",
       "\n",
       "    .dataframe thead th {\n",
       "        text-align: right;\n",
       "    }\n",
       "</style>\n",
       "<table border=\"1\" class=\"dataframe\">\n",
       "  <thead>\n",
       "    <tr style=\"text-align: right;\">\n",
       "      <th></th>\n",
       "      <th>Converted</th>\n",
       "      <th>Convert_prob</th>\n",
       "      <th>Lead_ID</th>\n",
       "    </tr>\n",
       "  </thead>\n",
       "  <tbody>\n",
       "    <tr>\n",
       "      <th>0</th>\n",
       "      <td>0</td>\n",
       "      <td>0.823084</td>\n",
       "      <td>8174</td>\n",
       "    </tr>\n",
       "    <tr>\n",
       "      <th>1</th>\n",
       "      <td>1</td>\n",
       "      <td>0.720115</td>\n",
       "      <td>6986</td>\n",
       "    </tr>\n",
       "    <tr>\n",
       "      <th>2</th>\n",
       "      <td>1</td>\n",
       "      <td>0.982326</td>\n",
       "      <td>8112</td>\n",
       "    </tr>\n",
       "    <tr>\n",
       "      <th>3</th>\n",
       "      <td>0</td>\n",
       "      <td>0.181493</td>\n",
       "      <td>8530</td>\n",
       "    </tr>\n",
       "    <tr>\n",
       "      <th>4</th>\n",
       "      <td>0</td>\n",
       "      <td>0.313801</td>\n",
       "      <td>6444</td>\n",
       "    </tr>\n",
       "  </tbody>\n",
       "</table>\n",
       "</div>"
      ],
      "text/plain": [
       "   Converted  Convert_prob  Lead_ID\n",
       "0          0      0.823084     8174\n",
       "1          1      0.720115     6986\n",
       "2          1      0.982326     8112\n",
       "3          0      0.181493     8530\n",
       "4          0      0.313801     6444"
      ]
     },
     "execution_count": 84,
     "metadata": {},
     "output_type": "execute_result"
    }
   ],
   "source": [
    "y_train_pred_final=pd.DataFrame({'Converted':y_train.values,'Convert_prob':y_train_pred})\n",
    "y_train_pred_final['Lead_ID']=y_train.index\n",
    "y_train_pred_final.head()"
   ]
  },
  {
   "cell_type": "code",
   "execution_count": null,
   "id": "c8589cbd-c551-4108-bfcb-a99ff3e0a370",
   "metadata": {},
   "outputs": [],
   "source": []
  },
  {
   "cell_type": "code",
   "execution_count": 85,
   "id": "64856a61-7651-4f93-85f8-927659cd6fae",
   "metadata": {},
   "outputs": [
    {
     "data": {
      "text/html": [
       "<div>\n",
       "<style scoped>\n",
       "    .dataframe tbody tr th:only-of-type {\n",
       "        vertical-align: middle;\n",
       "    }\n",
       "\n",
       "    .dataframe tbody tr th {\n",
       "        vertical-align: top;\n",
       "    }\n",
       "\n",
       "    .dataframe thead th {\n",
       "        text-align: right;\n",
       "    }\n",
       "</style>\n",
       "<table border=\"1\" class=\"dataframe\">\n",
       "  <thead>\n",
       "    <tr style=\"text-align: right;\">\n",
       "      <th></th>\n",
       "      <th>Converted</th>\n",
       "      <th>Convert_prob</th>\n",
       "      <th>Lead_ID</th>\n",
       "      <th>predicted</th>\n",
       "    </tr>\n",
       "  </thead>\n",
       "  <tbody>\n",
       "    <tr>\n",
       "      <th>0</th>\n",
       "      <td>0</td>\n",
       "      <td>0.823084</td>\n",
       "      <td>8174</td>\n",
       "      <td>1</td>\n",
       "    </tr>\n",
       "    <tr>\n",
       "      <th>1</th>\n",
       "      <td>1</td>\n",
       "      <td>0.720115</td>\n",
       "      <td>6986</td>\n",
       "      <td>1</td>\n",
       "    </tr>\n",
       "    <tr>\n",
       "      <th>2</th>\n",
       "      <td>1</td>\n",
       "      <td>0.982326</td>\n",
       "      <td>8112</td>\n",
       "      <td>1</td>\n",
       "    </tr>\n",
       "    <tr>\n",
       "      <th>3</th>\n",
       "      <td>0</td>\n",
       "      <td>0.181493</td>\n",
       "      <td>8530</td>\n",
       "      <td>0</td>\n",
       "    </tr>\n",
       "    <tr>\n",
       "      <th>4</th>\n",
       "      <td>0</td>\n",
       "      <td>0.313801</td>\n",
       "      <td>6444</td>\n",
       "      <td>0</td>\n",
       "    </tr>\n",
       "  </tbody>\n",
       "</table>\n",
       "</div>"
      ],
      "text/plain": [
       "   Converted  Convert_prob  Lead_ID  predicted\n",
       "0          0      0.823084     8174          1\n",
       "1          1      0.720115     6986          1\n",
       "2          1      0.982326     8112          1\n",
       "3          0      0.181493     8530          0\n",
       "4          0      0.313801     6444          0"
      ]
     },
     "execution_count": 85,
     "metadata": {},
     "output_type": "execute_result"
    }
   ],
   "source": [
    "y_train_pred_final['predicted']=y_train_pred_final.Convert_prob.map(lambda x:1 if x>0.5 else 0)\n",
    "y_train_pred_final.head()"
   ]
  },
  {
   "cell_type": "markdown",
   "id": "ea12741d-d9a8-4c29-8a7c-b74ebe92c3cd",
   "metadata": {},
   "source": [
    "Confusion Matrix"
   ]
  },
  {
   "cell_type": "code",
   "execution_count": 86,
   "id": "e9c97772-c1b7-466a-a5dc-1b02e211916a",
   "metadata": {},
   "outputs": [
    {
     "name": "stdout",
     "output_type": "stream",
     "text": [
      "[[3346  569]\n",
      " [ 835 1601]]\n"
     ]
    }
   ],
   "source": [
    "confusion=metrics.confusion_matrix(y_train_pred_final.Converted,y_train_pred_final.predicted)\n",
    "print(confusion)"
   ]
  },
  {
   "cell_type": "code",
   "execution_count": 87,
   "id": "795519ca-beb2-4b1a-bfb8-032fe3a1f15e",
   "metadata": {},
   "outputs": [
    {
     "name": "stdout",
     "output_type": "stream",
     "text": [
      "Accuracy\n",
      "0.778932451582428\n"
     ]
    }
   ],
   "source": [
    "\n",
    "print('Accuracy')\n",
    "print(metrics.accuracy_score(y_train_pred_final.Converted,y_train_pred_final.predicted))"
   ]
  },
  {
   "cell_type": "code",
   "execution_count": null,
   "id": "c924b0f2-2f81-4826-ad37-91f25899310e",
   "metadata": {},
   "outputs": [],
   "source": []
  },
  {
   "cell_type": "markdown",
   "id": "23fbed35-8973-48ff-9762-c26cda9eae21",
   "metadata": {},
   "source": [
    "Accuracy did not change much , now checking for **VIF** values"
   ]
  },
  {
   "cell_type": "code",
   "execution_count": null,
   "id": "b676df51-151a-40a6-b561-c1c2e85cd90d",
   "metadata": {},
   "outputs": [],
   "source": []
  },
  {
   "cell_type": "markdown",
   "id": "6b8ca81f-78fd-4387-acce-b6ed1b047ff0",
   "metadata": {},
   "source": [
    "VIF"
   ]
  },
  {
   "cell_type": "code",
   "execution_count": 88,
   "id": "a041da1a-f2bd-4f81-b5e1-d70911811f94",
   "metadata": {},
   "outputs": [
    {
     "data": {
      "text/html": [
       "<div>\n",
       "<style scoped>\n",
       "    .dataframe tbody tr th:only-of-type {\n",
       "        vertical-align: middle;\n",
       "    }\n",
       "\n",
       "    .dataframe tbody tr th {\n",
       "        vertical-align: top;\n",
       "    }\n",
       "\n",
       "    .dataframe thead th {\n",
       "        text-align: right;\n",
       "    }\n",
       "</style>\n",
       "<table border=\"1\" class=\"dataframe\">\n",
       "  <thead>\n",
       "    <tr style=\"text-align: right;\">\n",
       "      <th></th>\n",
       "      <th>Features</th>\n",
       "      <th>VIF</th>\n",
       "    </tr>\n",
       "  </thead>\n",
       "  <tbody>\n",
       "    <tr>\n",
       "      <th>6</th>\n",
       "      <td>What is your current occupation</td>\n",
       "      <td>38.36</td>\n",
       "    </tr>\n",
       "    <tr>\n",
       "      <th>9</th>\n",
       "      <td>Lead Profile</td>\n",
       "      <td>20.51</td>\n",
       "    </tr>\n",
       "    <tr>\n",
       "      <th>11</th>\n",
       "      <td>Last Notable Activity</td>\n",
       "      <td>16.11</td>\n",
       "    </tr>\n",
       "    <tr>\n",
       "      <th>5</th>\n",
       "      <td>Last Activity</td>\n",
       "      <td>13.05</td>\n",
       "    </tr>\n",
       "    <tr>\n",
       "      <th>8</th>\n",
       "      <td>Tags</td>\n",
       "      <td>8.73</td>\n",
       "    </tr>\n",
       "    <tr>\n",
       "      <th>1</th>\n",
       "      <td>Lead Source</td>\n",
       "      <td>3.58</td>\n",
       "    </tr>\n",
       "    <tr>\n",
       "      <th>7</th>\n",
       "      <td>What matters most to you in choosing a course</td>\n",
       "      <td>3.48</td>\n",
       "    </tr>\n",
       "    <tr>\n",
       "      <th>4</th>\n",
       "      <td>Page Views Per Visit</td>\n",
       "      <td>3.23</td>\n",
       "    </tr>\n",
       "    <tr>\n",
       "      <th>0</th>\n",
       "      <td>Lead Origin</td>\n",
       "      <td>2.77</td>\n",
       "    </tr>\n",
       "    <tr>\n",
       "      <th>10</th>\n",
       "      <td>A free copy of Mastering The Interview</td>\n",
       "      <td>1.97</td>\n",
       "    </tr>\n",
       "    <tr>\n",
       "      <th>3</th>\n",
       "      <td>TotalVisits</td>\n",
       "      <td>1.88</td>\n",
       "    </tr>\n",
       "    <tr>\n",
       "      <th>2</th>\n",
       "      <td>Do Not Email</td>\n",
       "      <td>1.14</td>\n",
       "    </tr>\n",
       "  </tbody>\n",
       "</table>\n",
       "</div>"
      ],
      "text/plain": [
       "                                         Features    VIF\n",
       "6                 What is your current occupation  38.36\n",
       "9                                    Lead Profile  20.51\n",
       "11                          Last Notable Activity  16.11\n",
       "5                                   Last Activity  13.05\n",
       "8                                            Tags   8.73\n",
       "1                                     Lead Source   3.58\n",
       "7   What matters most to you in choosing a course   3.48\n",
       "4                            Page Views Per Visit   3.23\n",
       "0                                     Lead Origin   2.77\n",
       "10         A free copy of Mastering The Interview   1.97\n",
       "3                                     TotalVisits   1.88\n",
       "2                                    Do Not Email   1.14"
      ]
     },
     "execution_count": 88,
     "metadata": {},
     "output_type": "execute_result"
    }
   ],
   "source": [
    "vif=pd.DataFrame()\n",
    "vif['Features']=x_train[col].columns\n",
    "vif['VIF']=[variance_inflation_factor(x_train[col].values,i) for i in range(x_train[col].shape[1])]\n",
    "vif['VIF']=round(vif['VIF'],2)\n",
    "vif=vif.sort_values(by='VIF',ascending=False)\n",
    "vif"
   ]
  },
  {
   "cell_type": "markdown",
   "id": "673319e0-c166-4fdf-b0b9-c97ff5d388b1",
   "metadata": {},
   "source": [
    "very high VIFs values for many variabels.\n",
    "will drop what is your current occupation first"
   ]
  },
  {
   "cell_type": "code",
   "execution_count": 89,
   "id": "344654de-9588-47af-a643-b3a38d3a1669",
   "metadata": {},
   "outputs": [
    {
     "data": {
      "text/plain": [
       "Index(['Lead Origin', 'Lead Source', 'Do Not Email', 'TotalVisits',\n",
       "       'Page Views Per Visit', 'Last Activity',\n",
       "       'What matters most to you in choosing a course', 'Tags', 'Lead Profile',\n",
       "       'A free copy of Mastering The Interview', 'Last Notable Activity'],\n",
       "      dtype='object')"
      ]
     },
     "execution_count": 89,
     "metadata": {},
     "output_type": "execute_result"
    }
   ],
   "source": [
    "col=col.drop('What is your current occupation',1)\n",
    "col"
   ]
  },
  {
   "cell_type": "markdown",
   "id": "0ffee4fc-b3f8-486f-84fe-fc5f1592d09c",
   "metadata": {},
   "source": [
    "##### rerun model"
   ]
  },
  {
   "cell_type": "code",
   "execution_count": null,
   "id": "4282941c-8fa8-4db8-8be4-9063020d8be2",
   "metadata": {},
   "outputs": [],
   "source": []
  },
  {
   "cell_type": "code",
   "execution_count": 90,
   "id": "1bfde2fe-0452-4067-a7f0-0d2dab257020",
   "metadata": {},
   "outputs": [
    {
     "data": {
      "text/html": [
       "<table class=\"simpletable\">\n",
       "<caption>Generalized Linear Model Regression Results</caption>\n",
       "<tr>\n",
       "  <th>Dep. Variable:</th>       <td>Converted</td>    <th>  No. Observations:  </th>  <td>  6351</td> \n",
       "</tr>\n",
       "<tr>\n",
       "  <th>Model:</th>                  <td>GLM</td>       <th>  Df Residuals:      </th>  <td>  6339</td> \n",
       "</tr>\n",
       "<tr>\n",
       "  <th>Model Family:</th>        <td>Binomial</td>     <th>  Df Model:          </th>  <td>    11</td> \n",
       "</tr>\n",
       "<tr>\n",
       "  <th>Link Function:</th>         <td>Logit</td>      <th>  Scale:             </th> <td>  1.0000</td>\n",
       "</tr>\n",
       "<tr>\n",
       "  <th>Method:</th>                <td>IRLS</td>       <th>  Log-Likelihood:    </th> <td> -3148.1</td>\n",
       "</tr>\n",
       "<tr>\n",
       "  <th>Date:</th>            <td>Sun, 19 Jan 2025</td> <th>  Deviance:          </th> <td>  6296.3</td>\n",
       "</tr>\n",
       "<tr>\n",
       "  <th>Time:</th>                <td>21:19:00</td>     <th>  Pearson chi2:      </th> <td>7.29e+03</td>\n",
       "</tr>\n",
       "<tr>\n",
       "  <th>No. Iterations:</th>          <td>5</td>        <th>  Pseudo R-squ. (CS):</th>  <td>0.2884</td> \n",
       "</tr>\n",
       "<tr>\n",
       "  <th>Covariance Type:</th>     <td>nonrobust</td>    <th>                     </th>     <td> </td>   \n",
       "</tr>\n",
       "</table>\n",
       "<table class=\"simpletable\">\n",
       "<tr>\n",
       "                        <td></td>                           <th>coef</th>     <th>std err</th>      <th>z</th>      <th>P>|z|</th>  <th>[0.025</th>    <th>0.975]</th>  \n",
       "</tr>\n",
       "<tr>\n",
       "  <th>const</th>                                         <td>   -0.9468</td> <td>    0.177</td> <td>   -5.364</td> <td> 0.000</td> <td>   -1.293</td> <td>   -0.601</td>\n",
       "</tr>\n",
       "<tr>\n",
       "  <th>Lead Origin</th>                                   <td>    0.6535</td> <td>    0.059</td> <td>   11.024</td> <td> 0.000</td> <td>    0.537</td> <td>    0.770</td>\n",
       "</tr>\n",
       "<tr>\n",
       "  <th>Lead Source</th>                                   <td>    0.0888</td> <td>    0.012</td> <td>    7.638</td> <td> 0.000</td> <td>    0.066</td> <td>    0.112</td>\n",
       "</tr>\n",
       "<tr>\n",
       "  <th>Do Not Email</th>                                  <td>   -1.7864</td> <td>    0.155</td> <td>  -11.530</td> <td> 0.000</td> <td>   -2.090</td> <td>   -1.483</td>\n",
       "</tr>\n",
       "<tr>\n",
       "  <th>TotalVisits</th>                                   <td>    0.0297</td> <td>    0.009</td> <td>    3.375</td> <td> 0.001</td> <td>    0.012</td> <td>    0.047</td>\n",
       "</tr>\n",
       "<tr>\n",
       "  <th>Page Views Per Visit</th>                          <td>   -0.0529</td> <td>    0.019</td> <td>   -2.769</td> <td> 0.006</td> <td>   -0.090</td> <td>   -0.015</td>\n",
       "</tr>\n",
       "<tr>\n",
       "  <th>Last Activity</th>                                 <td>    0.0856</td> <td>    0.014</td> <td>    6.023</td> <td> 0.000</td> <td>    0.058</td> <td>    0.113</td>\n",
       "</tr>\n",
       "<tr>\n",
       "  <th>What matters most to you in choosing a course</th> <td>   -0.7215</td> <td>    0.031</td> <td>  -23.608</td> <td> 0.000</td> <td>   -0.781</td> <td>   -0.662</td>\n",
       "</tr>\n",
       "<tr>\n",
       "  <th>Tags</th>                                          <td>    0.0949</td> <td>    0.005</td> <td>   19.479</td> <td> 0.000</td> <td>    0.085</td> <td>    0.104</td>\n",
       "</tr>\n",
       "<tr>\n",
       "  <th>Lead Profile</th>                                  <td>   -0.5479</td> <td>    0.033</td> <td>  -16.525</td> <td> 0.000</td> <td>   -0.613</td> <td>   -0.483</td>\n",
       "</tr>\n",
       "<tr>\n",
       "  <th>A free copy of Mastering The Interview</th>        <td>   -0.2661</td> <td>    0.076</td> <td>   -3.495</td> <td> 0.000</td> <td>   -0.415</td> <td>   -0.117</td>\n",
       "</tr>\n",
       "<tr>\n",
       "  <th>Last Notable Activity</th>                         <td>    0.0655</td> <td>    0.016</td> <td>    4.159</td> <td> 0.000</td> <td>    0.035</td> <td>    0.096</td>\n",
       "</tr>\n",
       "</table>"
      ],
      "text/latex": [
       "\\begin{center}\n",
       "\\begin{tabular}{lclc}\n",
       "\\toprule\n",
       "\\textbf{Dep. Variable:}                                &    Converted     & \\textbf{  No. Observations:  } &     6351    \\\\\n",
       "\\textbf{Model:}                                        &       GLM        & \\textbf{  Df Residuals:      } &     6339    \\\\\n",
       "\\textbf{Model Family:}                                 &     Binomial     & \\textbf{  Df Model:          } &       11    \\\\\n",
       "\\textbf{Link Function:}                                &      Logit       & \\textbf{  Scale:             } &    1.0000   \\\\\n",
       "\\textbf{Method:}                                       &       IRLS       & \\textbf{  Log-Likelihood:    } &   -3148.1   \\\\\n",
       "\\textbf{Date:}                                         & Sun, 19 Jan 2025 & \\textbf{  Deviance:          } &    6296.3   \\\\\n",
       "\\textbf{Time:}                                         &     21:19:00     & \\textbf{  Pearson chi2:      } &  7.29e+03   \\\\\n",
       "\\textbf{No. Iterations:}                               &        5         & \\textbf{  Pseudo R-squ. (CS):} &   0.2884    \\\\\n",
       "\\textbf{Covariance Type:}                              &    nonrobust     & \\textbf{                     } &             \\\\\n",
       "\\bottomrule\n",
       "\\end{tabular}\n",
       "\\begin{tabular}{lcccccc}\n",
       "                                                       & \\textbf{coef} & \\textbf{std err} & \\textbf{z} & \\textbf{P$> |$z$|$} & \\textbf{[0.025} & \\textbf{0.975]}  \\\\\n",
       "\\midrule\n",
       "\\textbf{const}                                         &      -0.9468  &        0.177     &    -5.364  &         0.000        &       -1.293    &       -0.601     \\\\\n",
       "\\textbf{Lead Origin}                                   &       0.6535  &        0.059     &    11.024  &         0.000        &        0.537    &        0.770     \\\\\n",
       "\\textbf{Lead Source}                                   &       0.0888  &        0.012     &     7.638  &         0.000        &        0.066    &        0.112     \\\\\n",
       "\\textbf{Do Not Email}                                  &      -1.7864  &        0.155     &   -11.530  &         0.000        &       -2.090    &       -1.483     \\\\\n",
       "\\textbf{TotalVisits}                                   &       0.0297  &        0.009     &     3.375  &         0.001        &        0.012    &        0.047     \\\\\n",
       "\\textbf{Page Views Per Visit}                          &      -0.0529  &        0.019     &    -2.769  &         0.006        &       -0.090    &       -0.015     \\\\\n",
       "\\textbf{Last Activity}                                 &       0.0856  &        0.014     &     6.023  &         0.000        &        0.058    &        0.113     \\\\\n",
       "\\textbf{What matters most to you in choosing a course} &      -0.7215  &        0.031     &   -23.608  &         0.000        &       -0.781    &       -0.662     \\\\\n",
       "\\textbf{Tags}                                          &       0.0949  &        0.005     &    19.479  &         0.000        &        0.085    &        0.104     \\\\\n",
       "\\textbf{Lead Profile}                                  &      -0.5479  &        0.033     &   -16.525  &         0.000        &       -0.613    &       -0.483     \\\\\n",
       "\\textbf{A free copy of Mastering The Interview}        &      -0.2661  &        0.076     &    -3.495  &         0.000        &       -0.415    &       -0.117     \\\\\n",
       "\\textbf{Last Notable Activity}                         &       0.0655  &        0.016     &     4.159  &         0.000        &        0.035    &        0.096     \\\\\n",
       "\\bottomrule\n",
       "\\end{tabular}\n",
       "%\\caption{Generalized Linear Model Regression Results}\n",
       "\\end{center}"
      ],
      "text/plain": [
       "<class 'statsmodels.iolib.summary.Summary'>\n",
       "\"\"\"\n",
       "                 Generalized Linear Model Regression Results                  \n",
       "==============================================================================\n",
       "Dep. Variable:              Converted   No. Observations:                 6351\n",
       "Model:                            GLM   Df Residuals:                     6339\n",
       "Model Family:                Binomial   Df Model:                           11\n",
       "Link Function:                  Logit   Scale:                          1.0000\n",
       "Method:                          IRLS   Log-Likelihood:                -3148.1\n",
       "Date:                Sun, 19 Jan 2025   Deviance:                       6296.3\n",
       "Time:                        21:19:00   Pearson chi2:                 7.29e+03\n",
       "No. Iterations:                     5   Pseudo R-squ. (CS):             0.2884\n",
       "Covariance Type:            nonrobust                                         \n",
       "=================================================================================================================\n",
       "                                                    coef    std err          z      P>|z|      [0.025      0.975]\n",
       "-----------------------------------------------------------------------------------------------------------------\n",
       "const                                            -0.9468      0.177     -5.364      0.000      -1.293      -0.601\n",
       "Lead Origin                                       0.6535      0.059     11.024      0.000       0.537       0.770\n",
       "Lead Source                                       0.0888      0.012      7.638      0.000       0.066       0.112\n",
       "Do Not Email                                     -1.7864      0.155    -11.530      0.000      -2.090      -1.483\n",
       "TotalVisits                                       0.0297      0.009      3.375      0.001       0.012       0.047\n",
       "Page Views Per Visit                             -0.0529      0.019     -2.769      0.006      -0.090      -0.015\n",
       "Last Activity                                     0.0856      0.014      6.023      0.000       0.058       0.113\n",
       "What matters most to you in choosing a course    -0.7215      0.031    -23.608      0.000      -0.781      -0.662\n",
       "Tags                                              0.0949      0.005     19.479      0.000       0.085       0.104\n",
       "Lead Profile                                     -0.5479      0.033    -16.525      0.000      -0.613      -0.483\n",
       "A free copy of Mastering The Interview           -0.2661      0.076     -3.495      0.000      -0.415      -0.117\n",
       "Last Notable Activity                             0.0655      0.016      4.159      0.000       0.035       0.096\n",
       "=================================================================================================================\n",
       "\"\"\""
      ]
     },
     "execution_count": 90,
     "metadata": {},
     "output_type": "execute_result"
    }
   ],
   "source": [
    "x_train_sm=sm.add_constant(x_train[col])\n",
    "logm3=sm.GLM(y_train,x_train_sm,family=sm.families.Binomial())\n",
    "res=logm3.fit()\n",
    "res.summary()"
   ]
  },
  {
   "cell_type": "code",
   "execution_count": null,
   "id": "1000263d-3fd1-4ff4-b64e-f8be8dba194e",
   "metadata": {},
   "outputs": [],
   "source": []
  },
  {
   "cell_type": "code",
   "execution_count": 91,
   "id": "baf9c068-61e8-4fe9-8a1f-30268c07336a",
   "metadata": {},
   "outputs": [],
   "source": [
    "y_train_pred=res.predict(x_train_sm).values.reshape(-1)"
   ]
  },
  {
   "cell_type": "code",
   "execution_count": 92,
   "id": "2c2868e7-57fa-4b01-ad44-525b74d803ea",
   "metadata": {},
   "outputs": [
    {
     "data": {
      "text/plain": [
       "array([0.83887393, 0.73723624, 0.96158452, 0.18274559, 0.31669026,\n",
       "       0.73811442, 0.72962805, 0.34605534, 0.09117694, 0.18666062])"
      ]
     },
     "execution_count": 92,
     "metadata": {},
     "output_type": "execute_result"
    }
   ],
   "source": [
    "y_train_pred[:10]"
   ]
  },
  {
   "cell_type": "code",
   "execution_count": 93,
   "id": "37794ea7-2237-489a-94cd-0656502f9b9c",
   "metadata": {},
   "outputs": [],
   "source": [
    "y_train_pred_final['Convert_prob']=y_train_pred"
   ]
  },
  {
   "cell_type": "markdown",
   "id": "a1397e3b-fe9d-415c-a2a2-36da2f54d334",
   "metadata": {},
   "source": [
    "predicted with 1 if Convert_prob > 0.5 else 0"
   ]
  },
  {
   "cell_type": "code",
   "execution_count": 94,
   "id": "f8cdda2e-2ccb-40ac-a151-4e59df6aa257",
   "metadata": {},
   "outputs": [
    {
     "data": {
      "text/html": [
       "<div>\n",
       "<style scoped>\n",
       "    .dataframe tbody tr th:only-of-type {\n",
       "        vertical-align: middle;\n",
       "    }\n",
       "\n",
       "    .dataframe tbody tr th {\n",
       "        vertical-align: top;\n",
       "    }\n",
       "\n",
       "    .dataframe thead th {\n",
       "        text-align: right;\n",
       "    }\n",
       "</style>\n",
       "<table border=\"1\" class=\"dataframe\">\n",
       "  <thead>\n",
       "    <tr style=\"text-align: right;\">\n",
       "      <th></th>\n",
       "      <th>Converted</th>\n",
       "      <th>Convert_prob</th>\n",
       "      <th>Lead_ID</th>\n",
       "      <th>predicted</th>\n",
       "    </tr>\n",
       "  </thead>\n",
       "  <tbody>\n",
       "    <tr>\n",
       "      <th>0</th>\n",
       "      <td>0</td>\n",
       "      <td>0.838874</td>\n",
       "      <td>8174</td>\n",
       "      <td>1</td>\n",
       "    </tr>\n",
       "    <tr>\n",
       "      <th>1</th>\n",
       "      <td>1</td>\n",
       "      <td>0.737236</td>\n",
       "      <td>6986</td>\n",
       "      <td>1</td>\n",
       "    </tr>\n",
       "    <tr>\n",
       "      <th>2</th>\n",
       "      <td>1</td>\n",
       "      <td>0.961585</td>\n",
       "      <td>8112</td>\n",
       "      <td>1</td>\n",
       "    </tr>\n",
       "    <tr>\n",
       "      <th>3</th>\n",
       "      <td>0</td>\n",
       "      <td>0.182746</td>\n",
       "      <td>8530</td>\n",
       "      <td>0</td>\n",
       "    </tr>\n",
       "    <tr>\n",
       "      <th>4</th>\n",
       "      <td>0</td>\n",
       "      <td>0.316690</td>\n",
       "      <td>6444</td>\n",
       "      <td>0</td>\n",
       "    </tr>\n",
       "  </tbody>\n",
       "</table>\n",
       "</div>"
      ],
      "text/plain": [
       "   Converted  Convert_prob  Lead_ID  predicted\n",
       "0          0      0.838874     8174          1\n",
       "1          1      0.737236     6986          1\n",
       "2          1      0.961585     8112          1\n",
       "3          0      0.182746     8530          0\n",
       "4          0      0.316690     6444          0"
      ]
     },
     "execution_count": 94,
     "metadata": {},
     "output_type": "execute_result"
    }
   ],
   "source": [
    "y_train_pred_final['predicted']=y_train_pred_final.Convert_prob.map(lambda x: 1 if x >0.5 else 0)\n",
    "y_train_pred_final.head()"
   ]
  },
  {
   "cell_type": "code",
   "execution_count": 95,
   "id": "fa6c6325-011d-488a-ade4-1da62fad738c",
   "metadata": {},
   "outputs": [
    {
     "name": "stdout",
     "output_type": "stream",
     "text": [
      "Accuracy\n",
      "0.7754684301684774\n"
     ]
    }
   ],
   "source": [
    "print('Accuracy')\n",
    "print(metrics.accuracy_score(y_train_pred_final.Converted,y_train_pred_final.predicted))"
   ]
  },
  {
   "cell_type": "markdown",
   "id": "62cfb108-ee2b-4757-a395-68ba36c2cf75",
   "metadata": {},
   "source": [
    "Accuracy did not drop much \n",
    "checking VIF again"
   ]
  },
  {
   "cell_type": "code",
   "execution_count": null,
   "id": "f2f35c6b-4daa-4ff7-9fd8-04990814b071",
   "metadata": {},
   "outputs": [],
   "source": []
  },
  {
   "cell_type": "code",
   "execution_count": 96,
   "id": "2a89559a-fe9d-4d4e-8f0f-5c355465cb3e",
   "metadata": {},
   "outputs": [
    {
     "data": {
      "text/html": [
       "<div>\n",
       "<style scoped>\n",
       "    .dataframe tbody tr th:only-of-type {\n",
       "        vertical-align: middle;\n",
       "    }\n",
       "\n",
       "    .dataframe tbody tr th {\n",
       "        vertical-align: top;\n",
       "    }\n",
       "\n",
       "    .dataframe thead th {\n",
       "        text-align: right;\n",
       "    }\n",
       "</style>\n",
       "<table border=\"1\" class=\"dataframe\">\n",
       "  <thead>\n",
       "    <tr style=\"text-align: right;\">\n",
       "      <th></th>\n",
       "      <th>Features</th>\n",
       "      <th>VIF</th>\n",
       "    </tr>\n",
       "  </thead>\n",
       "  <tbody>\n",
       "    <tr>\n",
       "      <th>10</th>\n",
       "      <td>Last Notable Activity</td>\n",
       "      <td>15.40</td>\n",
       "    </tr>\n",
       "    <tr>\n",
       "      <th>5</th>\n",
       "      <td>Last Activity</td>\n",
       "      <td>13.05</td>\n",
       "    </tr>\n",
       "    <tr>\n",
       "      <th>8</th>\n",
       "      <td>Lead Profile</td>\n",
       "      <td>11.45</td>\n",
       "    </tr>\n",
       "    <tr>\n",
       "      <th>7</th>\n",
       "      <td>Tags</td>\n",
       "      <td>8.08</td>\n",
       "    </tr>\n",
       "    <tr>\n",
       "      <th>1</th>\n",
       "      <td>Lead Source</td>\n",
       "      <td>3.31</td>\n",
       "    </tr>\n",
       "    <tr>\n",
       "      <th>4</th>\n",
       "      <td>Page Views Per Visit</td>\n",
       "      <td>3.18</td>\n",
       "    </tr>\n",
       "    <tr>\n",
       "      <th>0</th>\n",
       "      <td>Lead Origin</td>\n",
       "      <td>2.66</td>\n",
       "    </tr>\n",
       "    <tr>\n",
       "      <th>6</th>\n",
       "      <td>What matters most to you in choosing a course</td>\n",
       "      <td>2.30</td>\n",
       "    </tr>\n",
       "    <tr>\n",
       "      <th>9</th>\n",
       "      <td>A free copy of Mastering The Interview</td>\n",
       "      <td>1.95</td>\n",
       "    </tr>\n",
       "    <tr>\n",
       "      <th>3</th>\n",
       "      <td>TotalVisits</td>\n",
       "      <td>1.88</td>\n",
       "    </tr>\n",
       "    <tr>\n",
       "      <th>2</th>\n",
       "      <td>Do Not Email</td>\n",
       "      <td>1.14</td>\n",
       "    </tr>\n",
       "  </tbody>\n",
       "</table>\n",
       "</div>"
      ],
      "text/plain": [
       "                                         Features    VIF\n",
       "10                          Last Notable Activity  15.40\n",
       "5                                   Last Activity  13.05\n",
       "8                                    Lead Profile  11.45\n",
       "7                                            Tags   8.08\n",
       "1                                     Lead Source   3.31\n",
       "4                            Page Views Per Visit   3.18\n",
       "0                                     Lead Origin   2.66\n",
       "6   What matters most to you in choosing a course   2.30\n",
       "9          A free copy of Mastering The Interview   1.95\n",
       "3                                     TotalVisits   1.88\n",
       "2                                    Do Not Email   1.14"
      ]
     },
     "execution_count": 96,
     "metadata": {},
     "output_type": "execute_result"
    }
   ],
   "source": [
    "vif=pd.DataFrame()\n",
    "vif['Features']=x_train[col].columns\n",
    "vif['VIF']=[variance_inflation_factor(x_train[col].values,i) for i in range(x_train[col].shape[1])]\n",
    "vif['VIF']=round(vif['VIF'],2)\n",
    "vif=vif.sort_values(by='VIF',ascending=False)\n",
    "vif"
   ]
  },
  {
   "cell_type": "markdown",
   "id": "a691289f-a859-40a5-84bc-98a32f95e5ad",
   "metadata": {},
   "source": [
    "dropping Last Notable Activity as it is high VIF"
   ]
  },
  {
   "cell_type": "code",
   "execution_count": 97,
   "id": "ff944be1-ba8b-4a5e-843a-8ee44ab18747",
   "metadata": {},
   "outputs": [
    {
     "data": {
      "text/plain": [
       "Index(['Lead Origin', 'Lead Source', 'Do Not Email', 'TotalVisits',\n",
       "       'Page Views Per Visit', 'Last Activity',\n",
       "       'What matters most to you in choosing a course', 'Tags', 'Lead Profile',\n",
       "       'A free copy of Mastering The Interview'],\n",
       "      dtype='object')"
      ]
     },
     "execution_count": 97,
     "metadata": {},
     "output_type": "execute_result"
    }
   ],
   "source": [
    "col=col.drop('Last Notable Activity')\n",
    "col"
   ]
  },
  {
   "cell_type": "code",
   "execution_count": null,
   "id": "e1f2b271-2d77-446c-86ae-3c6b0c508ab9",
   "metadata": {},
   "outputs": [],
   "source": []
  },
  {
   "cell_type": "code",
   "execution_count": 98,
   "id": "6a3b2d67-5ced-44b8-b336-d49dcad805c8",
   "metadata": {},
   "outputs": [
    {
     "data": {
      "text/html": [
       "<table class=\"simpletable\">\n",
       "<caption>Generalized Linear Model Regression Results</caption>\n",
       "<tr>\n",
       "  <th>Dep. Variable:</th>       <td>Converted</td>    <th>  No. Observations:  </th>  <td>  6351</td> \n",
       "</tr>\n",
       "<tr>\n",
       "  <th>Model:</th>                  <td>GLM</td>       <th>  Df Residuals:      </th>  <td>  6340</td> \n",
       "</tr>\n",
       "<tr>\n",
       "  <th>Model Family:</th>        <td>Binomial</td>     <th>  Df Model:          </th>  <td>    10</td> \n",
       "</tr>\n",
       "<tr>\n",
       "  <th>Link Function:</th>         <td>Logit</td>      <th>  Scale:             </th> <td>  1.0000</td>\n",
       "</tr>\n",
       "<tr>\n",
       "  <th>Method:</th>                <td>IRLS</td>       <th>  Log-Likelihood:    </th> <td> -3156.7</td>\n",
       "</tr>\n",
       "<tr>\n",
       "  <th>Date:</th>            <td>Sun, 19 Jan 2025</td> <th>  Deviance:          </th> <td>  6313.4</td>\n",
       "</tr>\n",
       "<tr>\n",
       "  <th>Time:</th>                <td>21:19:04</td>     <th>  Pearson chi2:      </th> <td>7.34e+03</td>\n",
       "</tr>\n",
       "<tr>\n",
       "  <th>No. Iterations:</th>          <td>5</td>        <th>  Pseudo R-squ. (CS):</th>  <td>0.2864</td> \n",
       "</tr>\n",
       "<tr>\n",
       "  <th>Covariance Type:</th>     <td>nonrobust</td>    <th>                     </th>     <td> </td>   \n",
       "</tr>\n",
       "</table>\n",
       "<table class=\"simpletable\">\n",
       "<tr>\n",
       "                        <td></td>                           <th>coef</th>     <th>std err</th>      <th>z</th>      <th>P>|z|</th>  <th>[0.025</th>    <th>0.975]</th>  \n",
       "</tr>\n",
       "<tr>\n",
       "  <th>const</th>                                         <td>   -0.7890</td> <td>    0.172</td> <td>   -4.575</td> <td> 0.000</td> <td>   -1.127</td> <td>   -0.451</td>\n",
       "</tr>\n",
       "<tr>\n",
       "  <th>Lead Origin</th>                                   <td>    0.6493</td> <td>    0.059</td> <td>   10.962</td> <td> 0.000</td> <td>    0.533</td> <td>    0.765</td>\n",
       "</tr>\n",
       "<tr>\n",
       "  <th>Lead Source</th>                                   <td>    0.0870</td> <td>    0.012</td> <td>    7.497</td> <td> 0.000</td> <td>    0.064</td> <td>    0.110</td>\n",
       "</tr>\n",
       "<tr>\n",
       "  <th>Do Not Email</th>                                  <td>   -1.7166</td> <td>    0.154</td> <td>  -11.127</td> <td> 0.000</td> <td>   -2.019</td> <td>   -1.414</td>\n",
       "</tr>\n",
       "<tr>\n",
       "  <th>TotalVisits</th>                                   <td>    0.0282</td> <td>    0.009</td> <td>    3.244</td> <td> 0.001</td> <td>    0.011</td> <td>    0.045</td>\n",
       "</tr>\n",
       "<tr>\n",
       "  <th>Page Views Per Visit</th>                          <td>   -0.0555</td> <td>    0.019</td> <td>   -2.920</td> <td> 0.003</td> <td>   -0.093</td> <td>   -0.018</td>\n",
       "</tr>\n",
       "<tr>\n",
       "  <th>Last Activity</th>                                 <td>    0.1324</td> <td>    0.009</td> <td>   14.682</td> <td> 0.000</td> <td>    0.115</td> <td>    0.150</td>\n",
       "</tr>\n",
       "<tr>\n",
       "  <th>What matters most to you in choosing a course</th> <td>   -0.7263</td> <td>    0.030</td> <td>  -23.814</td> <td> 0.000</td> <td>   -0.786</td> <td>   -0.666</td>\n",
       "</tr>\n",
       "<tr>\n",
       "  <th>Tags</th>                                          <td>    0.0940</td> <td>    0.005</td> <td>   19.361</td> <td> 0.000</td> <td>    0.084</td> <td>    0.104</td>\n",
       "</tr>\n",
       "<tr>\n",
       "  <th>Lead Profile</th>                                  <td>   -0.5448</td> <td>    0.033</td> <td>  -16.420</td> <td> 0.000</td> <td>   -0.610</td> <td>   -0.480</td>\n",
       "</tr>\n",
       "<tr>\n",
       "  <th>A free copy of Mastering The Interview</th>        <td>   -0.2622</td> <td>    0.076</td> <td>   -3.451</td> <td> 0.001</td> <td>   -0.411</td> <td>   -0.113</td>\n",
       "</tr>\n",
       "</table>"
      ],
      "text/latex": [
       "\\begin{center}\n",
       "\\begin{tabular}{lclc}\n",
       "\\toprule\n",
       "\\textbf{Dep. Variable:}                                &    Converted     & \\textbf{  No. Observations:  } &     6351    \\\\\n",
       "\\textbf{Model:}                                        &       GLM        & \\textbf{  Df Residuals:      } &     6340    \\\\\n",
       "\\textbf{Model Family:}                                 &     Binomial     & \\textbf{  Df Model:          } &       10    \\\\\n",
       "\\textbf{Link Function:}                                &      Logit       & \\textbf{  Scale:             } &    1.0000   \\\\\n",
       "\\textbf{Method:}                                       &       IRLS       & \\textbf{  Log-Likelihood:    } &   -3156.7   \\\\\n",
       "\\textbf{Date:}                                         & Sun, 19 Jan 2025 & \\textbf{  Deviance:          } &    6313.4   \\\\\n",
       "\\textbf{Time:}                                         &     21:19:04     & \\textbf{  Pearson chi2:      } &  7.34e+03   \\\\\n",
       "\\textbf{No. Iterations:}                               &        5         & \\textbf{  Pseudo R-squ. (CS):} &   0.2864    \\\\\n",
       "\\textbf{Covariance Type:}                              &    nonrobust     & \\textbf{                     } &             \\\\\n",
       "\\bottomrule\n",
       "\\end{tabular}\n",
       "\\begin{tabular}{lcccccc}\n",
       "                                                       & \\textbf{coef} & \\textbf{std err} & \\textbf{z} & \\textbf{P$> |$z$|$} & \\textbf{[0.025} & \\textbf{0.975]}  \\\\\n",
       "\\midrule\n",
       "\\textbf{const}                                         &      -0.7890  &        0.172     &    -4.575  &         0.000        &       -1.127    &       -0.451     \\\\\n",
       "\\textbf{Lead Origin}                                   &       0.6493  &        0.059     &    10.962  &         0.000        &        0.533    &        0.765     \\\\\n",
       "\\textbf{Lead Source}                                   &       0.0870  &        0.012     &     7.497  &         0.000        &        0.064    &        0.110     \\\\\n",
       "\\textbf{Do Not Email}                                  &      -1.7166  &        0.154     &   -11.127  &         0.000        &       -2.019    &       -1.414     \\\\\n",
       "\\textbf{TotalVisits}                                   &       0.0282  &        0.009     &     3.244  &         0.001        &        0.011    &        0.045     \\\\\n",
       "\\textbf{Page Views Per Visit}                          &      -0.0555  &        0.019     &    -2.920  &         0.003        &       -0.093    &       -0.018     \\\\\n",
       "\\textbf{Last Activity}                                 &       0.1324  &        0.009     &    14.682  &         0.000        &        0.115    &        0.150     \\\\\n",
       "\\textbf{What matters most to you in choosing a course} &      -0.7263  &        0.030     &   -23.814  &         0.000        &       -0.786    &       -0.666     \\\\\n",
       "\\textbf{Tags}                                          &       0.0940  &        0.005     &    19.361  &         0.000        &        0.084    &        0.104     \\\\\n",
       "\\textbf{Lead Profile}                                  &      -0.5448  &        0.033     &   -16.420  &         0.000        &       -0.610    &       -0.480     \\\\\n",
       "\\textbf{A free copy of Mastering The Interview}        &      -0.2622  &        0.076     &    -3.451  &         0.001        &       -0.411    &       -0.113     \\\\\n",
       "\\bottomrule\n",
       "\\end{tabular}\n",
       "%\\caption{Generalized Linear Model Regression Results}\n",
       "\\end{center}"
      ],
      "text/plain": [
       "<class 'statsmodels.iolib.summary.Summary'>\n",
       "\"\"\"\n",
       "                 Generalized Linear Model Regression Results                  \n",
       "==============================================================================\n",
       "Dep. Variable:              Converted   No. Observations:                 6351\n",
       "Model:                            GLM   Df Residuals:                     6340\n",
       "Model Family:                Binomial   Df Model:                           10\n",
       "Link Function:                  Logit   Scale:                          1.0000\n",
       "Method:                          IRLS   Log-Likelihood:                -3156.7\n",
       "Date:                Sun, 19 Jan 2025   Deviance:                       6313.4\n",
       "Time:                        21:19:04   Pearson chi2:                 7.34e+03\n",
       "No. Iterations:                     5   Pseudo R-squ. (CS):             0.2864\n",
       "Covariance Type:            nonrobust                                         \n",
       "=================================================================================================================\n",
       "                                                    coef    std err          z      P>|z|      [0.025      0.975]\n",
       "-----------------------------------------------------------------------------------------------------------------\n",
       "const                                            -0.7890      0.172     -4.575      0.000      -1.127      -0.451\n",
       "Lead Origin                                       0.6493      0.059     10.962      0.000       0.533       0.765\n",
       "Lead Source                                       0.0870      0.012      7.497      0.000       0.064       0.110\n",
       "Do Not Email                                     -1.7166      0.154    -11.127      0.000      -2.019      -1.414\n",
       "TotalVisits                                       0.0282      0.009      3.244      0.001       0.011       0.045\n",
       "Page Views Per Visit                             -0.0555      0.019     -2.920      0.003      -0.093      -0.018\n",
       "Last Activity                                     0.1324      0.009     14.682      0.000       0.115       0.150\n",
       "What matters most to you in choosing a course    -0.7263      0.030    -23.814      0.000      -0.786      -0.666\n",
       "Tags                                              0.0940      0.005     19.361      0.000       0.084       0.104\n",
       "Lead Profile                                     -0.5448      0.033    -16.420      0.000      -0.610      -0.480\n",
       "A free copy of Mastering The Interview           -0.2622      0.076     -3.451      0.001      -0.411      -0.113\n",
       "=================================================================================================================\n",
       "\"\"\""
      ]
     },
     "execution_count": 98,
     "metadata": {},
     "output_type": "execute_result"
    }
   ],
   "source": [
    "x_train_sm=sm.add_constant(x_train[col])\n",
    "logm4=sm.GLM(y_train,x_train_sm,family=sm.families.Binomial())\n",
    "res=logm4.fit()\n",
    "res.summary()"
   ]
  },
  {
   "cell_type": "code",
   "execution_count": null,
   "id": "36460927-185d-4eed-840d-a119f8a4dbdf",
   "metadata": {},
   "outputs": [],
   "source": []
  },
  {
   "cell_type": "code",
   "execution_count": 99,
   "id": "92bc15e6-7f05-4b3d-878c-ca38b252fd7e",
   "metadata": {},
   "outputs": [
    {
     "data": {
      "text/plain": [
       "array([0.82638922, 0.72064714, 0.95770082, 0.20857721, 0.3073568 ,\n",
       "       0.77085581, 0.74886698, 0.37926932, 0.09940673, 0.1641    ])"
      ]
     },
     "execution_count": 99,
     "metadata": {},
     "output_type": "execute_result"
    }
   ],
   "source": [
    "y_train_pred=res.predict(x_train_sm).values.reshape(-1)\n",
    "y_train_pred[:10]"
   ]
  },
  {
   "cell_type": "code",
   "execution_count": 100,
   "id": "2af765e2-8d5d-42ec-9e73-f1e830248c9a",
   "metadata": {},
   "outputs": [],
   "source": [
    "y_train_pred_final['Convert_prob']=y_train_pred"
   ]
  },
  {
   "cell_type": "code",
   "execution_count": 101,
   "id": "886523dd-99c7-4f28-b7b0-f76fa3c773e9",
   "metadata": {},
   "outputs": [
    {
     "data": {
      "text/html": [
       "<div>\n",
       "<style scoped>\n",
       "    .dataframe tbody tr th:only-of-type {\n",
       "        vertical-align: middle;\n",
       "    }\n",
       "\n",
       "    .dataframe tbody tr th {\n",
       "        vertical-align: top;\n",
       "    }\n",
       "\n",
       "    .dataframe thead th {\n",
       "        text-align: right;\n",
       "    }\n",
       "</style>\n",
       "<table border=\"1\" class=\"dataframe\">\n",
       "  <thead>\n",
       "    <tr style=\"text-align: right;\">\n",
       "      <th></th>\n",
       "      <th>Converted</th>\n",
       "      <th>Convert_prob</th>\n",
       "      <th>Lead_ID</th>\n",
       "      <th>predicted</th>\n",
       "    </tr>\n",
       "  </thead>\n",
       "  <tbody>\n",
       "    <tr>\n",
       "      <th>0</th>\n",
       "      <td>0</td>\n",
       "      <td>0.826389</td>\n",
       "      <td>8174</td>\n",
       "      <td>1</td>\n",
       "    </tr>\n",
       "    <tr>\n",
       "      <th>1</th>\n",
       "      <td>1</td>\n",
       "      <td>0.720647</td>\n",
       "      <td>6986</td>\n",
       "      <td>1</td>\n",
       "    </tr>\n",
       "    <tr>\n",
       "      <th>2</th>\n",
       "      <td>1</td>\n",
       "      <td>0.957701</td>\n",
       "      <td>8112</td>\n",
       "      <td>1</td>\n",
       "    </tr>\n",
       "    <tr>\n",
       "      <th>3</th>\n",
       "      <td>0</td>\n",
       "      <td>0.208577</td>\n",
       "      <td>8530</td>\n",
       "      <td>0</td>\n",
       "    </tr>\n",
       "    <tr>\n",
       "      <th>4</th>\n",
       "      <td>0</td>\n",
       "      <td>0.307357</td>\n",
       "      <td>6444</td>\n",
       "      <td>0</td>\n",
       "    </tr>\n",
       "  </tbody>\n",
       "</table>\n",
       "</div>"
      ],
      "text/plain": [
       "   Converted  Convert_prob  Lead_ID  predicted\n",
       "0          0      0.826389     8174          1\n",
       "1          1      0.720647     6986          1\n",
       "2          1      0.957701     8112          1\n",
       "3          0      0.208577     8530          0\n",
       "4          0      0.307357     6444          0"
      ]
     },
     "execution_count": 101,
     "metadata": {},
     "output_type": "execute_result"
    }
   ],
   "source": [
    "y_train_pred_final['predicted']=y_train_pred_final.Convert_prob.map(lambda x: 1 if x>0.5 else 0)\n",
    "y_train_pred_final.head()"
   ]
  },
  {
   "cell_type": "code",
   "execution_count": null,
   "id": "6220f31f-e534-42f9-87ae-e0c678e607a6",
   "metadata": {},
   "outputs": [],
   "source": []
  },
  {
   "cell_type": "code",
   "execution_count": 102,
   "id": "bd4ada25-732b-4e0c-8c85-47f6f0fbea00",
   "metadata": {},
   "outputs": [
    {
     "name": "stdout",
     "output_type": "stream",
     "text": [
      "Accuracy\n",
      "0.7797197291765077\n"
     ]
    }
   ],
   "source": [
    "print('Accuracy')\n",
    "print(metrics.accuracy_score(y_train_pred_final.Converted,y_train_pred_final.predicted))"
   ]
  },
  {
   "cell_type": "code",
   "execution_count": null,
   "id": "4fac34ed-9c47-4d9f-8053-92262dc30a3c",
   "metadata": {},
   "outputs": [],
   "source": []
  },
  {
   "cell_type": "markdown",
   "id": "80cdedc9-ce0d-4618-b63c-5c61821703d9",
   "metadata": {},
   "source": [
    "Other Metrics"
   ]
  },
  {
   "cell_type": "code",
   "execution_count": 103,
   "id": "fa22d4fc-ee0f-44c2-b6ef-aae59beb1d16",
   "metadata": {},
   "outputs": [
    {
     "name": "stdout",
     "output_type": "stream",
     "text": [
      "[[3310  605]\n",
      " [ 794 1642]]\n"
     ]
    }
   ],
   "source": [
    "confusion=metrics.confusion_matrix(y_train_pred_final.Converted,y_train_pred_final.predicted)\n",
    "print(confusion)"
   ]
  },
  {
   "cell_type": "code",
   "execution_count": 104,
   "id": "e205b683-3683-4937-9410-10f999d283d5",
   "metadata": {},
   "outputs": [],
   "source": [
    "TP = confusion[1,1] # true positive \n",
    "TN = confusion[0,0] # true negatives\n",
    "FP = confusion[0,1] # false positives\n",
    "FN = confusion[1,0] # false negatives"
   ]
  },
  {
   "cell_type": "code",
   "execution_count": 105,
   "id": "b7236aae-ad2f-44a9-868d-fa6ced7db0d6",
   "metadata": {},
   "outputs": [
    {
     "name": "stdout",
     "output_type": "stream",
     "text": [
      "sensitivity\n",
      "0.674055829228243\n"
     ]
    }
   ],
   "source": [
    "# sensitivity\n",
    "print('sensitivity')\n",
    "print(TP / float(TP+FN))"
   ]
  },
  {
   "cell_type": "code",
   "execution_count": null,
   "id": "f78bc518-41ed-4c57-8059-e2f5f1a35552",
   "metadata": {},
   "outputs": [],
   "source": []
  },
  {
   "cell_type": "code",
   "execution_count": 106,
   "id": "ea2f4699-5aa4-41fe-93e0-f02e053d7344",
   "metadata": {},
   "outputs": [
    {
     "name": "stdout",
     "output_type": "stream",
     "text": [
      "specificity\n",
      "0.8454661558109834\n"
     ]
    }
   ],
   "source": [
    "# specificity\n",
    "print('specificity')\n",
    "print(TN / float(TN+FP))"
   ]
  },
  {
   "cell_type": "code",
   "execution_count": null,
   "id": "bcd99bcd-6722-43a7-bc39-574a9cd1a204",
   "metadata": {},
   "outputs": [],
   "source": []
  },
  {
   "cell_type": "code",
   "execution_count": 107,
   "id": "d00d8176-82a5-4391-9666-aaa1d0590532",
   "metadata": {},
   "outputs": [
    {
     "name": "stdout",
     "output_type": "stream",
     "text": [
      "ppr\n",
      "0.730752113929684\n"
     ]
    }
   ],
   "source": [
    "# positive predictive value\n",
    "print('ppr')\n",
    "print (TP / float(TP+FP))"
   ]
  },
  {
   "cell_type": "code",
   "execution_count": null,
   "id": "e065f864-0a51-4a65-a276-f5f83796db40",
   "metadata": {},
   "outputs": [],
   "source": []
  },
  {
   "cell_type": "code",
   "execution_count": 108,
   "id": "28d6d414-6adc-439f-a00a-e0e9c1b2582e",
   "metadata": {},
   "outputs": [
    {
     "name": "stdout",
     "output_type": "stream",
     "text": [
      "npv\n",
      "0.8065302144249513\n"
     ]
    }
   ],
   "source": [
    "# Negative predictive value\n",
    "print('npv')\n",
    "print (TN / float(TN+ FN))"
   ]
  },
  {
   "cell_type": "code",
   "execution_count": null,
   "id": "b259bd81-c522-40fc-8029-8ebe6a92cc9c",
   "metadata": {},
   "outputs": [],
   "source": []
  },
  {
   "cell_type": "markdown",
   "id": "66e9d7b5-d56a-43b1-a4c9-dfc242d5291d",
   "metadata": {},
   "source": [
    "**ROC curve**"
   ]
  },
  {
   "cell_type": "code",
   "execution_count": 109,
   "id": "9bd4b6be-b625-4b29-a3ed-35d0eba0aeae",
   "metadata": {},
   "outputs": [],
   "source": [
    "def draw_roc( actual, probs ):\n",
    "    fpr, tpr, thresholds = metrics.roc_curve( actual, probs,\n",
    "                                              drop_intermediate = False )\n",
    "    auc_score = metrics.roc_auc_score( actual, probs )\n",
    "    plt.figure(figsize=(5, 5))\n",
    "    plt.plot( fpr, tpr, label='ROC curve (area = %0.2f)' % auc_score )\n",
    "    plt.plot([0, 1], [0, 1], 'k--')\n",
    "    plt.xlim([0.0, 1.0])\n",
    "    plt.ylim([0.0, 1.05])\n",
    "    plt.xlabel('False Positive Rate or [1 - True Negative Rate]')\n",
    "    plt.ylabel('True Positive Rate')\n",
    "    plt.title('Receiver operating characteristic example')\n",
    "    plt.legend(loc=\"lower right\")\n",
    "    plt.show()\n",
    "\n",
    "    return None"
   ]
  },
  {
   "cell_type": "code",
   "execution_count": 110,
   "id": "bb35947c-300e-47fe-bff1-7408df685d4a",
   "metadata": {},
   "outputs": [],
   "source": [
    "fpr, tpr, thresholds = metrics.roc_curve( y_train_pred_final.Converted, y_train_pred_final.Convert_prob, drop_intermediate = False )"
   ]
  },
  {
   "cell_type": "code",
   "execution_count": 111,
   "id": "532631a1-ed2a-413f-bab4-5105c6756656",
   "metadata": {},
   "outputs": [
    {
     "data": {
      "image/png": "[encoded data removed]",
      "text/plain": [
       "<Figure size 500x500 with 1 Axes>"
      ]
     },
     "metadata": {},
     "output_type": "display_data"
    }
   ],
   "source": [
    "draw_roc(y_train_pred_final.Converted, y_train_pred_final.Convert_prob)"
   ]
  },
  {
   "cell_type": "code",
   "execution_count": null,
   "id": "6c588777-ad54-4e7f-b24c-b25de952e5ff",
   "metadata": {},
   "outputs": [],
   "source": []
  },
  {
   "cell_type": "markdown",
   "id": "299efb3a-3a6e-4cd3-a4ee-3d5db9186d11",
   "metadata": {},
   "source": [
    "finding optimal cutoff point is probability where we get balanced sensitivity and specifity"
   ]
  },
  {
   "cell_type": "code",
   "execution_count": null,
   "id": "88907d8f-f963-4030-b662-2b9e978dc034",
   "metadata": {},
   "outputs": [],
   "source": []
  },
  {
   "cell_type": "code",
   "execution_count": 112,
   "id": "cd812e36-681b-48c1-aad8-0bb7107900e1",
   "metadata": {},
   "outputs": [
    {
     "data": {
      "text/html": [
       "<div>\n",
       "<style scoped>\n",
       "    .dataframe tbody tr th:only-of-type {\n",
       "        vertical-align: middle;\n",
       "    }\n",
       "\n",
       "    .dataframe tbody tr th {\n",
       "        vertical-align: top;\n",
       "    }\n",
       "\n",
       "    .dataframe thead th {\n",
       "        text-align: right;\n",
       "    }\n",
       "</style>\n",
       "<table border=\"1\" class=\"dataframe\">\n",
       "  <thead>\n",
       "    <tr style=\"text-align: right;\">\n",
       "      <th></th>\n",
       "      <th>Converted</th>\n",
       "      <th>Convert_prob</th>\n",
       "      <th>Lead_ID</th>\n",
       "      <th>predicted</th>\n",
       "      <th>0.0</th>\n",
       "      <th>0.1</th>\n",
       "      <th>0.2</th>\n",
       "      <th>0.3</th>\n",
       "      <th>0.4</th>\n",
       "      <th>0.5</th>\n",
       "      <th>0.6</th>\n",
       "      <th>0.7</th>\n",
       "      <th>0.8</th>\n",
       "      <th>0.9</th>\n",
       "    </tr>\n",
       "  </thead>\n",
       "  <tbody>\n",
       "    <tr>\n",
       "      <th>0</th>\n",
       "      <td>0</td>\n",
       "      <td>0.826389</td>\n",
       "      <td>8174</td>\n",
       "      <td>1</td>\n",
       "      <td>1</td>\n",
       "      <td>1</td>\n",
       "      <td>1</td>\n",
       "      <td>1</td>\n",
       "      <td>1</td>\n",
       "      <td>1</td>\n",
       "      <td>1</td>\n",
       "      <td>1</td>\n",
       "      <td>1</td>\n",
       "      <td>0</td>\n",
       "    </tr>\n",
       "    <tr>\n",
       "      <th>1</th>\n",
       "      <td>1</td>\n",
       "      <td>0.720647</td>\n",
       "      <td>6986</td>\n",
       "      <td>1</td>\n",
       "      <td>1</td>\n",
       "      <td>1</td>\n",
       "      <td>1</td>\n",
       "      <td>1</td>\n",
       "      <td>1</td>\n",
       "      <td>1</td>\n",
       "      <td>1</td>\n",
       "      <td>1</td>\n",
       "      <td>0</td>\n",
       "      <td>0</td>\n",
       "    </tr>\n",
       "    <tr>\n",
       "      <th>2</th>\n",
       "      <td>1</td>\n",
       "      <td>0.957701</td>\n",
       "      <td>8112</td>\n",
       "      <td>1</td>\n",
       "      <td>1</td>\n",
       "      <td>1</td>\n",
       "      <td>1</td>\n",
       "      <td>1</td>\n",
       "      <td>1</td>\n",
       "      <td>1</td>\n",
       "      <td>1</td>\n",
       "      <td>1</td>\n",
       "      <td>1</td>\n",
       "      <td>1</td>\n",
       "    </tr>\n",
       "    <tr>\n",
       "      <th>3</th>\n",
       "      <td>0</td>\n",
       "      <td>0.208577</td>\n",
       "      <td>8530</td>\n",
       "      <td>0</td>\n",
       "      <td>1</td>\n",
       "      <td>1</td>\n",
       "      <td>1</td>\n",
       "      <td>0</td>\n",
       "      <td>0</td>\n",
       "      <td>0</td>\n",
       "      <td>0</td>\n",
       "      <td>0</td>\n",
       "      <td>0</td>\n",
       "      <td>0</td>\n",
       "    </tr>\n",
       "    <tr>\n",
       "      <th>4</th>\n",
       "      <td>0</td>\n",
       "      <td>0.307357</td>\n",
       "      <td>6444</td>\n",
       "      <td>0</td>\n",
       "      <td>1</td>\n",
       "      <td>1</td>\n",
       "      <td>1</td>\n",
       "      <td>1</td>\n",
       "      <td>0</td>\n",
       "      <td>0</td>\n",
       "      <td>0</td>\n",
       "      <td>0</td>\n",
       "      <td>0</td>\n",
       "      <td>0</td>\n",
       "    </tr>\n",
       "  </tbody>\n",
       "</table>\n",
       "</div>"
      ],
      "text/plain": [
       "   Converted  Convert_prob  Lead_ID  predicted  0.0  0.1  0.2  0.3  0.4  0.5  \\\n",
       "0          0      0.826389     8174          1    1    1    1    1    1    1   \n",
       "1          1      0.720647     6986          1    1    1    1    1    1    1   \n",
       "2          1      0.957701     8112          1    1    1    1    1    1    1   \n",
       "3          0      0.208577     8530          0    1    1    1    0    0    0   \n",
       "4          0      0.307357     6444          0    1    1    1    1    0    0   \n",
       "\n",
       "   0.6  0.7  0.8  0.9  \n",
       "0    1    1    1    0  \n",
       "1    1    1    0    0  \n",
       "2    1    1    1    1  \n",
       "3    0    0    0    0  \n",
       "4    0    0    0    0  "
      ]
     },
     "execution_count": 112,
     "metadata": {},
     "output_type": "execute_result"
    }
   ],
   "source": [
    "# creating columns with different probability cutoffs \n",
    "numbers = [float(x)/10 for x in range(10)]\n",
    "for i in numbers:\n",
    "    y_train_pred_final[i]= y_train_pred_final.Convert_prob.map(lambda x: 1 if x > i else 0)\n",
    "y_train_pred_final.head()"
   ]
  },
  {
   "cell_type": "code",
   "execution_count": null,
   "id": "7d4560fa-a459-4b9c-b269-1089ae9c610f",
   "metadata": {},
   "outputs": [],
   "source": []
  },
  {
   "cell_type": "code",
   "execution_count": 113,
   "id": "2efd42a0-7e00-419e-abc7-36de6c2c38ac",
   "metadata": {},
   "outputs": [
    {
     "name": "stdout",
     "output_type": "stream",
     "text": [
      "     prob  accuracy     sensi     speci\n",
      "0.0   0.0  0.383562  1.000000  0.000000\n",
      "0.1   0.1  0.495040  0.960591  0.205364\n",
      "0.2   0.2  0.664777  0.900246  0.518263\n",
      "0.3   0.3  0.731223  0.812397  0.680715\n",
      "0.4   0.4  0.761297  0.747947  0.769604\n",
      "0.5   0.5  0.779720  0.674056  0.845466\n",
      "0.6   0.6  0.757046  0.515599  0.907280\n",
      "0.7   0.7  0.720674  0.351396  0.950447\n",
      "0.8   0.8  0.686978  0.211002  0.983142\n",
      "0.9   0.9  0.641001  0.071018  0.995658\n"
     ]
    }
   ],
   "source": [
    "\n",
    "# Now let's calculate accuracy sensitivity and specificity for various probability cutoffs.\n",
    "cutoff_df = pd.DataFrame( columns = ['prob','accuracy','sensi','speci'])\n",
    "from sklearn.metrics import confusion_matrix\n",
    "\n",
    "num = [0.0,0.1,0.2,0.3,0.4,0.5,0.6,0.7,0.8,0.9]\n",
    "for i in num:\n",
    "    cm1 = metrics.confusion_matrix(y_train_pred_final.Converted, y_train_pred_final[i] )\n",
    "    total1=sum(sum(cm1))\n",
    "    accuracy = (cm1[0,0]+cm1[1,1])/total1\n",
    "    \n",
    "    speci = cm1[0,0]/(cm1[0,0]+cm1[0,1])\n",
    "    sensi = cm1[1,1]/(cm1[1,0]+cm1[1,1])\n",
    "    cutoff_df.loc[i] =[ i ,accuracy,sensi,speci]\n",
    "print(cutoff_df)"
   ]
  },
  {
   "cell_type": "code",
   "execution_count": null,
   "id": "05bf6c34-0f4a-41f4-93d5-ce4f84a9b73d",
   "metadata": {},
   "outputs": [],
   "source": []
  },
  {
   "cell_type": "code",
   "execution_count": 114,
   "id": "4f141cb2-d628-47ee-804a-7d984ce91a88",
   "metadata": {},
   "outputs": [
    {
     "data": {
      "image/png": "[encoded data removed]",
      "text/plain": [
       "<Figure size 640x480 with 1 Axes>"
      ]
     },
     "metadata": {},
     "output_type": "display_data"
    }
   ],
   "source": [
    "# plot accuracy sensitivity and specificity for various probabilities.\n",
    "cutoff_df.plot.line(x='prob', y=['accuracy','sensi','speci'])\n",
    "plt.show()"
   ]
  },
  {
   "cell_type": "markdown",
   "id": "70b81ff6-3a7d-4538-b288-444282a2b846",
   "metadata": {},
   "source": [
    "curve above depicts 0.4 prob as cut off "
   ]
  },
  {
   "cell_type": "code",
   "execution_count": 115,
   "id": "c87b503a-29a3-4e06-9528-c9d53d044761",
   "metadata": {},
   "outputs": [
    {
     "data": {
      "text/html": [
       "<div>\n",
       "<style scoped>\n",
       "    .dataframe tbody tr th:only-of-type {\n",
       "        vertical-align: middle;\n",
       "    }\n",
       "\n",
       "    .dataframe tbody tr th {\n",
       "        vertical-align: top;\n",
       "    }\n",
       "\n",
       "    .dataframe thead th {\n",
       "        text-align: right;\n",
       "    }\n",
       "</style>\n",
       "<table border=\"1\" class=\"dataframe\">\n",
       "  <thead>\n",
       "    <tr style=\"text-align: right;\">\n",
       "      <th></th>\n",
       "      <th>Converted</th>\n",
       "      <th>Convert_prob</th>\n",
       "      <th>Lead_ID</th>\n",
       "      <th>predicted</th>\n",
       "      <th>0.0</th>\n",
       "      <th>0.1</th>\n",
       "      <th>0.2</th>\n",
       "      <th>0.3</th>\n",
       "      <th>0.4</th>\n",
       "      <th>0.5</th>\n",
       "      <th>0.6</th>\n",
       "      <th>0.7</th>\n",
       "      <th>0.8</th>\n",
       "      <th>0.9</th>\n",
       "      <th>final_predicted</th>\n",
       "    </tr>\n",
       "  </thead>\n",
       "  <tbody>\n",
       "    <tr>\n",
       "      <th>0</th>\n",
       "      <td>0</td>\n",
       "      <td>0.826389</td>\n",
       "      <td>8174</td>\n",
       "      <td>1</td>\n",
       "      <td>1</td>\n",
       "      <td>1</td>\n",
       "      <td>1</td>\n",
       "      <td>1</td>\n",
       "      <td>1</td>\n",
       "      <td>1</td>\n",
       "      <td>1</td>\n",
       "      <td>1</td>\n",
       "      <td>1</td>\n",
       "      <td>0</td>\n",
       "      <td>1</td>\n",
       "    </tr>\n",
       "    <tr>\n",
       "      <th>1</th>\n",
       "      <td>1</td>\n",
       "      <td>0.720647</td>\n",
       "      <td>6986</td>\n",
       "      <td>1</td>\n",
       "      <td>1</td>\n",
       "      <td>1</td>\n",
       "      <td>1</td>\n",
       "      <td>1</td>\n",
       "      <td>1</td>\n",
       "      <td>1</td>\n",
       "      <td>1</td>\n",
       "      <td>1</td>\n",
       "      <td>0</td>\n",
       "      <td>0</td>\n",
       "      <td>1</td>\n",
       "    </tr>\n",
       "    <tr>\n",
       "      <th>2</th>\n",
       "      <td>1</td>\n",
       "      <td>0.957701</td>\n",
       "      <td>8112</td>\n",
       "      <td>1</td>\n",
       "      <td>1</td>\n",
       "      <td>1</td>\n",
       "      <td>1</td>\n",
       "      <td>1</td>\n",
       "      <td>1</td>\n",
       "      <td>1</td>\n",
       "      <td>1</td>\n",
       "      <td>1</td>\n",
       "      <td>1</td>\n",
       "      <td>1</td>\n",
       "      <td>1</td>\n",
       "    </tr>\n",
       "    <tr>\n",
       "      <th>3</th>\n",
       "      <td>0</td>\n",
       "      <td>0.208577</td>\n",
       "      <td>8530</td>\n",
       "      <td>0</td>\n",
       "      <td>1</td>\n",
       "      <td>1</td>\n",
       "      <td>1</td>\n",
       "      <td>0</td>\n",
       "      <td>0</td>\n",
       "      <td>0</td>\n",
       "      <td>0</td>\n",
       "      <td>0</td>\n",
       "      <td>0</td>\n",
       "      <td>0</td>\n",
       "      <td>0</td>\n",
       "    </tr>\n",
       "    <tr>\n",
       "      <th>4</th>\n",
       "      <td>0</td>\n",
       "      <td>0.307357</td>\n",
       "      <td>6444</td>\n",
       "      <td>0</td>\n",
       "      <td>1</td>\n",
       "      <td>1</td>\n",
       "      <td>1</td>\n",
       "      <td>1</td>\n",
       "      <td>0</td>\n",
       "      <td>0</td>\n",
       "      <td>0</td>\n",
       "      <td>0</td>\n",
       "      <td>0</td>\n",
       "      <td>0</td>\n",
       "      <td>1</td>\n",
       "    </tr>\n",
       "  </tbody>\n",
       "</table>\n",
       "</div>"
      ],
      "text/plain": [
       "   Converted  Convert_prob  Lead_ID  predicted  0.0  0.1  0.2  0.3  0.4  0.5  \\\n",
       "0          0      0.826389     8174          1    1    1    1    1    1    1   \n",
       "1          1      0.720647     6986          1    1    1    1    1    1    1   \n",
       "2          1      0.957701     8112          1    1    1    1    1    1    1   \n",
       "3          0      0.208577     8530          0    1    1    1    0    0    0   \n",
       "4          0      0.307357     6444          0    1    1    1    1    0    0   \n",
       "\n",
       "   0.6  0.7  0.8  0.9  final_predicted  \n",
       "0    1    1    1    0                1  \n",
       "1    1    1    0    0                1  \n",
       "2    1    1    1    1                1  \n",
       "3    0    0    0    0                0  \n",
       "4    0    0    0    0                1  "
      ]
     },
     "execution_count": 115,
     "metadata": {},
     "output_type": "execute_result"
    }
   ],
   "source": [
    "y_train_pred_final['final_predicted'] = y_train_pred_final.Convert_prob.map( lambda x: 1 if x > 0.3 else 0)\n",
    "\n",
    "y_train_pred_final.head()"
   ]
  },
  {
   "cell_type": "code",
   "execution_count": 116,
   "id": "faa2ada4-9360-46ce-bcfa-3a71d6b44573",
   "metadata": {},
   "outputs": [
    {
     "name": "stdout",
     "output_type": "stream",
     "text": [
      "accuracy\n",
      "0.7312234293811998\n"
     ]
    }
   ],
   "source": [
    "print('accuracy')\n",
    "print(metrics.accuracy_score(y_train_pred_final.Converted, y_train_pred_final.final_predicted))"
   ]
  },
  {
   "cell_type": "code",
   "execution_count": null,
   "id": "64fe38d4-0d9e-4a96-8db0-9c89209810d8",
   "metadata": {},
   "outputs": [],
   "source": []
  },
  {
   "cell_type": "code",
   "execution_count": 117,
   "id": "5153d2c4-b4f0-4363-b545-4f97c3bfb351",
   "metadata": {},
   "outputs": [
    {
     "data": {
      "text/plain": [
       "array([[2665, 1250],\n",
       "       [ 457, 1979]], dtype=int64)"
      ]
     },
     "execution_count": 117,
     "metadata": {},
     "output_type": "execute_result"
    }
   ],
   "source": [
    "confus = metrics.confusion_matrix(y_train_pred_final.Converted, y_train_pred_final.final_predicted )\n",
    "confus"
   ]
  },
  {
   "cell_type": "code",
   "execution_count": 118,
   "id": "ea53c4ba-76bb-444f-9d33-9c5771948198",
   "metadata": {},
   "outputs": [],
   "source": [
    "TP = confus[1,1] # true positive \n",
    "TN = confus[0,0] # true negatives\n",
    "FP = confus[0,1] # false positives\n",
    "FN = confus[1,0] # false negatives"
   ]
  },
  {
   "cell_type": "code",
   "execution_count": 119,
   "id": "8568fc7b-cd9b-44b6-86ef-ce3e3948c90b",
   "metadata": {},
   "outputs": [
    {
     "name": "stdout",
     "output_type": "stream",
     "text": [
      "sensitivity\n",
      "0.8123973727422004\n",
      "specificity\n",
      "0.6807151979565773\n",
      "ppr\n",
      "0.612883245586869\n",
      "npv\n",
      "0.8536194746957079\n"
     ]
    }
   ],
   "source": [
    "# sensitivity\n",
    "print('sensitivity')\n",
    "print(TP / float(TP+FN))\n",
    "\n",
    "# specificity\n",
    "print('specificity')\n",
    "print(TN / float(TN+FP))\n",
    "\n",
    "\n",
    "# positive predictive value\n",
    "print('ppr')\n",
    "print (TP / float(TP+FP))\n",
    "\n",
    "# Negative predictive value\n",
    "print('npv')\n",
    "print (TN / float(TN+ FN))\n",
    "\n",
    "\n",
    "\n",
    "\n"
   ]
  },
  {
   "cell_type": "code",
   "execution_count": null,
   "id": "33c0fd11-462f-49e6-a8c6-97683ff4dace",
   "metadata": {},
   "outputs": [],
   "source": []
  },
  {
   "cell_type": "code",
   "execution_count": 120,
   "id": "47788a58-4411-4ed4-a940-35c4bc051725",
   "metadata": {},
   "outputs": [
    {
     "name": "stdout",
     "output_type": "stream",
     "text": [
      "precision\n",
      "0.612883245586869\n"
     ]
    }
   ],
   "source": [
    "print('precision')\n",
    "print(confus[1,1]/(confus[0,1]+confus[1,1]))"
   ]
  },
  {
   "cell_type": "code",
   "execution_count": null,
   "id": "16c54ed1-57b7-4d8c-81a1-0e8be77367a7",
   "metadata": {},
   "outputs": [],
   "source": []
  },
  {
   "cell_type": "code",
   "execution_count": 121,
   "id": "cf936348-68f0-49b0-ba46-9d4255107e10",
   "metadata": {},
   "outputs": [
    {
     "name": "stdout",
     "output_type": "stream",
     "text": [
      "recall\n",
      "0.8123973727422004\n"
     ]
    }
   ],
   "source": [
    "print('recall')\n",
    "print(confus[1,1]/(confus[1,0]+confus[1,1]))"
   ]
  },
  {
   "cell_type": "code",
   "execution_count": null,
   "id": "b60562a9-38a0-4bc8-9633-9a01678ac03c",
   "metadata": {},
   "outputs": [],
   "source": []
  },
  {
   "cell_type": "markdown",
   "id": "4337613f-026e-4361-84fd-37be2e79c62f",
   "metadata": {},
   "source": [
    "Predictions on TEST set"
   ]
  },
  {
   "cell_type": "code",
   "execution_count": null,
   "id": "13fd7c1c-4556-4a6c-93ec-65dd62432af1",
   "metadata": {},
   "outputs": [],
   "source": []
  },
  {
   "cell_type": "code",
   "execution_count": 124,
   "id": "3be318ba-b345-4a92-93b7-d16d12849fed",
   "metadata": {},
   "outputs": [],
   "source": [
    "scaler=StandardScaler()\n",
    "x_train_scaled = scaler.fit_transform(x_train)\n",
    "x_test_scaled=scaler.transform(x_test)"
   ]
  },
  {
   "cell_type": "code",
   "execution_count": 125,
   "id": "f2af1fd1-a924-4d0b-8496-6e2b7bddc5ac",
   "metadata": {},
   "outputs": [
    {
     "data": {
      "text/html": [
       "<div>\n",
       "<style scoped>\n",
       "    .dataframe tbody tr th:only-of-type {\n",
       "        vertical-align: middle;\n",
       "    }\n",
       "\n",
       "    .dataframe tbody tr th {\n",
       "        vertical-align: top;\n",
       "    }\n",
       "\n",
       "    .dataframe thead th {\n",
       "        text-align: right;\n",
       "    }\n",
       "</style>\n",
       "<table border=\"1\" class=\"dataframe\">\n",
       "  <thead>\n",
       "    <tr style=\"text-align: right;\">\n",
       "      <th></th>\n",
       "      <th>Lead Origin</th>\n",
       "      <th>Lead Source</th>\n",
       "      <th>Do Not Email</th>\n",
       "      <th>Do Not Call</th>\n",
       "      <th>TotalVisits</th>\n",
       "      <th>Total Time Spent on Website</th>\n",
       "      <th>Page Views Per Visit</th>\n",
       "      <th>Last Activity</th>\n",
       "      <th>Country</th>\n",
       "      <th>Specialization</th>\n",
       "      <th>...</th>\n",
       "      <th>Digital Advertisement</th>\n",
       "      <th>Through Recommendations</th>\n",
       "      <th>Receive More Updates About Our Courses</th>\n",
       "      <th>Tags</th>\n",
       "      <th>Update me on Supply Chain Content</th>\n",
       "      <th>Get updates on DM Content</th>\n",
       "      <th>Lead Profile</th>\n",
       "      <th>City</th>\n",
       "      <th>A free copy of Mastering The Interview</th>\n",
       "      <th>Last Notable Activity</th>\n",
       "    </tr>\n",
       "  </thead>\n",
       "  <tbody>\n",
       "    <tr>\n",
       "      <th>3374</th>\n",
       "      <td>1</td>\n",
       "      <td>1</td>\n",
       "      <td>0</td>\n",
       "      <td>0</td>\n",
       "      <td>6.0</td>\n",
       "      <td>63</td>\n",
       "      <td>3.00</td>\n",
       "      <td>12</td>\n",
       "      <td>12</td>\n",
       "      <td>8</td>\n",
       "      <td>...</td>\n",
       "      <td>0</td>\n",
       "      <td>0</td>\n",
       "      <td>0</td>\n",
       "      <td>25</td>\n",
       "      <td>0</td>\n",
       "      <td>0</td>\n",
       "      <td>5</td>\n",
       "      <td>2</td>\n",
       "      <td>1</td>\n",
       "      <td>12</td>\n",
       "    </tr>\n",
       "    <tr>\n",
       "      <th>4262</th>\n",
       "      <td>0</td>\n",
       "      <td>6</td>\n",
       "      <td>0</td>\n",
       "      <td>0</td>\n",
       "      <td>0.0</td>\n",
       "      <td>0</td>\n",
       "      <td>0.00</td>\n",
       "      <td>5</td>\n",
       "      <td>37</td>\n",
       "      <td>18</td>\n",
       "      <td>...</td>\n",
       "      <td>0</td>\n",
       "      <td>0</td>\n",
       "      <td>0</td>\n",
       "      <td>25</td>\n",
       "      <td>0</td>\n",
       "      <td>0</td>\n",
       "      <td>5</td>\n",
       "      <td>6</td>\n",
       "      <td>0</td>\n",
       "      <td>4</td>\n",
       "    </tr>\n",
       "    <tr>\n",
       "      <th>7855</th>\n",
       "      <td>0</td>\n",
       "      <td>3</td>\n",
       "      <td>0</td>\n",
       "      <td>0</td>\n",
       "      <td>3.0</td>\n",
       "      <td>83</td>\n",
       "      <td>3.00</td>\n",
       "      <td>9</td>\n",
       "      <td>12</td>\n",
       "      <td>18</td>\n",
       "      <td>...</td>\n",
       "      <td>0</td>\n",
       "      <td>0</td>\n",
       "      <td>0</td>\n",
       "      <td>25</td>\n",
       "      <td>0</td>\n",
       "      <td>0</td>\n",
       "      <td>5</td>\n",
       "      <td>6</td>\n",
       "      <td>0</td>\n",
       "      <td>8</td>\n",
       "    </tr>\n",
       "    <tr>\n",
       "      <th>3017</th>\n",
       "      <td>1</td>\n",
       "      <td>3</td>\n",
       "      <td>0</td>\n",
       "      <td>0</td>\n",
       "      <td>4.0</td>\n",
       "      <td>1173</td>\n",
       "      <td>4.00</td>\n",
       "      <td>3</td>\n",
       "      <td>12</td>\n",
       "      <td>16</td>\n",
       "      <td>...</td>\n",
       "      <td>0</td>\n",
       "      <td>0</td>\n",
       "      <td>0</td>\n",
       "      <td>25</td>\n",
       "      <td>0</td>\n",
       "      <td>0</td>\n",
       "      <td>5</td>\n",
       "      <td>0</td>\n",
       "      <td>0</td>\n",
       "      <td>2</td>\n",
       "    </tr>\n",
       "    <tr>\n",
       "      <th>560</th>\n",
       "      <td>0</td>\n",
       "      <td>6</td>\n",
       "      <td>0</td>\n",
       "      <td>0</td>\n",
       "      <td>5.0</td>\n",
       "      <td>1387</td>\n",
       "      <td>1.67</td>\n",
       "      <td>5</td>\n",
       "      <td>12</td>\n",
       "      <td>0</td>\n",
       "      <td>...</td>\n",
       "      <td>0</td>\n",
       "      <td>0</td>\n",
       "      <td>0</td>\n",
       "      <td>19</td>\n",
       "      <td>0</td>\n",
       "      <td>0</td>\n",
       "      <td>3</td>\n",
       "      <td>4</td>\n",
       "      <td>1</td>\n",
       "      <td>4</td>\n",
       "    </tr>\n",
       "  </tbody>\n",
       "</table>\n",
       "<p>5 rows × 28 columns</p>\n",
       "</div>"
      ],
      "text/plain": [
       "      Lead Origin  Lead Source  Do Not Email  Do Not Call  TotalVisits  \\\n",
       "3374            1            1             0            0          6.0   \n",
       "4262            0            6             0            0          0.0   \n",
       "7855            0            3             0            0          3.0   \n",
       "3017            1            3             0            0          4.0   \n",
       "560             0            6             0            0          5.0   \n",
       "\n",
       "      Total Time Spent on Website  Page Views Per Visit  Last Activity  \\\n",
       "3374                           63                  3.00             12   \n",
       "4262                            0                  0.00              5   \n",
       "7855                           83                  3.00              9   \n",
       "3017                         1173                  4.00              3   \n",
       "560                          1387                  1.67              5   \n",
       "\n",
       "      Country  Specialization  ...  Digital Advertisement  \\\n",
       "3374       12               8  ...                      0   \n",
       "4262       37              18  ...                      0   \n",
       "7855       12              18  ...                      0   \n",
       "3017       12              16  ...                      0   \n",
       "560        12               0  ...                      0   \n",
       "\n",
       "      Through Recommendations  Receive More Updates About Our Courses  Tags  \\\n",
       "3374                        0                                       0    25   \n",
       "4262                        0                                       0    25   \n",
       "7855                        0                                       0    25   \n",
       "3017                        0                                       0    25   \n",
       "560                         0                                       0    19   \n",
       "\n",
       "      Update me on Supply Chain Content  Get updates on DM Content  \\\n",
       "3374                                  0                          0   \n",
       "4262                                  0                          0   \n",
       "7855                                  0                          0   \n",
       "3017                                  0                          0   \n",
       "560                                   0                          0   \n",
       "\n",
       "      Lead Profile  City  A free copy of Mastering The Interview  \\\n",
       "3374             5     2                                       1   \n",
       "4262             5     6                                       0   \n",
       "7855             5     6                                       0   \n",
       "3017             5     0                                       0   \n",
       "560              3     4                                       1   \n",
       "\n",
       "      Last Notable Activity  \n",
       "3374                     12  \n",
       "4262                      4  \n",
       "7855                      8  \n",
       "3017                      2  \n",
       "560                       4  \n",
       "\n",
       "[5 rows x 28 columns]"
      ]
     },
     "execution_count": 125,
     "metadata": {},
     "output_type": "execute_result"
    }
   ],
   "source": [
    "x_test.head()"
   ]
  },
  {
   "cell_type": "code",
   "execution_count": 142,
   "id": "db842c3d-0dbb-4265-ae6e-7a0aa317d106",
   "metadata": {},
   "outputs": [
    {
     "data": {
      "text/html": [
       "<style>#sk-container-id-2 {color: black;background-color: white;}#sk-container-id-2 pre{padding: 0;}#sk-container-id-2 div.sk-toggleable {background-color: white;}#sk-container-id-2 label.sk-toggleable__label {cursor: pointer;display: block;width: 100%;margin-bottom: 0;padding: 0.3em;box-sizing: border-box;text-align: center;}#sk-container-id-2 label.sk-toggleable__label-arrow:before {content: \"▸\";float: left;margin-right: 0.25em;color: #696969;}#sk-container-id-2 label.sk-toggleable__label-arrow:hover:before {color: black;}#sk-container-id-2 div.sk-estimator:hover label.sk-toggleable__label-arrow:before {color: black;}#sk-container-id-2 div.sk-toggleable__content {max-height: 0;max-width: 0;overflow: hidden;text-align: left;background-color: #f0f8ff;}#sk-container-id-2 div.sk-toggleable__content pre {margin: 0.2em;color: black;border-radius: 0.25em;background-color: #f0f8ff;}#sk-container-id-2 input.sk-toggleable__control:checked~div.sk-toggleable__content {max-height: 200px;max-width: 100%;overflow: auto;}#sk-container-id-2 input.sk-toggleable__control:checked~label.sk-toggleable__label-arrow:before {content: \"▾\";}#sk-container-id-2 div.sk-estimator input.sk-toggleable__control:checked~label.sk-toggleable__label {background-color: #d4ebff;}#sk-container-id-2 div.sk-label input.sk-toggleable__control:checked~label.sk-toggleable__label {background-color: #d4ebff;}#sk-container-id-2 input.sk-hidden--visually {border: 0;clip: rect(1px 1px 1px 1px);clip: rect(1px, 1px, 1px, 1px);height: 1px;margin: -1px;overflow: hidden;padding: 0;position: absolute;width: 1px;}#sk-container-id-2 div.sk-estimator {font-family: monospace;background-color: #f0f8ff;border: 1px dotted black;border-radius: 0.25em;box-sizing: border-box;margin-bottom: 0.5em;}#sk-container-id-2 div.sk-estimator:hover {background-color: #d4ebff;}#sk-container-id-2 div.sk-parallel-item::after {content: \"\";width: 100%;border-bottom: 1px solid gray;flex-grow: 1;}#sk-container-id-2 div.sk-label:hover label.sk-toggleable__label {background-color: #d4ebff;}#sk-container-id-2 div.sk-serial::before {content: \"\";position: absolute;border-left: 1px solid gray;box-sizing: border-box;top: 0;bottom: 0;left: 50%;z-index: 0;}#sk-container-id-2 div.sk-serial {display: flex;flex-direction: column;align-items: center;background-color: white;padding-right: 0.2em;padding-left: 0.2em;position: relative;}#sk-container-id-2 div.sk-item {position: relative;z-index: 1;}#sk-container-id-2 div.sk-parallel {display: flex;align-items: stretch;justify-content: center;background-color: white;position: relative;}#sk-container-id-2 div.sk-item::before, #sk-container-id-2 div.sk-parallel-item::before {content: \"\";position: absolute;border-left: 1px solid gray;box-sizing: border-box;top: 0;bottom: 0;left: 50%;z-index: -1;}#sk-container-id-2 div.sk-parallel-item {display: flex;flex-direction: column;z-index: 1;position: relative;background-color: white;}#sk-container-id-2 div.sk-parallel-item:first-child::after {align-self: flex-end;width: 50%;}#sk-container-id-2 div.sk-parallel-item:last-child::after {align-self: flex-start;width: 50%;}#sk-container-id-2 div.sk-parallel-item:only-child::after {width: 0;}#sk-container-id-2 div.sk-dashed-wrapped {border: 1px dashed gray;margin: 0 0.4em 0.5em 0.4em;box-sizing: border-box;padding-bottom: 0.4em;background-color: white;}#sk-container-id-2 div.sk-label label {font-family: monospace;font-weight: bold;display: inline-block;line-height: 1.2em;}#sk-container-id-2 div.sk-label-container {text-align: center;}#sk-container-id-2 div.sk-container {/* jupyter's `normalize.less` sets `[hidden] { display: none; }` but bootstrap.min.css set `[hidden] { display: none !important; }` so we also need the `!important` here to be able to override the default hidden behavior on the sphinx rendered scikit-learn.org. See: https://github.com/scikit-learn/scikit-learn/issues/21755 */display: inline-block !important;position: relative;}#sk-container-id-2 div.sk-text-repr-fallback {display: none;}</style><div id=\"sk-container-id-2\" class=\"sk-top-container\"><div class=\"sk-text-repr-fallback\"><pre>LogisticRegression(max_iter=250)</pre><b>In a Jupyter environment, please rerun this cell to show the HTML representation or trust the notebook. <br />On GitHub, the HTML representation is unable to render, please try loading this page with nbviewer.org.</b></div><div class=\"sk-container\" hidden><div class=\"sk-item\"><div class=\"sk-estimator sk-toggleable\"><input class=\"sk-toggleable__control sk-hidden--visually\" id=\"sk-estimator-id-2\" type=\"checkbox\" checked><label for=\"sk-estimator-id-2\" class=\"sk-toggleable__label sk-toggleable__label-arrow\">LogisticRegression</label><div class=\"sk-toggleable__content\"><pre>LogisticRegression(max_iter=250)</pre></div></div></div></div></div>"
      ],
      "text/plain": [
       "LogisticRegression(max_iter=250)"
      ]
     },
     "execution_count": 142,
     "metadata": {},
     "output_type": "execute_result"
    }
   ],
   "source": [
    "logreg.fit(x_train_scaled,y_train)"
   ]
  },
  {
   "cell_type": "code",
   "execution_count": 143,
   "id": "a2da0a56-1e4e-4239-93de-d741d3f51b49",
   "metadata": {},
   "outputs": [],
   "source": [
    "x_test_sm=sm.add_constant(x_test_scaled)"
   ]
  },
  {
   "cell_type": "code",
   "execution_count": 151,
   "id": "8d6183e3-3875-495b-a95e-f63370f294e3",
   "metadata": {},
   "outputs": [],
   "source": [
    "y_pred = logreg.predict(x_test_sm)"
   ]
  },
  {
   "cell_type": "code",
   "execution_count": 137,
   "id": "878887b4-05eb-488c-92d7-c0b13a1f4f3e",
   "metadata": {},
   "outputs": [
    {
     "data": {
      "text/plain": [
       "(6351, 28)"
      ]
     },
     "execution_count": 137,
     "metadata": {},
     "output_type": "execute_result"
    }
   ],
   "source": [
    "x_train.shape"
   ]
  },
  {
   "cell_type": "code",
   "execution_count": 138,
   "id": "4fc786d6-933c-480a-b550-c1b02015e4de",
   "metadata": {},
   "outputs": [
    {
     "data": {
      "text/plain": [
       "(2723, 28)"
      ]
     },
     "execution_count": 138,
     "metadata": {},
     "output_type": "execute_result"
    }
   ],
   "source": [
    "x_test.shape"
   ]
  },
  {
   "cell_type": "code",
   "execution_count": 139,
   "id": "7b66781a-38c9-4ffb-9706-dc06669283cb",
   "metadata": {},
   "outputs": [
    {
     "data": {
      "text/plain": [
       "(6351,)"
      ]
     },
     "execution_count": 139,
     "metadata": {},
     "output_type": "execute_result"
    }
   ],
   "source": [
    "y_train.shape"
   ]
  },
  {
   "cell_type": "code",
   "execution_count": 140,
   "id": "92a37e6f-d658-44ec-8dbf-f2cf013ce185",
   "metadata": {},
   "outputs": [
    {
     "data": {
      "text/plain": [
       "(2723,)"
      ]
     },
     "execution_count": 140,
     "metadata": {},
     "output_type": "execute_result"
    }
   ],
   "source": [
    "y_test.shape"
   ]
  },
  {
   "cell_type": "code",
   "execution_count": 152,
   "id": "c5c4fee0-cb2a-429c-aa79-57ede826dae4",
   "metadata": {},
   "outputs": [
    {
     "name": "stdout",
     "output_type": "stream",
     "text": [
      "Accuracy\n",
      "0.8141755416819684\n"
     ]
    }
   ],
   "source": [
    "print('Accuracy')\n",
    "print(accuracy_score(y_test,y_pred))\n"
   ]
  },
  {
   "cell_type": "code",
   "execution_count": null,
   "id": "612d1662-6686-47e9-b765-03cbc2e21eb1",
   "metadata": {},
   "outputs": [],
   "source": []
  },
  {
   "cell_type": "code",
   "execution_count": 154,
   "id": "b74fba7e-8945-46ea-9563-e1904c0d69ec",
   "metadata": {},
   "outputs": [
    {
     "name": "stdout",
     "output_type": "stream",
     "text": [
      "classification_report\n",
      "              precision    recall  f1-score   support\n",
      "\n",
      "           0       0.84      0.88      0.86      1724\n",
      "           1       0.77      0.70      0.73       999\n",
      "\n",
      "    accuracy                           0.81      2723\n",
      "   macro avg       0.80      0.79      0.80      2723\n",
      "weighted avg       0.81      0.81      0.81      2723\n",
      "\n"
     ]
    }
   ],
   "source": [
    "print('classification_report')\n",
    "print(classification_report(y_test, y_pred))"
   ]
  },
  {
   "cell_type": "code",
   "execution_count": null,
   "id": "7eaedd41-4eda-46cb-8075-07b351730e47",
   "metadata": {},
   "outputs": [],
   "source": []
  },
  {
   "cell_type": "code",
   "execution_count": 156,
   "id": "6e402701-262b-467b-9078-e0bf056c2529",
   "metadata": {},
   "outputs": [
    {
     "name": "stdout",
     "output_type": "stream",
     "text": [
      "Confusion Matric\n",
      "[[1517  207]\n",
      " [ 299  700]]\n"
     ]
    }
   ],
   "source": [
    "print('Confusion Matric')\n",
    "print(confusion_matrix(y_test, y_pred))"
   ]
  },
  {
   "cell_type": "code",
   "execution_count": null,
   "id": "8076778a-e245-48b4-bd1b-69ac91615636",
   "metadata": {},
   "outputs": [],
   "source": []
  },
  {
   "cell_type": "code",
   "execution_count": 157,
   "id": "a9e8f1fa-289b-49c6-8641-d2f18280b05f",
   "metadata": {},
   "outputs": [],
   "source": [
    "y_pred_prob = logreg.predict_proba(x_test_sm)[:, 1]"
   ]
  },
  {
   "cell_type": "code",
   "execution_count": null,
   "id": "ddec440d-914d-4757-befc-77075d1aacec",
   "metadata": {},
   "outputs": [],
   "source": []
  },
  {
   "cell_type": "code",
   "execution_count": 160,
   "id": "2b02a703-f51f-47e6-9f2e-e97b428969f0",
   "metadata": {},
   "outputs": [
    {
     "name": "stdout",
     "output_type": "stream",
     "text": [
      "Accuracy\n",
      "0.8141755416819684\n",
      "Precision\n",
      "0.7717750826901875\n",
      "Recall\n",
      "0.7007007007007007\n"
     ]
    }
   ],
   "source": [
    "print(\"Accuracy\")\n",
    "print(accuracy_score(y_test, y_pred))\n",
    "\n",
    "print(\"Precision\")\n",
    "print(precision_score(y_test, y_pred))\n",
    "\n",
    "print(\"Recall\")\n",
    "print(recall_score(y_test, y_pred))\n"
   ]
  },
  {
   "cell_type": "code",
   "execution_count": null,
   "id": "fd4a3249-ae5d-442f-9af7-6233b86e50c5",
   "metadata": {},
   "outputs": [],
   "source": []
  },
  {
   "cell_type": "markdown",
   "id": "d0786e1f-9b9d-43ce-ada4-8db79b1a8990",
   "metadata": {},
   "source": [
    "I got train data set accuracy of around 73% and the test data accuracy of 81%"
   ]
  },
  {
   "cell_type": "code",
   "execution_count": 162,
   "id": "d8cfc205-0ecf-4aee-8d36-57de4632b634",
   "metadata": {},
   "outputs": [
    {
     "name": "stdout",
     "output_type": "stream",
     "text": [
      "              precision    recall  f1-score   support\n",
      "\n",
      "           0       0.84      0.88      0.86      1724\n",
      "           1       0.77      0.70      0.73       999\n",
      "\n",
      "    accuracy                           0.81      2723\n",
      "   macro avg       0.80      0.79      0.80      2723\n",
      "weighted avg       0.81      0.81      0.81      2723\n",
      "\n"
     ]
    }
   ],
   "source": [
    "print (classification_report(y_test, y_pred))\n"
   ]
  },
  {
   "cell_type": "code",
   "execution_count": 161,
   "id": "b875327d-75d8-4c4c-81a2-5dcf879b707c",
   "metadata": {},
   "outputs": [
    {
     "name": "stdout",
     "output_type": "stream",
     "text": [
      "Cross-validation accuracy: 0.7950138652233469\n"
     ]
    }
   ],
   "source": [
    "from sklearn.model_selection import cross_val_score\n",
    "scores = cross_val_score(logreg, x, y, cv=5, scoring='accuracy')\n",
    "print(\"Cross-validation accuracy:\", scores.mean())\n"
   ]
  },
  {
   "cell_type": "markdown",
   "id": "b7e4ce6e-9cc2-4550-8f32-aef5876af9e2",
   "metadata": {},
   "source": [
    "assigning the lead_score... here high converted probability gets high lead score  "
   ]
  },
  {
   "cell_type": "code",
   "execution_count": 164,
   "id": "40212b64-260b-4073-b646-c5b58785bdd5",
   "metadata": {},
   "outputs": [
    {
     "data": {
      "text/html": [
       "<div>\n",
       "<style scoped>\n",
       "    .dataframe tbody tr th:only-of-type {\n",
       "        vertical-align: middle;\n",
       "    }\n",
       "\n",
       "    .dataframe tbody tr th {\n",
       "        vertical-align: top;\n",
       "    }\n",
       "\n",
       "    .dataframe thead th {\n",
       "        text-align: right;\n",
       "    }\n",
       "</style>\n",
       "<table border=\"1\" class=\"dataframe\">\n",
       "  <thead>\n",
       "    <tr style=\"text-align: right;\">\n",
       "      <th></th>\n",
       "      <th>Converted</th>\n",
       "      <th>Convert_prob</th>\n",
       "      <th>Lead_ID</th>\n",
       "      <th>predicted</th>\n",
       "      <th>0.0</th>\n",
       "      <th>0.1</th>\n",
       "      <th>0.2</th>\n",
       "      <th>0.3</th>\n",
       "      <th>0.4</th>\n",
       "      <th>0.5</th>\n",
       "      <th>0.6</th>\n",
       "      <th>0.7</th>\n",
       "      <th>0.8</th>\n",
       "      <th>0.9</th>\n",
       "      <th>final_predicted</th>\n",
       "      <th>Lead_Score</th>\n",
       "    </tr>\n",
       "  </thead>\n",
       "  <tbody>\n",
       "    <tr>\n",
       "      <th>0</th>\n",
       "      <td>0</td>\n",
       "      <td>0.826389</td>\n",
       "      <td>8174</td>\n",
       "      <td>1</td>\n",
       "      <td>1</td>\n",
       "      <td>1</td>\n",
       "      <td>1</td>\n",
       "      <td>1</td>\n",
       "      <td>1</td>\n",
       "      <td>1</td>\n",
       "      <td>1</td>\n",
       "      <td>1</td>\n",
       "      <td>1</td>\n",
       "      <td>0</td>\n",
       "      <td>1</td>\n",
       "      <td>83</td>\n",
       "    </tr>\n",
       "    <tr>\n",
       "      <th>1</th>\n",
       "      <td>1</td>\n",
       "      <td>0.720647</td>\n",
       "      <td>6986</td>\n",
       "      <td>1</td>\n",
       "      <td>1</td>\n",
       "      <td>1</td>\n",
       "      <td>1</td>\n",
       "      <td>1</td>\n",
       "      <td>1</td>\n",
       "      <td>1</td>\n",
       "      <td>1</td>\n",
       "      <td>1</td>\n",
       "      <td>0</td>\n",
       "      <td>0</td>\n",
       "      <td>1</td>\n",
       "      <td>72</td>\n",
       "    </tr>\n",
       "    <tr>\n",
       "      <th>2</th>\n",
       "      <td>1</td>\n",
       "      <td>0.957701</td>\n",
       "      <td>8112</td>\n",
       "      <td>1</td>\n",
       "      <td>1</td>\n",
       "      <td>1</td>\n",
       "      <td>1</td>\n",
       "      <td>1</td>\n",
       "      <td>1</td>\n",
       "      <td>1</td>\n",
       "      <td>1</td>\n",
       "      <td>1</td>\n",
       "      <td>1</td>\n",
       "      <td>1</td>\n",
       "      <td>1</td>\n",
       "      <td>96</td>\n",
       "    </tr>\n",
       "    <tr>\n",
       "      <th>3</th>\n",
       "      <td>0</td>\n",
       "      <td>0.208577</td>\n",
       "      <td>8530</td>\n",
       "      <td>0</td>\n",
       "      <td>1</td>\n",
       "      <td>1</td>\n",
       "      <td>1</td>\n",
       "      <td>0</td>\n",
       "      <td>0</td>\n",
       "      <td>0</td>\n",
       "      <td>0</td>\n",
       "      <td>0</td>\n",
       "      <td>0</td>\n",
       "      <td>0</td>\n",
       "      <td>0</td>\n",
       "      <td>21</td>\n",
       "    </tr>\n",
       "    <tr>\n",
       "      <th>4</th>\n",
       "      <td>0</td>\n",
       "      <td>0.307357</td>\n",
       "      <td>6444</td>\n",
       "      <td>0</td>\n",
       "      <td>1</td>\n",
       "      <td>1</td>\n",
       "      <td>1</td>\n",
       "      <td>1</td>\n",
       "      <td>0</td>\n",
       "      <td>0</td>\n",
       "      <td>0</td>\n",
       "      <td>0</td>\n",
       "      <td>0</td>\n",
       "      <td>0</td>\n",
       "      <td>1</td>\n",
       "      <td>31</td>\n",
       "    </tr>\n",
       "  </tbody>\n",
       "</table>\n",
       "</div>"
      ],
      "text/plain": [
       "   Converted  Convert_prob  Lead_ID  predicted  0.0  0.1  0.2  0.3  0.4  0.5  \\\n",
       "0          0      0.826389     8174          1    1    1    1    1    1    1   \n",
       "1          1      0.720647     6986          1    1    1    1    1    1    1   \n",
       "2          1      0.957701     8112          1    1    1    1    1    1    1   \n",
       "3          0      0.208577     8530          0    1    1    1    0    0    0   \n",
       "4          0      0.307357     6444          0    1    1    1    1    0    0   \n",
       "\n",
       "   0.6  0.7  0.8  0.9  final_predicted  Lead_Score  \n",
       "0    1    1    1    0                1          83  \n",
       "1    1    1    0    0                1          72  \n",
       "2    1    1    1    1                1          96  \n",
       "3    0    0    0    0                0          21  \n",
       "4    0    0    0    0                1          31  "
      ]
     },
     "execution_count": 164,
     "metadata": {},
     "output_type": "execute_result"
    }
   ],
   "source": [
    "y_train_pred_final['Lead_Score'] = y_train_pred_final.Convert_prob.map( lambda x: round(x*100))\n",
    "\n",
    "y_train_pred_final.head()"
   ]
  },
  {
   "cell_type": "code",
   "execution_count": null,
   "id": "cee31885-964b-4357-bdc3-168bb14a44d9",
   "metadata": {},
   "outputs": [],
   "source": []
  },
  {
   "cell_type": "code",
   "execution_count": null,
   "id": "a1935ba5-86b3-4d71-8d0d-f874e39108c8",
   "metadata": {},
   "outputs": [],
   "source": [
    "\n"
   ]
  },
  {
   "cell_type": "code",
   "execution_count": null,
   "id": "563c54f9-ec57-469e-a630-dd3a3562e640",
   "metadata": {},
   "outputs": [],
   "source": []
  },
  {
   "cell_type": "code",
   "execution_count": null,
   "id": "a93016a3-c9c9-4ef9-a76b-169891ad7451",
   "metadata": {},
   "outputs": [],
   "source": []
  },
  {
   "cell_type": "code",
   "execution_count": null,
   "id": "cedf9eb3-525c-480d-bc4f-59aaa0e339ff",
   "metadata": {},
   "outputs": [],
   "source": []
  },
  {
   "cell_type": "code",
   "execution_count": null,
   "id": "7e550160-e0b4-4ad5-8437-01548dd641c9",
   "metadata": {},
   "outputs": [],
   "source": []
  },
  {
   "cell_type": "code",
   "execution_count": null,
   "id": "a822ff6f-1fd5-46b3-aba8-023b4f507459",
   "metadata": {},
   "outputs": [],
   "source": []
  },
  {
   "cell_type": "code",
   "execution_count": null,
   "id": "54ab81d2-bc1c-4525-84cd-292bcccf5246",
   "metadata": {},
   "outputs": [],
   "source": []
  },
  {
   "cell_type": "code",
   "execution_count": null,
   "id": "b036fb97-1a3a-4756-9c6d-9b581d29bf6d",
   "metadata": {},
   "outputs": [],
   "source": []
  },
  {
   "cell_type": "code",
   "execution_count": null,
   "id": "ad6ec923-e483-4e75-8c54-386616a2bf5e",
   "metadata": {},
   "outputs": [],
   "source": []
  },
  {
   "cell_type": "code",
   "execution_count": null,
   "id": "cc40d0b3-9f24-436d-9d00-588d02d8d400",
   "metadata": {},
   "outputs": [],
   "source": []
  },
  {
   "cell_type": "code",
   "execution_count": null,
   "id": "5c696290-1c9b-4962-9bb5-5b01d6902afc",
   "metadata": {},
   "outputs": [],
   "source": []
  },
  {
   "cell_type": "code",
   "execution_count": null,
   "id": "ec461f44-ecae-4a82-9735-dbf7caa095bf",
   "metadata": {},
   "outputs": [],
   "source": []
  },
  {
   "cell_type": "code",
   "execution_count": null,
   "id": "44e41747-7400-4aa7-ae73-063d0c48804a",
   "metadata": {},
   "outputs": [],
   "source": []
  },
  {
   "cell_type": "code",
   "execution_count": null,
   "id": "d4ef6a24-69c8-42a8-bd05-64f71535092a",
   "metadata": {},
   "outputs": [],
   "source": []
  },
  {
   "cell_type": "code",
   "execution_count": null,
   "id": "c576ec97-b9a8-4549-b9c2-00ce14a53bae",
   "metadata": {},
   "outputs": [],
   "source": []
  },
  {
   "cell_type": "code",
   "execution_count": null,
   "id": "bba5384c-8c4e-4502-99d0-3df3b6747ad2",
   "metadata": {},
   "outputs": [],
   "source": []
  },
  {
   "cell_type": "code",
   "execution_count": null,
   "id": "9e4ade25-3dc3-47e6-a5dc-f09d9abaaaf7",
   "metadata": {},
   "outputs": [],
   "source": []
  },
  {
   "cell_type": "code",
   "execution_count": null,
   "id": "2653bfa0-88c9-433c-aee4-afc604cee54a",
   "metadata": {},
   "outputs": [],
   "source": []
  },
  {
   "cell_type": "code",
   "execution_count": null,
   "id": "fdcceace-77d2-41f2-a8bc-7dd045316050",
   "metadata": {},
   "outputs": [],
   "source": []
  },
  {
   "cell_type": "code",
   "execution_count": null,
   "id": "c60eb7de-d8eb-44c8-90b7-8e913385cf6f",
   "metadata": {},
   "outputs": [],
   "source": []
  },
  {
   "cell_type": "code",
   "execution_count": null,
   "id": "7949931d-bcf3-4266-b093-21e1542b24f2",
   "metadata": {},
   "outputs": [],
   "source": []
  },
  {
   "cell_type": "code",
   "execution_count": null,
   "id": "17955fa1-5178-423f-a72a-8451b37003cd",
   "metadata": {},
   "outputs": [],
   "source": []
  },
  {
   "cell_type": "code",
   "execution_count": null,
   "id": "aa02ba9e-9682-4cec-984d-4b4e432eabc2",
   "metadata": {},
   "outputs": [],
   "source": []
  },
  {
   "cell_type": "code",
   "execution_count": null,
   "id": "14ad9b8c-d778-4a02-92bb-648ab17f947a",
   "metadata": {},
   "outputs": [],
   "source": []
  },
  {
   "cell_type": "code",
   "execution_count": null,
   "id": "7eeebc9a-356c-411e-bcb0-37e17f8b46b2",
   "metadata": {},
   "outputs": [],
   "source": []
  },
  {
   "cell_type": "code",
   "execution_count": null,
   "id": "90369622-e701-42d3-9b16-c085d0946de2",
   "metadata": {},
   "outputs": [],
   "source": []
  },
  {
   "cell_type": "code",
   "execution_count": null,
   "id": "a14509b2-0f70-4d98-b90a-9c6713ac0136",
   "metadata": {},
   "outputs": [],
   "source": []
  },
  {
   "cell_type": "code",
   "execution_count": null,
   "id": "51635ce6-f9e8-4d71-a2f2-f9e38f1d2401",
   "metadata": {},
   "outputs": [],
   "source": []
  },
  {
   "cell_type": "code",
   "execution_count": null,
   "id": "b278284c-a3a3-4992-9ec1-66b7823bf05a",
   "metadata": {},
   "outputs": [],
   "source": []
  },
  {
   "cell_type": "code",
   "execution_count": null,
   "id": "7a5632f9-35a5-4635-89d2-f33a51d7d1a1",
   "metadata": {},
   "outputs": [],
   "source": []
  },
  {
   "cell_type": "code",
   "execution_count": null,
   "id": "458fb083-691c-467c-921d-bf4309da3ec7",
   "metadata": {},
   "outputs": [],
   "source": []
  },
  {
   "cell_type": "code",
   "execution_count": null,
   "id": "75763e5d-0c66-4bd0-b69b-18c1194692f8",
   "metadata": {},
   "outputs": [],
   "source": []
  },
  {
   "cell_type": "code",
   "execution_count": null,
   "id": "ff91d44e-cf83-452d-87d2-e2916943cd9c",
   "metadata": {},
   "outputs": [],
   "source": []
  },
  {
   "cell_type": "code",
   "execution_count": null,
   "id": "3ce2ad1f-cfc8-4b89-ac28-fbc02cf588be",
   "metadata": {},
   "outputs": [],
   "source": []
  },
  {
   "cell_type": "code",
   "execution_count": null,
   "id": "03b4d391-4c86-4918-bb57-424294e2bdf2",
   "metadata": {},
   "outputs": [],
   "source": []
  },
  {
   "cell_type": "code",
   "execution_count": null,
   "id": "66426c96-2df4-4928-a28f-5d8271594a09",
   "metadata": {},
   "outputs": [],
   "source": []
  },
  {
   "cell_type": "code",
   "execution_count": null,
   "id": "73ad1dd2-f90b-4cbc-aff4-d0aa3d2c8aa8",
   "metadata": {},
   "outputs": [],
   "source": []
  },
  {
   "cell_type": "code",
   "execution_count": null,
   "id": "3e73a3f6-4a42-4a42-9ae1-e02c1add37b2",
   "metadata": {},
   "outputs": [],
   "source": []
  },
  {
   "cell_type": "code",
   "execution_count": null,
   "id": "767b39c5-aceb-4412-855b-137f9384726c",
   "metadata": {},
   "outputs": [],
   "source": []
  },
  {
   "cell_type": "code",
   "execution_count": null,
   "id": "e542624e-22ff-4f7e-a745-8d5e07ff419d",
   "metadata": {},
   "outputs": [],
   "source": []
  },
  {
   "cell_type": "code",
   "execution_count": null,
   "id": "9a19d9f8-3d31-4ede-a1ad-25e3c2de2a24",
   "metadata": {},
   "outputs": [],
   "source": []
  },
  {
   "cell_type": "code",
   "execution_count": null,
   "id": "030066a5-5160-495f-a1db-e5692cedf679",
   "metadata": {},
   "outputs": [],
   "source": []
  },
  {
   "cell_type": "code",
   "execution_count": null,
   "id": "129c9a80-69a5-468f-ada7-7c024a9d16f3",
   "metadata": {},
   "outputs": [],
   "source": []
  },
  {
   "cell_type": "code",
   "execution_count": null,
   "id": "90fe5170-ed2b-4ecb-91a0-b4c90cfc56ab",
   "metadata": {},
   "outputs": [],
   "source": []
  },
  {
   "cell_type": "code",
   "execution_count": null,
   "id": "038f233a-8100-4c22-88dd-760dcb7ecd59",
   "metadata": {},
   "outputs": [],
   "source": []
  },
  {
   "cell_type": "code",
   "execution_count": null,
   "id": "3b608ab0-9389-4580-96d7-cab1fdc4554a",
   "metadata": {},
   "outputs": [],
   "source": []
  },
  {
   "cell_type": "code",
   "execution_count": null,
   "id": "3fbe90f5-d04f-4052-9125-ee4de4db00a4",
   "metadata": {},
   "outputs": [],
   "source": []
  },
  {
   "cell_type": "code",
   "execution_count": null,
   "id": "2e3930c9-54cc-4a1f-8f9d-ec8479cf2c48",
   "metadata": {},
   "outputs": [],
   "source": []
  },
  {
   "cell_type": "code",
   "execution_count": null,
   "id": "25d8ce5f-70dd-4a5e-998a-0e8502a9753a",
   "metadata": {},
   "outputs": [],
   "source": []
  },
  {
   "cell_type": "code",
   "execution_count": null,
   "id": "15bae725-5537-4eb2-829b-ad721c7401db",
   "metadata": {},
   "outputs": [],
   "source": []
  },
  {
   "cell_type": "code",
   "execution_count": null,
   "id": "144b0b3a-5369-4cbe-956f-5e759d03e96c",
   "metadata": {},
   "outputs": [],
   "source": []
  },
  {
   "cell_type": "code",
   "execution_count": null,
   "id": "6e49af52-15b9-43c4-a132-dc9c2050b3a3",
   "metadata": {},
   "outputs": [],
   "source": []
  },
  {
   "cell_type": "code",
   "execution_count": null,
   "id": "20135ec4-12b8-4e10-a58b-b13cbf28327d",
   "metadata": {},
   "outputs": [],
   "source": []
  },
  {
   "cell_type": "code",
   "execution_count": null,
   "id": "aba37d23-00de-43dd-b94d-fab7d00acaef",
   "metadata": {},
   "outputs": [],
   "source": []
  },
  {
   "cell_type": "code",
   "execution_count": null,
   "id": "44849412-cf05-46c5-ba9c-35f8665d2a4c",
   "metadata": {},
   "outputs": [],
   "source": []
  },
  {
   "cell_type": "code",
   "execution_count": null,
   "id": "b7109703-ea21-4d9d-8dd8-1d03d9288f63",
   "metadata": {},
   "outputs": [],
   "source": []
  },
  {
   "cell_type": "code",
   "execution_count": null,
   "id": "0f4c39e9-eefd-4635-aac7-60602b1d3261",
   "metadata": {},
   "outputs": [],
   "source": []
  },
  {
   "cell_type": "code",
   "execution_count": null,
   "id": "adbe6095-f813-4f1a-85e1-7a1fa4b69c03",
   "metadata": {},
   "outputs": [],
   "source": []
  },
  {
   "cell_type": "code",
   "execution_count": null,
   "id": "f84bb207-7c9a-4307-aa39-de1a18a53637",
   "metadata": {},
   "outputs": [],
   "source": []
  },
  {
   "cell_type": "code",
   "execution_count": null,
   "id": "fe00655f-a1bf-4c57-9d36-bff5a20e85d8",
   "metadata": {},
   "outputs": [],
   "source": []
  },
  {
   "cell_type": "code",
   "execution_count": null,
   "id": "bff45afa-6cfc-4624-8215-f84de27f1c6a",
   "metadata": {},
   "outputs": [],
   "source": []
  },
  {
   "cell_type": "code",
   "execution_count": null,
   "id": "9a00e0ae-5d44-416b-97fa-c52f21b0e6d6",
   "metadata": {},
   "outputs": [],
   "source": []
  },
  {
   "cell_type": "code",
   "execution_count": null,
   "id": "0589724c-4a6c-40c5-8f3e-562573587c46",
   "metadata": {},
   "outputs": [],
   "source": []
  },
  {
   "cell_type": "code",
   "execution_count": null,
   "id": "f68ded23-c07c-45ce-aae1-efdfc81b66bd",
   "metadata": {},
   "outputs": [],
   "source": []
  },
  {
   "cell_type": "code",
   "execution_count": null,
   "id": "23de1dcd-0351-48b9-864a-a34066713a37",
   "metadata": {},
   "outputs": [],
   "source": []
  },
  {
   "cell_type": "code",
   "execution_count": null,
   "id": "6a130cde-c22a-4eb8-8c99-3fdc81cb561b",
   "metadata": {},
   "outputs": [],
   "source": []
  },
  {
   "cell_type": "code",
   "execution_count": null,
   "id": "1504257d-450f-4c12-ba1d-93d750ec090f",
   "metadata": {},
   "outputs": [],
   "source": []
  },
  {
   "cell_type": "code",
   "execution_count": null,
   "id": "f21fa9b3-f19d-48da-92c9-b30ca1ecdac7",
   "metadata": {},
   "outputs": [],
   "source": []
  },
  {
   "cell_type": "code",
   "execution_count": null,
   "id": "9dded0d4-48ee-4367-94c5-0dad8841e29b",
   "metadata": {},
   "outputs": [],
   "source": []
  },
  {
   "cell_type": "code",
   "execution_count": null,
   "id": "015c1d6d-17f9-4660-adc2-f249222f5d4f",
   "metadata": {},
   "outputs": [],
   "source": []
  },
  {
   "cell_type": "code",
   "execution_count": null,
   "id": "37569a02-38d1-4514-8f49-2593ed573fb0",
   "metadata": {},
   "outputs": [],
   "source": []
  },
  {
   "cell_type": "code",
   "execution_count": null,
   "id": "30d27617-3769-400a-b038-6184fc174e1f",
   "metadata": {},
   "outputs": [],
   "source": []
  },
  {
   "cell_type": "code",
   "execution_count": null,
   "id": "61ac1196-2c30-4dcc-842b-940b658e6913",
   "metadata": {},
   "outputs": [],
   "source": []
  },
  {
   "cell_type": "code",
   "execution_count": null,
   "id": "2e9ce92b-84fb-448d-a45b-fe4b40eb6ec2",
   "metadata": {},
   "outputs": [],
   "source": []
  },
  {
   "cell_type": "code",
   "execution_count": null,
   "id": "9a10e28b-d392-423a-a9c7-de46c8119192",
   "metadata": {},
   "outputs": [],
   "source": []
  },
  {
   "cell_type": "code",
   "execution_count": null,
   "id": "6e64cc3c-1520-4f03-8925-f81ae369fee6",
   "metadata": {},
   "outputs": [],
   "source": []
  },
  {
   "cell_type": "code",
   "execution_count": null,
   "id": "9c2ba910-5f89-4556-a2f7-7bcf80fd1650",
   "metadata": {},
   "outputs": [],
   "source": []
  },
  {
   "cell_type": "code",
   "execution_count": null,
   "id": "9e11c920-b95b-401f-878b-b4d2a904a66e",
   "metadata": {},
   "outputs": [],
   "source": []
  },
  {
   "cell_type": "code",
   "execution_count": null,
   "id": "7200d632-0596-49b5-a30c-00c9865366f3",
   "metadata": {},
   "outputs": [],
   "source": []
  },
  {
   "cell_type": "code",
   "execution_count": null,
   "id": "0eee6bea-231e-47f9-8027-8380f676f8a5",
   "metadata": {},
   "outputs": [],
   "source": []
  },
  {
   "cell_type": "code",
   "execution_count": null,
   "id": "0bb9d509-acd4-4910-8c25-ad9f3dbf86ff",
   "metadata": {},
   "outputs": [],
   "source": []
  },
  {
   "cell_type": "code",
   "execution_count": null,
   "id": "5ab3099b-fb75-4336-a83a-273c3455005b",
   "metadata": {},
   "outputs": [],
   "source": []
  },
  {
   "cell_type": "code",
   "execution_count": null,
   "id": "e834b29d-9323-469c-aca0-7da42046cadb",
   "metadata": {},
   "outputs": [],
   "source": []
  },
  {
   "cell_type": "code",
   "execution_count": null,
   "id": "1662f918-d4e6-4885-a112-3cbd258a6da3",
   "metadata": {},
   "outputs": [],
   "source": []
  },
  {
   "cell_type": "code",
   "execution_count": null,
   "id": "98621510-8e13-48f9-903a-8db039d39464",
   "metadata": {},
   "outputs": [],
   "source": []
  },
  {
   "cell_type": "code",
   "execution_count": null,
   "id": "87114e8d-0301-43a5-9f5e-80e02eed9f90",
   "metadata": {},
   "outputs": [],
   "source": []
  },
  {
   "cell_type": "code",
   "execution_count": null,
   "id": "4004d189-dd42-4a71-a807-44f85c58f1d1",
   "metadata": {},
   "outputs": [],
   "source": []
  },
  {
   "cell_type": "code",
   "execution_count": null,
   "id": "c7030e91-0d2e-4ef2-8257-f1ab588aa0e1",
   "metadata": {},
   "outputs": [],
   "source": []
  },
  {
   "cell_type": "code",
   "execution_count": null,
   "id": "1e6794d3-708d-4fe0-97ef-cc3b93305fca",
   "metadata": {},
   "outputs": [],
   "source": []
  },
  {
   "cell_type": "code",
   "execution_count": null,
   "id": "6788ccc2-b7cf-4b60-bd32-d4f1ebf35676",
   "metadata": {},
   "outputs": [],
   "source": []
  },
  {
   "cell_type": "code",
   "execution_count": null,
   "id": "3177e558-d33c-4180-9497-7dc128acf378",
   "metadata": {},
   "outputs": [],
   "source": []
  },
  {
   "cell_type": "code",
   "execution_count": null,
   "id": "e69ef2a3-02d4-46d8-aef8-91f7f245dd95",
   "metadata": {},
   "outputs": [],
   "source": []
  },
  {
   "cell_type": "code",
   "execution_count": null,
   "id": "b6dbc840-d4a4-4b2e-9641-99808a2cd5fb",
   "metadata": {},
   "outputs": [],
   "source": []
  },
  {
   "cell_type": "code",
   "execution_count": null,
   "id": "99316ddd-00a6-4812-97a6-87879a242124",
   "metadata": {},
   "outputs": [],
   "source": []
  },
  {
   "cell_type": "code",
   "execution_count": null,
   "id": "57e808ff-1552-4ff5-84c5-55d83dd62273",
   "metadata": {},
   "outputs": [],
   "source": []
  },
  {
   "cell_type": "code",
   "execution_count": null,
   "id": "30c2e5f1-e6c8-4959-9a54-93d6e73802cb",
   "metadata": {},
   "outputs": [],
   "source": []
  },
  {
   "cell_type": "code",
   "execution_count": null,
   "id": "dcc6eca6-2124-4826-8f78-54cd34f00b34",
   "metadata": {},
   "outputs": [],
   "source": []
  },
  {
   "cell_type": "code",
   "execution_count": null,
   "id": "119f11e9-5596-423a-8729-d81a8dba82d0",
   "metadata": {},
   "outputs": [],
   "source": []
  },
  {
   "cell_type": "code",
   "execution_count": null,
   "id": "660fb81c-ba74-4d35-8c4e-c93a1527e1ed",
   "metadata": {},
   "outputs": [],
   "source": []
  },
  {
   "cell_type": "code",
   "execution_count": null,
   "id": "5ff05f70-9070-471d-b6ef-4783613a28b0",
   "metadata": {},
   "outputs": [],
   "source": []
  },
  {
   "cell_type": "code",
   "execution_count": null,
   "id": "3c893701-e059-492b-9d00-3839a604e8cb",
   "metadata": {},
   "outputs": [],
   "source": []
  },
  {
   "cell_type": "code",
   "execution_count": null,
   "id": "b30a46cf-9090-4229-bb1f-d9b07ba9a7fc",
   "metadata": {},
   "outputs": [],
   "source": []
  },
  {
   "cell_type": "code",
   "execution_count": null,
   "id": "385a1815-9282-4014-86ab-34ec379b759c",
   "metadata": {},
   "outputs": [],
   "source": []
  },
  {
   "cell_type": "code",
   "execution_count": null,
   "id": "234de9d4-0569-4429-9821-b077edd6c2ed",
   "metadata": {},
   "outputs": [],
   "source": []
  },
  {
   "cell_type": "code",
   "execution_count": null,
   "id": "7887d156-3761-4d87-b713-963d2e96a175",
   "metadata": {},
   "outputs": [],
   "source": []
  },
  {
   "cell_type": "code",
   "execution_count": null,
   "id": "9a96e11b-ee4b-4a60-8f79-9ffe012d478c",
   "metadata": {},
   "outputs": [],
   "source": []
  },
  {
   "cell_type": "code",
   "execution_count": null,
   "id": "6f82aec8-9ec6-4426-873f-cc6f817c21d3",
   "metadata": {},
   "outputs": [],
   "source": []
  },
  {
   "cell_type": "code",
   "execution_count": null,
   "id": "6102c87c-46ea-4753-aef2-094c9b545b04",
   "metadata": {},
   "outputs": [],
   "source": []
  },
  {
   "cell_type": "code",
   "execution_count": null,
   "id": "1f3c7633-909e-48b1-9086-287207ec424d",
   "metadata": {},
   "outputs": [],
   "source": []
  },
  {
   "cell_type": "code",
   "execution_count": null,
   "id": "35c41ca6-432e-4287-9bf1-02d11b213d8a",
   "metadata": {},
   "outputs": [],
   "source": []
  },
  {
   "cell_type": "code",
   "execution_count": null,
   "id": "3b51d52d-0aa6-4ddb-82e4-ad4798c6986b",
   "metadata": {},
   "outputs": [],
   "source": []
  },
  {
   "cell_type": "code",
   "execution_count": null,
   "id": "5ff6fe50-f873-4e3e-b8c2-6df0cf69f17d",
   "metadata": {},
   "outputs": [],
   "source": []
  },
  {
   "cell_type": "code",
   "execution_count": null,
   "id": "97885c4f-c339-4488-aea5-7acafbfb7385",
   "metadata": {},
   "outputs": [],
   "source": []
  },
  {
   "cell_type": "code",
   "execution_count": null,
   "id": "667d19c7-b616-43d3-9798-6ba99cccadef",
   "metadata": {},
   "outputs": [],
   "source": []
  },
  {
   "cell_type": "code",
   "execution_count": null,
   "id": "e6bf957b-296e-4d03-916a-ae25e9f01839",
   "metadata": {},
   "outputs": [],
   "source": []
  },
  {
   "cell_type": "code",
   "execution_count": null,
   "id": "89b0f739-90d9-4f4a-8f4a-bdeb786abb6f",
   "metadata": {},
   "outputs": [],
   "source": []
  },
  {
   "cell_type": "code",
   "execution_count": null,
   "id": "aee5c42a-ca9f-4887-80ca-10c7562306cf",
   "metadata": {},
   "outputs": [],
   "source": []
  },
  {
   "cell_type": "code",
   "execution_count": null,
   "id": "60982bed-a3f2-460b-a9cc-6c2a8d43fa17",
   "metadata": {},
   "outputs": [],
   "source": []
  },
  {
   "cell_type": "code",
   "execution_count": null,
   "id": "79b9db09-e8da-46ed-baa4-6ab258d44429",
   "metadata": {},
   "outputs": [],
   "source": []
  },
  {
   "cell_type": "code",
   "execution_count": null,
   "id": "f57a0582-0305-40c5-80c8-c810c0116bb1",
   "metadata": {},
   "outputs": [],
   "source": []
  },
  {
   "cell_type": "code",
   "execution_count": null,
   "id": "e0520e03-df21-413a-ac0f-22ce2d12aba7",
   "metadata": {},
   "outputs": [],
   "source": []
  },
  {
   "cell_type": "code",
   "execution_count": null,
   "id": "0755468a-7433-477d-b102-d0455902ed63",
   "metadata": {},
   "outputs": [],
   "source": []
  },
  {
   "cell_type": "code",
   "execution_count": null,
   "id": "fc03e0df-153f-45ef-8942-b2afd463b3d0",
   "metadata": {},
   "outputs": [],
   "source": []
  },
  {
   "cell_type": "code",
   "execution_count": null,
   "id": "5bb8f380-4bee-47ba-b14a-e71255fdf3de",
   "metadata": {},
   "outputs": [],
   "source": []
  },
  {
   "cell_type": "code",
   "execution_count": null,
   "id": "cd2a1039-adba-4931-8a9e-19ef9ad4cde6",
   "metadata": {},
   "outputs": [],
   "source": []
  },
  {
   "cell_type": "code",
   "execution_count": null,
   "id": "d50bbcdc-aa6c-4577-b396-c36608bbcfbb",
   "metadata": {},
   "outputs": [],
   "source": []
  },
  {
   "cell_type": "code",
   "execution_count": null,
   "id": "a540b6e9-bd34-418f-8e86-3227f56537c2",
   "metadata": {},
   "outputs": [],
   "source": []
  },
  {
   "cell_type": "code",
   "execution_count": null,
   "id": "18e26ea8-9419-45b6-b2d2-ea7377aa4d6f",
   "metadata": {},
   "outputs": [],
   "source": []
  },
  {
   "cell_type": "code",
   "execution_count": null,
   "id": "e5601d21-6ec6-4f3f-9ca0-96c57db8da41",
   "metadata": {},
   "outputs": [],
   "source": []
  },
  {
   "cell_type": "code",
   "execution_count": null,
   "id": "483a0213-a0b9-410a-835b-036bed1ac61c",
   "metadata": {},
   "outputs": [],
   "source": []
  },
  {
   "cell_type": "code",
   "execution_count": null,
   "id": "d8f9d65b-ab53-4c8e-b90b-08458ee651cb",
   "metadata": {},
   "outputs": [],
   "source": []
  },
  {
   "cell_type": "code",
   "execution_count": null,
   "id": "662fbf6d-4827-473f-ad3a-57743b467b62",
   "metadata": {},
   "outputs": [],
   "source": []
  },
  {
   "cell_type": "code",
   "execution_count": null,
   "id": "48d455c5-a114-4d44-a085-96fdd92f3671",
   "metadata": {},
   "outputs": [],
   "source": []
  }
 ],
 "metadata": {
  "kernelspec": {
   "display_name": "Python 3 (ipykernel)",
   "language": "python",
   "name": "python3"
  },
  "language_info": {
   "codemirror_mode": {
    "name": "ipython",
    "version": 3
   },
   "file_extension": ".py",
   "mimetype": "text/x-python",
   "name": "python",
   "nbconvert_exporter": "python",
   "pygments_lexer": "ipython3",
   "version": "3.11.7"
  }
 },
 "nbformat": 4,
 "nbformat_minor": 5
}
